{
  "nbformat": 4,
  "nbformat_minor": 0,
  "metadata": {
    "kernelspec": {
      "display_name": "Python 3",
      "language": "python",
      "name": "python3"
    },
    "language_info": {
      "codemirror_mode": {
        "name": "ipython",
        "version": 3
      },
      "file_extension": ".py",
      "mimetype": "text/x-python",
      "name": "python",
      "nbconvert_exporter": "python",
      "pygments_lexer": "ipython3",
      "version": "3.6.9"
    },
    "colab": {
      "name": "최종-데이터 전처리.ipynb",
      "provenance": [],
      "include_colab_link": true
    }
  },
  "cells": [
    {
      "cell_type": "markdown",
      "metadata": {
        "id": "view-in-github",
        "colab_type": "text"
      },
      "source": [
        "<a href=\"https://colab.research.google.com/github/tjdrhks0808/Project-Child_Road_Accident/blob/main/Osan_Data_Preprocessing.ipynb\" target=\"_parent\"><img src=\"https://colab.research.google.com/assets/colab-badge.svg\" alt=\"Open In Colab\"/></a>"
      ]
    },
    {
      "cell_type": "markdown",
      "metadata": {
        "id": "4rqYb8z11Wnp"
      },
      "source": [
        "# 데이터 전처리"
      ]
    },
    {
      "cell_type": "markdown",
      "metadata": {
        "id": "1aSWubuk1Wnv"
      },
      "source": [
        "## import 및 데이터 불러오기"
      ]
    },
    {
      "cell_type": "code",
      "metadata": {
        "id": "fO5MVlg61Wnw"
      },
      "source": [
        "from geoband.API import *\n",
        "\n",
        "import pandas as pd\n",
        "import numpy as np\n",
        "import matplotlib.pyplot as plt\n",
        "import folium\n",
        "import json\n",
        "import geopandas as gpd\n",
        "from shapely.geometry import Point, Polygon, LineString\n",
        "\n",
        "import pydeck as pdk\n",
        "import shapefile\n",
        "import os\n"
      ],
      "execution_count": null,
      "outputs": []
    },
    {
      "cell_type": "code",
      "metadata": {
        "id": "L_bjJSSL1Wnx"
      },
      "source": [
        "#GetCompasData('SBJ_2012_001', '1', '1.오산시_주정차단속(2018~2020).csv')\n",
        "#GetCompasData('SBJ_2012_001', '2', '2.오산시_어린이교통사고_격자.geojson')\n",
        "#GetCompasData('SBJ_2012_001', '3', '3.오산시_차량등록현황_격자.geojson')\n",
        "#GetCompasData('SBJ_2012_001', '4', '4.오산시_연령별_거주인구격자(총인구).geojson')\n",
        "#GetCompasData('SBJ_2012_001', '5', '5.오산시_연령별_거주인구격자(유소년).geojson')\n",
        "#GetCompasData('SBJ_2012_001', '6', '6.오산시_연령별_거주인구격자(생산가능인구).geojson')\n",
        "#GetCompasData('SBJ_2012_001', '7', '7.오산시_연령별_거주인구격자(고령).geojson')\n",
        "#GetCompasData('SBJ_2012_001', '8', '8.오산시_유동인구(2019).csv')\n",
        "#GetCompasData('SBJ_2012_001', '9', '9.오산시_어린이보호구역.csv')\n",
        "#GetCompasData('SBJ_2012_001', '10', '10.오산시_학교위치정보.csv')\n",
        "#GetCompasData('SBJ_2012_001', '11', '11.오산시_초등학교_통학구.geojson')\n",
        "#GetCompasData('SBJ_2012_001', '12', '12.오산시_중학교_학군.geojson')\n",
        "#GetCompasData('SBJ_2012_001', '13', '13.오산시_어린이집_유치원현황.csv')\n",
        "#GetCompasData('SBJ_2012_001', '14', '14.오산시_기상데이터(2010~2019).csv')\n",
        "#GetCompasData('SBJ_2012_001', '15', '15.오산시_무인교통단속카메라.csv')\n",
        "#GetCompasData('SBJ_2012_001', '16', '16.오산시_도로안전표지표준데이터.csv')\n",
        "#GetCompasData('SBJ_2012_001', '17', '17.오산시_횡단보도.geojson')\n",
        "#GetCompasData('SBJ_2012_001', '18', '18.오산시_과속방지턱표준데이터.csv')\n",
        "#GetCompasData('SBJ_2012_001', '19', '19.오산시_신호등.geojson')\n",
        "#GetCompasData('SBJ_2012_001', '20', '20.오산시_CCTV설치현황.csv')\n",
        "#GetCompasData('SBJ_2012_001', '21', '21.오산시_인도.geojson')\n",
        "#GetCompasData('SBJ_2012_001', '22', '22.오산시_버스정류장.csv')\n",
        "#GetCompasData('SBJ_2012_001', '23', '23.오산시_상세도로망_LV6.geojson')\n",
        "#GetCompasData('SBJ_2012_001', '24', '24.평일_전일,시간대별_오산시_추정교통량_Level6.csv')\n",
        "#GetCompasData('SBJ_2012_001', '25', '25.평일_전일_오산시_혼잡빈도강도_Level6.csv')\n",
        "#GetCompasData('SBJ_2012_001', '26', '26.평일_전일_오산시_혼잡시간강도_Level6.csv')\n",
        "#GetCompasData('SBJ_2012_001', '27', '27.오산시_도로명주소_건물.geojson')\n",
        "#GetCompasData('SBJ_2012_001', '28', '28.오산시_건물연면적_격자.geojson')\n",
        "#GetCompasData('SBJ_2012_001', '29', '29.오산시_체육시설현황.csv')\n",
        "#GetCompasData('SBJ_2012_001', '30', '30.오산시_학원_및_교습소_현황.csv')\n",
        "#GetCompasData('SBJ_2012_001', '31', '31.오산시_법정경계(시군구).geojson')\n",
        "#GetCompasData('SBJ_2012_001', '32', '32.오산시_행정경계(읍면동).geojson')\n",
        "#GetCompasData('SBJ_2012_001', '33', '33.오산시_법정경계(읍면동).geojson')\n",
        "#GetCompasData('SBJ_2012_001', '34', '34.오산시_지적도.geojson')\n",
        "#GetCompasData('SBJ_2012_001', '35', '35.코드정의서.xlsx')"
      ],
      "execution_count": null,
      "outputs": []
    },
    {
      "cell_type": "code",
      "metadata": {
        "id": "GuuMa18a1Wnx",
        "outputId": "457e407b-74b0-4698-fbcc-bf973802a6e6"
      },
      "source": [
        "data1 = pd.read_csv('1.오산시_주정차단속(2018~2020).csv')\n",
        "data2 = gpd.read_file('2.오산시_어린이교통사고_격자.geojson')\n",
        "data3 = gpd.read_file('3.오산시_차량등록현황_격자.geojson')\n",
        "data4 = gpd.read_file('4.오산시_연령별_거주인구격자(총인구).geojson')\n",
        "data5 = gpd.read_file('5.오산시_연령별_거주인구격자(유소년).geojson')\n",
        "data6 = gpd.read_file('6.오산시_연령별_거주인구격자(생산가능인구).geojson')\n",
        "data7 = gpd.read_file('7.오산시_연령별_거주인구격자(고령).geojson')\n",
        "data8 = pd.read_csv('8.오산시_유동인구(2019).csv')\n",
        "data9 = pd.read_csv('9.오산시_어린이보호구역.csv')\n",
        "data10 = pd.read_csv('10.오산시_학교위치정보.csv')\n",
        "data11 = gpd.read_file('11.오산시_초등학교_통학구.geojson')\n",
        "data12 = gpd.read_file('12.오산시_중학교_학군.geojson')\n",
        "data13 = pd.read_csv('13.오산시_어린이집_유치원현황.csv')\n",
        "data14 = pd.read_csv('14.오산시_기상데이터(2010~2019).csv')\n",
        "data15 = pd.read_csv('15.오산시_무인교통단속카메라.csv')\n",
        "data16 = pd.read_csv('16.오산시_도로안전표지표준데이터.csv')\n",
        "data17 = gpd.read_file('17.오산시_횡단보도.geojson')\n",
        "data18 = pd.read_csv('18.오산시_과속방지턱표준데이터.csv')\n",
        "data19 = gpd.read_file('19.오산시_신호등.geojson')\n",
        "data20 = pd.read_csv('20.오산시_CCTV설치현황.csv')\n",
        "data21 = gpd.read_file('21.오산시_인도.geojson')\n",
        "data22 = pd.read_csv('22.오산시_버스정류장.csv')\n",
        "data23 = gpd.read_file('23.오산시_상세도로망_LV6.geojson')\n",
        "data24 = pd.read_csv('24.평일_전일,시간대별_오산시_추정교통량_Level6.csv')\n",
        "data25 = pd.read_csv('25.평일_전일_오산시_혼잡빈도강도_Level6.csv')\n",
        "data26 = pd.read_csv('26.평일_전일_오산시_혼잡시간강도_Level6.csv')\n",
        "data27 = gpd.read_file('27.오산시_도로명주소_건물.geojson')\n",
        "data28 = gpd.read_file('28.오산시_건물연면적_격자.geojson')\n",
        "data29 = pd.read_csv('29.오산시_체육시설현황.csv')\n",
        "data30 = pd.read_csv('30.오산시_학원_및_교습소_현황.csv')\n",
        "data31 = gpd.read_file('31.오산시_법정경계(시군구).geojson')\n",
        "data32 = gpd.read_file('32.오산시_행정경계(읍면동).geojson')\n",
        "data33 = gpd.read_file('33.오산시_법정경계(읍면동).geojson')\n",
        "data34 = gpd.read_file('34.오산시_지적도.geojson')\n",
        "#data35 = pd.read_excel('35.코드정의서.xlsx')"
      ],
      "execution_count": null,
      "outputs": [
        {
          "output_type": "stream",
          "text": [
            "/opt/app-root/lib/python3.6/site-packages/IPython/core/interactiveshell.py:3072: DtypeWarning: Columns (7) have mixed types.Specify dtype option on import or set low_memory=False.\n",
            "  interactivity=interactivity, compiler=compiler, result=result)\n"
          ],
          "name": "stderr"
        }
      ]
    },
    {
      "cell_type": "markdown",
      "metadata": {
        "id": "S2-Svk9F1Wnz"
      },
      "source": [
        "## 전처리"
      ]
    },
    {
      "cell_type": "markdown",
      "metadata": {
        "id": "ykvnIxTE1Wnz"
      },
      "source": [
        "### 새롭게 정의할 변수: 사고횟수_가중치"
      ]
    },
    {
      "cell_type": "code",
      "metadata": {
        "id": "b4ZbNa-X1Wnz"
      },
      "source": [
        "# 4510개의 격자별로 사고횟수_가중치를 측정\n",
        "\n",
        "df1 = data2.copy()       # df1은 해당 격자의 중심점에서 40 / 120 / 200m 반경으로 위치 정보 바꾼 데이터\n",
        "temp1 = data2.copy()     # 4510개의 격자별로 사고횟수_가중치를 측정할 데이터\n",
        "\n",
        "acc100 = []\n",
        "acc300 = []\n",
        "acc500 = []\n",
        "\n",
        "# acc100은 '해당 격자의 중심점에서 그린 40m 반경'이(해당 격자만 포함됨) 포함하는 격자에 '반경을 그린 격자의 사고횟수' 를 할당\n",
        "# acc300은 '해당 격자의 중심점에서 그린 1200m 반경'이(해당 격자 주변 1칸 포함) 포함하는 격자에 '반경을 그린 격자의 사고횟수' 를 할당\n",
        "# acc500은 '해당 격자의 중심점에서 그린 2000m 반경'이(해당 격자 주변 2칸 포함) 포함하는 격자에 '반경을 그린 격자의 사고횟수' 를 할당"
      ],
      "execution_count": null,
      "outputs": []
    },
    {
      "cell_type": "code",
      "metadata": {
        "scrolled": true,
        "id": "XOA4mgr31Wn0",
        "outputId": "324f5a6e-207e-43bc-fb72-bf3b495287d1"
      },
      "source": [
        "# acc100 만들기\n",
        "\n",
        "df1.geometry = df1.geometry.centroid.buffer(0.0004)\n",
        "\n",
        "for i in range(len(temp1)):\n",
        "    temp = sum(df1.loc[np.where(df1.geometry.intersects(temp1.geometry[i])==True)[0], 'accident_cnt']) #temp는 격자 기준으로 사고발생격자의\n",
        "    acc100.append(temp)                                                                                 # 40m buffer와 겹쳐지는 사고횟수의 합"
      ],
      "execution_count": null,
      "outputs": [
        {
          "output_type": "stream",
          "text": [
            "/opt/app-root/lib/python3.6/site-packages/ipykernel_launcher.py:3: UserWarning: Geometry is in a geographic CRS. Results from 'centroid' are likely incorrect. Use 'GeoSeries.to_crs()' to re-project geometries to a projected CRS before this operation.\n",
            "\n",
            "  This is separate from the ipykernel package so we can avoid doing imports until\n",
            "/opt/app-root/lib/python3.6/site-packages/ipykernel_launcher.py:3: UserWarning: Geometry is in a geographic CRS. Results from 'buffer' are likely incorrect. Use 'GeoSeries.to_crs()' to re-project geometries to a projected CRS before this operation.\n",
            "\n",
            "  This is separate from the ipykernel package so we can avoid doing imports until\n"
          ],
          "name": "stderr"
        }
      ]
    },
    {
      "cell_type": "code",
      "metadata": {
        "id": "dl49c-K81Wn0",
        "outputId": "0827ce78-9c11-496a-d616-e3c3bb846420"
      },
      "source": [
        "# acc300 만들기\n",
        "\n",
        "df1.geometry = df1.geometry.centroid.buffer(0.0012)\n",
        "\n",
        "for i in range(len(temp1)):\n",
        "    temp = sum(df1.loc[np.where(df1.geometry.intersects(temp1.geometry[i])==True)[0], 'accident_cnt']) #temp는 격자 기준으로 사고발생격자의\n",
        "    acc300.append(temp)                                                                                 # 120m buffer와 겹쳐지는 사고횟수의 합"
      ],
      "execution_count": null,
      "outputs": [
        {
          "output_type": "stream",
          "text": [
            "/opt/app-root/lib/python3.6/site-packages/ipykernel_launcher.py:3: UserWarning: Geometry is in a geographic CRS. Results from 'centroid' are likely incorrect. Use 'GeoSeries.to_crs()' to re-project geometries to a projected CRS before this operation.\n",
            "\n",
            "  This is separate from the ipykernel package so we can avoid doing imports until\n",
            "/opt/app-root/lib/python3.6/site-packages/ipykernel_launcher.py:3: UserWarning: Geometry is in a geographic CRS. Results from 'buffer' are likely incorrect. Use 'GeoSeries.to_crs()' to re-project geometries to a projected CRS before this operation.\n",
            "\n",
            "  This is separate from the ipykernel package so we can avoid doing imports until\n"
          ],
          "name": "stderr"
        }
      ]
    },
    {
      "cell_type": "code",
      "metadata": {
        "id": "KnISNqR11Wn0",
        "outputId": "06698b0e-5e58-4566-c94d-09bcb7636d1f"
      },
      "source": [
        "# acc500 만들기\n",
        "\n",
        "df1.geometry = df1.geometry.centroid.buffer(0.0020)\n",
        "\n",
        "for i in range(len(temp1)):\n",
        "    temp = sum(df1.loc[np.where(df1.geometry.intersects(temp1.geometry[i])==True)[0], 'accident_cnt']) #temp는 격자 기준으로 사고발생격자의\n",
        "    acc500.append(temp)                                                                                 # 200m buffer와 겹쳐지는 사고횟수의 합"
      ],
      "execution_count": null,
      "outputs": [
        {
          "output_type": "stream",
          "text": [
            "/opt/app-root/lib/python3.6/site-packages/ipykernel_launcher.py:3: UserWarning: Geometry is in a geographic CRS. Results from 'centroid' are likely incorrect. Use 'GeoSeries.to_crs()' to re-project geometries to a projected CRS before this operation.\n",
            "\n",
            "  This is separate from the ipykernel package so we can avoid doing imports until\n",
            "/opt/app-root/lib/python3.6/site-packages/ipykernel_launcher.py:3: UserWarning: Geometry is in a geographic CRS. Results from 'buffer' are likely incorrect. Use 'GeoSeries.to_crs()' to re-project geometries to a projected CRS before this operation.\n",
            "\n",
            "  This is separate from the ipykernel package so we can avoid doing imports until\n"
          ],
          "name": "stderr"
        }
      ]
    },
    {
      "cell_type": "code",
      "metadata": {
        "id": "nKgY-U7A1Wn1"
      },
      "source": [
        "# acc_buf는 기준 데이터와 병합할 데이터\n",
        "\n",
        "temp1['사고횟수_가중치'] = (np.array(acc100)*0.5) + (np.array(acc300)*0.3) + (np.array(acc500)*0.2)\n",
        "\n",
        "acc_buf = temp1.loc[:, ['gid', '사고횟수_가중치']]"
      ],
      "execution_count": null,
      "outputs": []
    },
    {
      "cell_type": "markdown",
      "metadata": {
        "id": "MwK_w7171Wn1"
      },
      "source": [
        "### join 할 데이터: 9번 오산시_어린이보호구역"
      ]
    },
    {
      "cell_type": "code",
      "metadata": {
        "id": "eJCfOOB41Wn1",
        "outputId": "ccb7e16a-ac69-4ecd-9252-cfe8c4259e1a"
      },
      "source": [
        "# 어린이보호구역 좌표 반경 300m로 데이터 변환\n",
        "\n",
        "df1 = data9.copy()\n",
        "\n",
        "df1 = df1[['시설종류','시설명','보호구역_경도','보호구역_위도']]\n",
        "df1.보호구역_경도 = df1.보호구역_경도.astype(float)\n",
        "df1.보호구역_위도 = df1.보호구역_위도.astype(float)\n",
        "df1['geometry'] = df1.apply(lambda row : Point([row['보호구역_경도'], row['보호구역_위도']]), axis=1)   # df1에 geometry 열을 만들어 위경도를 point 객체로 저장\n",
        "df1 = gpd.GeoDataFrame(df1, geometry='geometry')                                                         # df1을 geodataframe 타입으로 저장\n",
        "df1.geometry = df1.geometry.buffer(0.003)                                                                # df1 geometry열에 point 대신 300m 반경 poligon객체로 바꿈\n",
        "df1.crs = {'init':'epsg:4326'}                                                                           # 좌표계를 epsg 4326으로 설정\n",
        "df1 = df1.to_crs({'init':'epsg:4326'})\n",
        "\n",
        "# df1는 data9의 각 포인트를 반경 300m 구역으로 변환한 geodataframe\n",
        "\n",
        "## 위,경도를 미터법으로 변환한 과정\n",
        "# 위도 30도 -> 위도 1도 : 110.852km / 경도 1도 : 94.486km\n",
        "# 위도 45도 -> 위도 1도 : 111.132km / 경도 1도 : 78.847km\n",
        "# 위도마다 거리 계산법이 다르고, 위도의 1도와 경도의 1도도 거리 계산법이 다름\n",
        "# 편의를 위해 37도 부근에서 위도 1도 : 111km / 경도 1도 : 87km 로 계산함\n",
        "# 위도와 경도의 1도를 km로 변환하려면 타원을 도입해야하지만 복잡하기에\n",
        "# 위도 37도 부근에서 위도와 경도의 1도를 평균하여 약 100km로 설정\n",
        "# 따라서 위도와 경도의 1도는 100km이고 [ 0.001도 = 100m ] 를 buffer에 적용함"
      ],
      "execution_count": null,
      "outputs": [
        {
          "output_type": "stream",
          "text": [
            "/opt/app-root/lib/python3.6/site-packages/pyproj/crs/crs.py:53: FutureWarning: '+init=<authority>:<code>' syntax is deprecated. '<authority>:<code>' is the preferred initialization method. When making the change, be mindful of axis order changes: https://pyproj4.github.io/pyproj/stable/gotchas.html#axis-order-changes-in-proj-6\n",
            "  return _prepare_from_string(\" \".join(pjargs))\n"
          ],
          "name": "stderr"
        }
      ]
    },
    {
      "cell_type": "code",
      "metadata": {
        "id": "Byv72MGr1Wn1"
      },
      "source": [
        "# 4510개의 격자별로 지정된 스쿨존 300m 반경이 몇번 겹치는 지 측정\n",
        "\n",
        "temp1 = data2.copy()\n",
        "temp1 = temp1.loc[:, ['gid', 'geometry']]\n",
        "\n",
        "schzone_num = []\n",
        "\n",
        "for i in range(len(temp1)):\n",
        "    schzone_num.append(sum(df1.geometry.intersects(temp1.geometry[i])))"
      ],
      "execution_count": null,
      "outputs": []
    },
    {
      "cell_type": "code",
      "metadata": {
        "id": "3EMnFCNw1Wn2"
      },
      "source": [
        "# schzone은 기준 데이터와 병합할 데이터\n",
        "\n",
        "temp1['스쿨존'] = schzone_num\n",
        "\n",
        "schzone = temp1.loc[:, ['gid', '스쿨존']]"
      ],
      "execution_count": null,
      "outputs": []
    },
    {
      "cell_type": "markdown",
      "metadata": {
        "id": "1wwss1QN1Wn2"
      },
      "source": [
        "### join 할 데이터 : 10번 오산시_학교위치정보"
      ]
    },
    {
      "cell_type": "code",
      "metadata": {
        "id": "IzSCZt9W1Wn2"
      },
      "source": [
        "# 4510개의 격자별로 초등학교 100/300/500m 반경이 몇번 겹치는 지 측정\n",
        "\n",
        "temp1 = data2.copy()\n",
        "temp1 = temp1.loc[:, ['gid', 'geometry']]\n",
        "\n",
        "school_100 = []\n",
        "school_300 = []\n",
        "school_500 = []"
      ],
      "execution_count": null,
      "outputs": []
    },
    {
      "cell_type": "code",
      "metadata": {
        "id": "pJBxPLMg1Wn2"
      },
      "source": [
        "# school_100 만들기\n",
        "\n",
        "df1 = data10.copy()\n",
        "\n",
        "df1 = df1[df1.학교구분 == '초등학교']                      # 초등학교만 select\n",
        "df1.학교위치_경도 = df1.학교위치_경도.astype(float)\n",
        "df1.학교위치_위도 = df1.학교위치_위도.astype(float)\n",
        "df1['geometry'] = df1.apply(lambda row : Point([row['학교위치_경도'], row['학교위치_위도']]), axis=1)\n",
        "df1 = gpd.GeoDataFrame(df1, geometry='geometry')\n",
        "df1.geometry = df1.geometry.buffer(0.001)                  # 학교 주변 100m 반경\n",
        "df1.crs = {'init':'epsg:4326'}\n",
        "df1 = df1.to_crs({'init':'epsg:4326'})\n",
        "\n",
        "# df1는 data10의 각 포인트를 반경 100m 구역으로 변환한 geodataframe\n",
        "\n",
        "for i in range(len(temp1)):\n",
        "    school_100.append(sum(df1.geometry.intersects(temp1.geometry[i])))"
      ],
      "execution_count": null,
      "outputs": []
    },
    {
      "cell_type": "code",
      "metadata": {
        "id": "BcFrege51Wn3"
      },
      "source": [
        "# school_300 만들기\n",
        "\n",
        "df1 = data10.copy()\n",
        "\n",
        "df1 = df1[df1.학교구분 == '초등학교']                      # 초등학교만 select\n",
        "df1.학교위치_경도 = df1.학교위치_경도.astype(float)\n",
        "df1.학교위치_위도 = df1.학교위치_위도.astype(float)\n",
        "df1['geometry'] = df1.apply(lambda row : Point([row['학교위치_경도'], row['학교위치_위도']]), axis=1)\n",
        "df1 = gpd.GeoDataFrame(df1, geometry='geometry')\n",
        "df1.geometry = df1.geometry.buffer(0.003)                  # 학교 주변 300m 반경\n",
        "df1.crs = {'init':'epsg:4326'}\n",
        "df1 = df1.to_crs({'init':'epsg:4326'})\n",
        "\n",
        "# df1는 data10의 각 포인트를 반경 300m 구역으로 변환한 geodataframe\n",
        "\n",
        "for i in range(len(temp1)):\n",
        "    school_300.append(sum(df1.geometry.intersects(temp1.geometry[i])))"
      ],
      "execution_count": null,
      "outputs": []
    },
    {
      "cell_type": "code",
      "metadata": {
        "id": "qtUqiwt21Wn3"
      },
      "source": [
        "# school_500 만들기\n",
        "\n",
        "df1 = data10.copy()\n",
        "\n",
        "df1 = df1[df1.학교구분 == '초등학교']                      # 초등학교만 select\n",
        "df1.학교위치_경도 = df1.학교위치_경도.astype(float)\n",
        "df1.학교위치_위도 = df1.학교위치_위도.astype(float)\n",
        "df1['geometry'] = df1.apply(lambda row : Point([row['학교위치_경도'], row['학교위치_위도']]), axis=1)\n",
        "df1 = gpd.GeoDataFrame(df1, geometry='geometry')\n",
        "df1.geometry = df1.geometry.buffer(0.005)                  # 학교 주변 500m 반경\n",
        "df1.crs = {'init':'epsg:4326'}\n",
        "df1 = df1.to_crs({'init':'epsg:4326'})\n",
        "\n",
        "# df1는 data10의 각 포인트를 반경 500m 구역으로 변환한 geodataframe\n",
        "\n",
        "for i in range(len(temp1)):\n",
        "    school_500.append(sum(df1.geometry.intersects(temp1.geometry[i])))"
      ],
      "execution_count": null,
      "outputs": []
    },
    {
      "cell_type": "code",
      "metadata": {
        "id": "efpw7cM41Wn3"
      },
      "source": [
        "# elementary는 기준 데이터와 병합할 데이터\n",
        "\n",
        "temp1['초등학교_100m'] = school_100\n",
        "temp1['초등학교_300m'] = school_300\n",
        "temp1['초등학교_500m'] = school_500\n",
        "temp1['초등학교_가중치'] = temp1.초등학교_100m*0.5 + temp1.초등학교_300m*0.3 + temp1.초등학교_500m*0.2\n",
        "\n",
        "elementary = temp1.loc[:, ['gid', '초등학교_100m', '초등학교_300m', '초등학교_500m', '초등학교_가중치']]\n",
        "\n",
        "# 초등학교_가중치는 격자별로 해당 격자가 초등학교 반경 100m 안에 포함될 경우 -> 1\n",
        "#                                               100m ~ 300m 안에 포함될 경우 -> 0.5\n",
        "#                                               300m ~ 500m 안에 포함될 경우 -> 0.2"
      ],
      "execution_count": null,
      "outputs": []
    },
    {
      "cell_type": "markdown",
      "metadata": {
        "id": "X07Epwft1Wn3"
      },
      "source": [
        "### join 할 데이터 : 13번 오산시_어린이집_유치원현황"
      ]
    },
    {
      "cell_type": "code",
      "metadata": {
        "id": "lX7Ev5_J1Wn3"
      },
      "source": [
        "# 4510개의 격자별로 유치원 100/300/500m 반경이 몇번 겹치는 지 측정\n",
        "\n",
        "temp1 = data2.copy()\n",
        "temp1 = temp1.loc[:, ['gid', 'geometry']]\n",
        "\n",
        "kgd_100 = []\n",
        "kgd_300 = []\n",
        "kgd_500 = []"
      ],
      "execution_count": null,
      "outputs": []
    },
    {
      "cell_type": "code",
      "metadata": {
        "id": "qW9l95jx1Wn4"
      },
      "source": [
        "# kgd_100 만들기\n",
        "\n",
        "df1 = data13.copy()\n",
        "\n",
        "df1.시설위치_경도 = df1.시설위치_경도.astype(float)\n",
        "df1.시설위치_위도 = df1.시설위치_위도.astype(float)\n",
        "df1['geometry'] = df1.apply(lambda row : Point([row['시설위치_경도'], row['시설위치_위도']]), axis=1)\n",
        "df1 = gpd.GeoDataFrame(df1, geometry='geometry')\n",
        "df1.geometry = df1.geometry.buffer(0.001)          # 시설 주변 100m 반경\n",
        "df1.crs = {'init':'epsg:4326'}\n",
        "df1 = df1.to_crs({'init':'epsg:4326'})\n",
        "\n",
        "# df1는 data13의 각 포인트를 반경 100m 구역으로 변환한 geodataframe\n",
        "\n",
        "for i in range(len(temp1)):\n",
        "    kgd_100.append(sum(df1.geometry.intersects(temp1.geometry[i])))"
      ],
      "execution_count": null,
      "outputs": []
    },
    {
      "cell_type": "code",
      "metadata": {
        "id": "S0PynxBY1Wn4"
      },
      "source": [
        "# kgd_300 만들기\n",
        "\n",
        "df1 = data13.copy()\n",
        "\n",
        "df1.시설위치_경도 = df1.시설위치_경도.astype(float)\n",
        "df1.시설위치_위도 = df1.시설위치_위도.astype(float)\n",
        "df1['geometry'] = df1.apply(lambda row : Point([row['시설위치_경도'], row['시설위치_위도']]), axis=1)\n",
        "df1 = gpd.GeoDataFrame(df1, geometry='geometry')\n",
        "df1.geometry = df1.geometry.buffer(0.003)          # 시설 주변 300m 반경\n",
        "df1.crs = {'init':'epsg:4326'}\n",
        "df1 = df1.to_crs({'init':'epsg:4326'})\n",
        "\n",
        "# df1는 data13의 각 포인트를 반경 300m 구역으로 변환한 geodataframe\n",
        "\n",
        "for i in range(len(temp1)):\n",
        "    kgd_300.append(sum(df1.geometry.intersects(temp1.geometry[i])))"
      ],
      "execution_count": null,
      "outputs": []
    },
    {
      "cell_type": "code",
      "metadata": {
        "id": "tQSHp-am1Wn5"
      },
      "source": [
        "# kgd_500 만들기\n",
        "\n",
        "df1 = data13.copy()\n",
        "\n",
        "df1.시설위치_경도 = df1.시설위치_경도.astype(float)\n",
        "df1.시설위치_위도 = df1.시설위치_위도.astype(float)\n",
        "df1['geometry'] = df1.apply(lambda row : Point([row['시설위치_경도'], row['시설위치_위도']]), axis=1)\n",
        "df1 = gpd.GeoDataFrame(df1, geometry='geometry')\n",
        "df1.geometry = df1.geometry.buffer(0.005)          # 시설 주변 500m 반경\n",
        "df1.crs = {'init':'epsg:4326'}\n",
        "df1 = df1.to_crs({'init':'epsg:4326'})\n",
        "\n",
        "# df1는 data13의 각 포인트를 반경 100m 구역으로 변환한 geodataframe\n",
        "\n",
        "for i in range(len(temp1)):\n",
        "    kgd_500.append(sum(df1.geometry.intersects(temp1.geometry[i])))"
      ],
      "execution_count": null,
      "outputs": []
    },
    {
      "cell_type": "code",
      "metadata": {
        "id": "ZYuWbr321Wn5"
      },
      "source": [
        "# kindergarden은 기준 데이터와 병합할 데이터\n",
        "\n",
        "temp1['유치원_100m'] = kgd_100\n",
        "temp1['유치원_300m'] = kgd_300\n",
        "temp1['유치원_500m'] = kgd_500\n",
        "temp1['유치원_가중치'] = temp1.유치원_100m*0.5 + temp1.유치원_300m*0.3 + temp1.유치원_500m*0.2\n",
        "\n",
        "kindergarden = temp1.loc[:, ['gid', '유치원_100m', '유치원_300m', '유치원_500m', '유치원_가중치']]\n",
        "\n",
        "# 유치원_가중치는 격자별로 해당 격자가 유치원 반경 100m 안에 포함될 경우 -> 1\n",
        "#                                           100m ~ 300m 안에 포함될 경우 -> 0.5\n",
        "#                                           300m ~ 500m 안에 포함될 경우 -> 0.2"
      ],
      "execution_count": null,
      "outputs": []
    },
    {
      "cell_type": "markdown",
      "metadata": {
        "id": "kKNDCFWL1Wn5"
      },
      "source": [
        "### join 할 데이터 : 17번 오산시_횡단보도"
      ]
    },
    {
      "cell_type": "code",
      "metadata": {
        "id": "OBfHjx6G1Wn5"
      },
      "source": [
        "# 4510개의 격자별로 포함하는 횡단보도 면적 측정\n",
        "\n",
        "df1 = data17.copy()\n",
        "\n",
        "crosswalk_size = []\n",
        "crosswalk_area = []\n",
        "\n",
        "# crosswalk_size 는 각 격자와 겹쳐지는 횡단보도의 전체(횡단보도 전체) 면적 계산\n",
        "# 횡단보도가 격자를 넘어가도라도 횡단보도의 크기를 계산하기 위해 횡단보도 전체 면적의 합을 계산\n",
        "# 따라서 횡단보도가 여러 격자에 걸쳐있는 경우 중복되어 격자에 계산되었음\n",
        "\n",
        "# crosswalk_area 는 각 격자와 겹쳐지는 횡단보도만의(횡단보도 일부) 면적 계산"
      ],
      "execution_count": null,
      "outputs": []
    },
    {
      "cell_type": "code",
      "metadata": {
        "id": "qoaY8d3V1Wn5"
      },
      "source": [
        "# crosswalk_size 만들기\n",
        "\n",
        "temp1 = data2.copy()\n",
        "temp1 = temp1.loc[:, ['gid', 'geometry']]\n",
        "\n",
        "for i in range(len(temp1)):\n",
        "    area_i = sum([x.area for x in df1.geometry if x.intersects(temp1.geometry[i])==True])\n",
        "    crosswalk_size.append(area_i)\n",
        "    \n",
        "# df1.geometry.intersects(temp1.geometry[i]) # 1~1205개의 횡단보도가 i번째 격자와 겹치는가 -> [T, F, T, T, F, F, ....]\n",
        "# [x for x in df1.geometry if x.intersects(temp1.geometry[i])==True] # i번째 격자와 겹치는 횡단보도 geometry를 전부 모은 리스트\n",
        "# [x.area for x in df1.geometry if x.intersects(temp1.geometry[i])==True] # i번째 격자와 겹치는 횡단보도 geometry의 면적을 전부 모은 리스트"
      ],
      "execution_count": null,
      "outputs": []
    },
    {
      "cell_type": "code",
      "metadata": {
        "id": "_FVnhIoQ1Wn6",
        "outputId": "879c66b9-af3b-4812-d419-85cb14e73c76"
      },
      "source": [
        "# crosswalk_area 만들기\n",
        "\n",
        "for i in range(len(temp1)):\n",
        "    area_i = sum(df1.geometry.intersection(temp1.geometry[i]).area)   # area_i는 i번째 격자가 포함하는 횡단보도의 면적 합\n",
        "    crosswalk_area.append(area_i)\n",
        "    \n",
        "# temp1.geometry[i] 는 i번째 격자의 mulipoligon\n",
        "# df1.geometry.intersection(temp1.geometry[i]) # i번째 격자와 1~1205번째의 횡단보다 각각의 겹치는 부분의 리스트화 "
      ],
      "execution_count": null,
      "outputs": [
        {
          "output_type": "stream",
          "text": [
            "/opt/app-root/lib/python3.6/site-packages/ipykernel_launcher.py:4: UserWarning: Geometry is in a geographic CRS. Results from 'area' are likely incorrect. Use 'GeoSeries.to_crs()' to re-project geometries to a projected CRS before this operation.\n",
            "\n",
            "  after removing the cwd from sys.path.\n"
          ],
          "name": "stderr"
        }
      ]
    },
    {
      "cell_type": "code",
      "metadata": {
        "id": "KD_MkBRE1Wn6"
      },
      "source": [
        "# crosswalk는 기준 데이터와 병합할 데이터\n",
        "\n",
        "temp1['횡단보도_전체면적'] = crosswalk_size\n",
        "temp1['횡단보도_포함면적'] = crosswalk_area\n",
        "\n",
        "crosswalk = temp1.loc[:, ['gid', '횡단보도_전체면적', '횡단보도_포함면적']]"
      ],
      "execution_count": null,
      "outputs": []
    },
    {
      "cell_type": "markdown",
      "metadata": {
        "id": "m6keU-FJ1Wn6"
      },
      "source": [
        "### join 할 데이터 : 27번 오산시_도로명주소_건물"
      ]
    },
    {
      "cell_type": "code",
      "metadata": {
        "id": "ZWZEe3VR1Wn6",
        "outputId": "c619bc04-4348-4312-ba73-a090e3b70b57"
      },
      "source": [
        "# 4510개의 격자별로 포함하는 건물(전체 / 주거용 / 시무용) 개수 측정\n",
        "\n",
        "df1 = data27.copy()\n",
        "\n",
        "df2 = df1.loc[:, ['BDTYP_CD','geometry']]\n",
        "df2['BDTYP_CD'] = [int(x[0:3]) for x in df2.BDTYP_CD]      # 건물 용도별로 구분하기 위해 구분열 지정\n",
        "df2['geometry'] = df2.geometry.centroid                     # 건물의 중심점으로 geometry 다시 지정\n",
        "\n",
        "bld = []        # bid는 격자 안에 있는 총 건물의 개수\n",
        "house = []      # house는 격자 안에 있는 주거용 건물의 개수\n",
        "office = []     # office는 격자 안에 있는 사무용 건물의 개수"
      ],
      "execution_count": null,
      "outputs": [
        {
          "output_type": "stream",
          "text": [
            "/opt/app-root/lib/python3.6/site-packages/ipykernel_launcher.py:7: UserWarning: Geometry is in a geographic CRS. Results from 'centroid' are likely incorrect. Use 'GeoSeries.to_crs()' to re-project geometries to a projected CRS before this operation.\n",
            "\n",
            "  import sys\n"
          ],
          "name": "stderr"
        }
      ]
    },
    {
      "cell_type": "code",
      "metadata": {
        "id": "Z256mTlJ1Wn7"
      },
      "source": [
        "# bid 만들기\n",
        "\n",
        "temp1 = data2.copy()\n",
        "temp1 = temp1.loc[:, ['gid', 'geometry']]\n",
        "\n",
        "df3 = df2.copy()\n",
        "\n",
        "for i in range(len(temp1)):\n",
        "    bld.append(sum(df3.geometry.intersects(temp1.geometry[i])))"
      ],
      "execution_count": null,
      "outputs": []
    },
    {
      "cell_type": "code",
      "metadata": {
        "id": "XEDgcQHn1Wn7"
      },
      "source": [
        "# house 만들기\n",
        "\n",
        "df3 = df2.copy()\n",
        "df3 = df3.loc[(df3['BDTYP_CD']<30),:]      # 주거용 건물(건물 용도 번호 앞 세 자리가 30 이하)만 남김\n",
        "\n",
        "for i in range(len(temp1)):\n",
        "    house.append(sum(df3.geometry.intersects(temp1.geometry[i])))"
      ],
      "execution_count": null,
      "outputs": []
    },
    {
      "cell_type": "code",
      "metadata": {
        "id": "q21GLU0T1Wn7"
      },
      "source": [
        "# office 만들기\n",
        "\n",
        "df3 = df2.copy()\n",
        "df3 = df3.loc[(df3['BDTYP_CD']==44)|(df3['BDTYP_CD']==100)|(df3['BDTYP_CD']==101)|(df3['BDTYP_CD']==102), :]    # 사무용 건물에 해당하는 건물 용도 번호만 남김\n",
        "\n",
        "for i in range(len(temp1)):\n",
        "    office.append(sum(df3.geometry.intersects(temp1.geometry[i])))"
      ],
      "execution_count": null,
      "outputs": []
    },
    {
      "cell_type": "code",
      "metadata": {
        "id": "hoiqKUog1Wn7"
      },
      "source": [
        "# buildings는 기준 데이터와 병합할 데이터\n",
        "\n",
        "temp1['building'] = bld\n",
        "temp1['house'] = house\n",
        "temp1['office'] = office\n",
        "\n",
        "buildings = temp1.loc[:, ['gid', 'building', 'house', 'office']]"
      ],
      "execution_count": null,
      "outputs": []
    },
    {
      "cell_type": "markdown",
      "metadata": {
        "id": "84V1HHTJ1Wn7"
      },
      "source": [
        "### join 할 데이터 : 22번 오산시_버스정류장"
      ]
    },
    {
      "cell_type": "code",
      "metadata": {
        "id": "SwzDZgqm1Wn7",
        "outputId": "21ade42d-cee5-4b62-b9c2-0d609a8c2b4a"
      },
      "source": [
        "# 버스정류장 데이터(csv)를 GeoJSON 파일로 변환\n",
        "\n",
        "df1 = data22.copy()\n",
        "\n",
        "df1['정류장 위치_경도'] = df1['정류장 위치_경도'].astype(float)\n",
        "df1['정류장 위치_위도'] = df1['정류장 위치_위도'].astype(float)\n",
        "df1['geometry'] = df1.apply(lambda row : Point([row['정류장 위치_경도'], row['정류장 위치_위도']]), axis=1)   # df1에 geometry 열을 만들어 위경도를 point 객체로 저장\n",
        "df1 = gpd.GeoDataFrame(df1, geometry='geometry')                                                               # df1을 geodataframe 타입으로 저장\n",
        "df1.crs = {'init':'epsg:4326'}                                                                                 # 좌표계를 epsg 4326으로 설정\n",
        "df1 = df1.to_crs({'init':'epsg:4326'})"
      ],
      "execution_count": null,
      "outputs": [
        {
          "output_type": "stream",
          "text": [
            "/opt/app-root/lib/python3.6/site-packages/pyproj/crs/crs.py:53: FutureWarning: '+init=<authority>:<code>' syntax is deprecated. '<authority>:<code>' is the preferred initialization method. When making the change, be mindful of axis order changes: https://pyproj4.github.io/pyproj/stable/gotchas.html#axis-order-changes-in-proj-6\n",
            "  return _prepare_from_string(\" \".join(pjargs))\n"
          ],
          "name": "stderr"
        }
      ]
    },
    {
      "cell_type": "code",
      "metadata": {
        "id": "3sWJPEnV1Wn8"
      },
      "source": [
        "# 4510개의 격자별로 포함하는 버스정류장 개수 측정\n",
        "\n",
        "temp1 = data2.copy()\n",
        "temp1 = temp1.loc[:, ['gid', 'geometry']]\n",
        "\n",
        "bus = []\n",
        "\n",
        "for i in range(len(temp1)):\n",
        "    bus.append(sum(df1.geometry.intersects(temp1.geometry[i])))"
      ],
      "execution_count": null,
      "outputs": []
    },
    {
      "cell_type": "code",
      "metadata": {
        "id": "pEDlqlO-1Wn-"
      },
      "source": [
        "# bus_stop은 기준 데이터와 병합할 데이터\n",
        "\n",
        "temp1['버스정류장'] = bus\n",
        "\n",
        "bus_stop = temp1.loc[:, ['gid', '버스정류장']]"
      ],
      "execution_count": null,
      "outputs": []
    },
    {
      "cell_type": "markdown",
      "metadata": {
        "id": "ZrmmkmH31Wn-"
      },
      "source": [
        "### join 할 데이터 : 29번 오산시_체육시설현황"
      ]
    },
    {
      "cell_type": "code",
      "metadata": {
        "id": "t-Wf1rYw1Wn-"
      },
      "source": [
        "# 체육시설현황 데이터(csv)를 GeoJSON 파일로 변환\n",
        "\n",
        "df1 = data29.copy()\n",
        "\n",
        "df1.설치위치_경도 = df1.설치위치_경도.astype(float)\n",
        "df1.설치위치_위도 = df1.설치위치_위도.astype(float)\n",
        "df1['geometry'] = df1.apply(lambda row : Point([row['설치위치_경도'], row['설치위치_위도']]), axis=1)   # df1에 geometry 열을 만들어 위경도를 point 객체로 저장\n",
        "df1 = gpd.GeoDataFrame(df1, geometry='geometry')                                                         # df1을 geodataframe 타입으로 저장\n",
        "df1.crs = {'init':'epsg:4326'}                                                                           # 좌표계를 epsg 4326으로 설정\n",
        "df1 = df1.to_crs({'init':'epsg:4326'})"
      ],
      "execution_count": null,
      "outputs": []
    },
    {
      "cell_type": "code",
      "metadata": {
        "id": "YLtmlBGS1Wn-"
      },
      "source": [
        "# 4510개의 격자별로 포함하는 체육시설 개수 측정\n",
        "\n",
        "temp1 = data2.copy()\n",
        "temp1 = temp1.loc[:, ['gid', 'geometry']]\n",
        "\n",
        "fac = []\n",
        "\n",
        "for i in range(len(temp1)):\n",
        "    fac.append(sum(df1.geometry.intersects(temp1.geometry[i])))"
      ],
      "execution_count": null,
      "outputs": []
    },
    {
      "cell_type": "code",
      "metadata": {
        "id": "pMx5cSDD1Wn-"
      },
      "source": [
        "# physical_fac은 기준 데이터와 병합할 데이터\n",
        "\n",
        "temp1['체육시설'] = fac\n",
        "\n",
        "physical_fac = temp1.loc[:, ['gid', '체육시설']]"
      ],
      "execution_count": null,
      "outputs": []
    },
    {
      "cell_type": "markdown",
      "metadata": {
        "id": "-ofkAS-U1Wn-"
      },
      "source": [
        "### join 할 데이터 : 30번 오산시_학원_및_교습소_현황"
      ]
    },
    {
      "cell_type": "code",
      "metadata": {
        "id": "R498ZdaN1Wn_"
      },
      "source": [
        "# 30번 오산시 학원 및 교습소 현황 데이터로 격자 안의 학원 수를 측정하기에는 데이터가 부정확함.\n",
        "# ex) 같은 학원이지만 '영어 초급' / '영어 고급'반이 다른 학원처럼 2개의 행을 차지함(1779, 1780번 행)\n",
        "\n",
        "# 따라서 제공되는 데이터 대신 카카오 API를 활용하여 각 격자별로 위치한 학원의 수를 측정함"
      ],
      "execution_count": null,
      "outputs": []
    },
    {
      "cell_type": "code",
      "metadata": {
        "id": "XbDphbjA1Wn_"
      },
      "source": [
        "# 카카오 API 사용 함수\n",
        "\n",
        "import requests; from urllib.parse import urlparse\n",
        "\n",
        "def point_to_num(y,x,radius,keyword,category):  #좌표와 키워드를 입력하면 시설물의 수를 알수있음\n",
        "                    url = \"https://dapi.kakao.com/v2/local/search/keyword.json?&y=\" + y + \"&x=\" + x + \"&radius=\" + radius + \"&query=\" + keyword +\"&category_group_code=\" + category\n",
        "                    result = requests.get(urlparse(url).geturl(),\n",
        "                                          headers={\"Authorization\":\"KakaoAK d3c61988f98633f8311396ae5ed20fa2\"})\n",
        "                    json_obj = result.json()\n",
        "                    global val\n",
        "                    val = json_obj['meta']['pageable_count']\n",
        "                    return val "
      ],
      "execution_count": null,
      "outputs": []
    },
    {
      "cell_type": "code",
      "metadata": {
        "id": "3NF1K27H1Wn_"
      },
      "source": [
        "# Point 객체의 x, y 좌표 반환 함수\n",
        "\n",
        "def getXY(pt):\n",
        "    \n",
        "    return (pt.x, pt.y)"
      ],
      "execution_count": null,
      "outputs": []
    },
    {
      "cell_type": "code",
      "metadata": {
        "id": "1Zt6q-xW1Wn_",
        "outputId": "f8070811-1759-4803-f198-3935e1a405bb"
      },
      "source": [
        "# 카카오 API를 사용하기 위해 4510개의 격자의 x, y 좌표를 정보로 저장\n",
        "\n",
        "temp1 = data2.copy()\n",
        "temp1 = temp1.loc[:, ['gid', 'geometry']]\n",
        "temp1.geometry = temp1.geometry.centroid\n",
        "\n",
        "x,y = [list(t) for t in zip(*map(getXY, temp1['geometry']))]\n",
        "\n",
        "temp1['x']=x\n",
        "temp1['y']=y"
      ],
      "execution_count": null,
      "outputs": [
        {
          "output_type": "stream",
          "text": [
            "/opt/app-root/lib/python3.6/site-packages/ipykernel_launcher.py:5: UserWarning: Geometry is in a geographic CRS. Results from 'centroid' are likely incorrect. Use 'GeoSeries.to_crs()' to re-project geometries to a projected CRS before this operation.\n",
            "\n",
            "  \"\"\"\n"
          ],
          "name": "stderr"
        }
      ]
    },
    {
      "cell_type": "code",
      "metadata": {
        "id": "6jhbWssS1Wn_"
      },
      "source": [
        "# 4510개의 격자별로 포함하는 학원 개수 측정\n",
        "\n",
        "acad = []\n",
        "\n",
        "for i in range(len(temp1)): \n",
        "    acad.append(point_to_num(str(temp1['y'][i]), str(temp1['x'][i]), '50', '학원','AC5'))\n",
        "\n",
        "# point_to_num() 함수 설명: i번째 격자의 중심에서 50m 반경에 있는 '학원' 카테고리의 개수 반환"
      ],
      "execution_count": null,
      "outputs": []
    },
    {
      "cell_type": "code",
      "metadata": {
        "id": "-E7TFxnF1Wn_"
      },
      "source": [
        "# academy는 기준 데이터와 병합할 데이터\n",
        "\n",
        "temp1['학원'] = acad\n",
        "\n",
        "temp1.loc[2617, '학원'] = 1     # 분석 당시 학원 개수로 변경(1월 25일 기준 2개)\n",
        "temp1.loc[3178, '학원'] = 0     # 분석 당시 학원 개수로 변경(1월 25일 기준 1개)\n",
        "temp1.loc[3348, '학원'] = 4     # 분석 당시 학원 개수로 변경(1월 25일 기준 5개)\n",
        "temp1.loc[3492, '학원'] = 16    # 분석 당시 학원 개수로 변경(1월 25일 기준 15개)\n",
        "\n",
        "academy = temp1.loc[:, ['gid', '학원']]"
      ],
      "execution_count": null,
      "outputs": []
    },
    {
      "cell_type": "code",
      "metadata": {
        "id": "099SnG3p1Wn_"
      },
      "source": [
        "# 카카오 API로 구한 학원 개수 데이터는 시간에 따라 바뀜\n",
        "# 따라서 분석 당시의 격자별 학원 개수를 맞추기 위해 데이터로 저장: academy_KAKAO_api\n",
        "\n",
        "#academy.to_csv('academy_KAKAO_api.csv', index=False)"
      ],
      "execution_count": null,
      "outputs": []
    },
    {
      "cell_type": "markdown",
      "metadata": {
        "id": "9fkJeGmS1WoA"
      },
      "source": [
        "### join 할 데이터 : 19번 오산시_신호등"
      ]
    },
    {
      "cell_type": "code",
      "metadata": {
        "id": "fv2YTEq21WoA"
      },
      "source": [
        "# df1은 신호등 데이터\n",
        "# temp1은 격자별로 포함하는 신호등 개수 측정을 위한 데이터\n",
        "\n",
        "df1 = data19.copy()\n",
        "\n",
        "temp1 = data2.copy()\n",
        "temp1 = temp1.loc[:, ['gid', 'geometry']]"
      ],
      "execution_count": null,
      "outputs": []
    },
    {
      "cell_type": "code",
      "metadata": {
        "id": "fS7Ll2Yp1WoA"
      },
      "source": [
        "# 4510개의 격자별로 포함하는 신호등 개수 측정\n",
        "\n",
        "light = []\n",
        "\n",
        "for i in range(len(temp1)):\n",
        "     light.append(sum(df1.geometry.intersects(temp1.geometry[i])))"
      ],
      "execution_count": null,
      "outputs": []
    },
    {
      "cell_type": "code",
      "metadata": {
        "id": "vt7MIE0V1WoA"
      },
      "source": [
        "# physical_light는 기준 데이터와 병합할 데이터\n",
        "\n",
        "temp1['신호등'] = light\n",
        "\n",
        "traffic_light = temp1.loc[:, ['gid', '신호등']]"
      ],
      "execution_count": null,
      "outputs": []
    },
    {
      "cell_type": "markdown",
      "metadata": {
        "id": "kWVRwn8E1WoA"
      },
      "source": [
        "### join 할 데이터 : 18_외부 오산시_과속방지턱표준데이터.csv"
      ]
    },
    {
      "cell_type": "code",
      "metadata": {
        "id": "h-kjyunx1WoA"
      },
      "source": [
        "# 18번 오산시_과속방지턱표준데이터에 오산시에 포함된 과속방지턱이 업데이트 되지 않아\n",
        "# 공공데이터포털에서 새롭게 다운로드함\n",
        "\n",
        "data18_outer = pd.read_csv('18_외부.오산시_과속방지턱표준데이터.csv')"
      ],
      "execution_count": null,
      "outputs": []
    },
    {
      "cell_type": "code",
      "metadata": {
        "id": "inNBZYL21WoA"
      },
      "source": [
        "# 과속방지턱 데이터(csv)를 GeoJSON 파일로 변환\n",
        "\n",
        "df1 = data18_outer.copy()\n",
        "\n",
        "df1.경도 = df1.경도.astype(float)\n",
        "df1.위도 = df1.위도.astype(float)\n",
        "df1['geometry'] = df1.apply(lambda row : Point([row['경도'], row['위도']]), axis=1)   # df1에 geometry 열을 만들어 위경도를 point 객체로 저장\n",
        "df1 = gpd.GeoDataFrame(df1, geometry='geometry')                                       # df1을 geodataframe 타입으로 저장\n",
        "df1.crs = {'init':'epsg:4326'}                                                         # 좌표계를 epsg 4326으로 설정\n",
        "df1 = df1.to_crs({'init':'epsg:4326'})"
      ],
      "execution_count": null,
      "outputs": []
    },
    {
      "cell_type": "code",
      "metadata": {
        "id": "61dzAMcP1WoB"
      },
      "source": [
        "# 4510개의 격자별로 포함하는 과속방지턱 개수 측정\n",
        "\n",
        "temp1 = data2.copy()\n",
        "temp1 = temp1.loc[:, ['gid', 'geometry']]\n",
        "\n",
        "bump_count = []\n",
        "\n",
        "for i in range(len(temp1)):\n",
        "    bump_count.append(sum(df1.geometry.intersects(temp1.geometry[i])))"
      ],
      "execution_count": null,
      "outputs": []
    },
    {
      "cell_type": "code",
      "metadata": {
        "id": "UCfHN7rg1WoB"
      },
      "source": [
        "# bump는 기준 데이터와 병합할 데이터\n",
        "\n",
        "temp1['과속방지턱'] = bump_count\n",
        "\n",
        "bump = temp1.loc[:, ['gid', '과속방지턱']]"
      ],
      "execution_count": null,
      "outputs": []
    },
    {
      "cell_type": "code",
      "metadata": {
        "id": "WJz1lMHf1WoB"
      },
      "source": [
        ""
      ],
      "execution_count": null,
      "outputs": []
    },
    {
      "cell_type": "code",
      "metadata": {
        "id": "FGGijjgk1WoB"
      },
      "source": [
        ""
      ],
      "execution_count": null,
      "outputs": []
    },
    {
      "cell_type": "markdown",
      "metadata": {
        "id": "aAP16oJq1WoB"
      },
      "source": [
        "### join 할 데이터: 8번 유동인구"
      ]
    },
    {
      "cell_type": "code",
      "metadata": {
        "id": "u-HAmHoA1WoB"
      },
      "source": [
        "df1 = data8.copy()"
      ],
      "execution_count": null,
      "outputs": []
    },
    {
      "cell_type": "code",
      "metadata": {
        "id": "xctFaaDq1WoB"
      },
      "source": [
        "#하루 평균 유동인구 구하기\n",
        "\n",
        "df1['month'] = df1.iloc[:,3] \n",
        "for i in range(4,27,1):\n",
        "    df1['month'] = df1['month'] + df1.iloc[:,i]"
      ],
      "execution_count": null,
      "outputs": []
    },
    {
      "cell_type": "code",
      "metadata": {
        "id": "B_aHck-81WoB"
      },
      "source": [
        "#필요한 열만 추출\n",
        "\n",
        "df1 = df1.iloc[:,[0,1,2,27]]"
      ],
      "execution_count": null,
      "outputs": []
    },
    {
      "cell_type": "code",
      "metadata": {
        "scrolled": true,
        "id": "4K4bLxz81WoC"
      },
      "source": [
        "#lon,lat을 기준으로 그룹화\n",
        "\n",
        "temp1 = df1.groupby(['lon','lat'],as_index=False).count()"
      ],
      "execution_count": null,
      "outputs": []
    },
    {
      "cell_type": "code",
      "metadata": {
        "scrolled": false,
        "id": "Ia4yTvej1WoC"
      },
      "source": [
        "#각 좌표의 평균값 계산\n",
        "\n",
        "temp1['mean'] = df1.groupby(['lon','lat'],as_index=False).mean().month  "
      ],
      "execution_count": null,
      "outputs": []
    },
    {
      "cell_type": "code",
      "metadata": {
        "id": "FHvEV1fm1WoC"
      },
      "source": [
        "#필요한 열만 추출\n",
        "\n",
        "temp1 = temp1.iloc[:,[0,1,3,4]]"
      ],
      "execution_count": null,
      "outputs": []
    },
    {
      "cell_type": "code",
      "metadata": {
        "scrolled": true,
        "id": "f7POyZB01WoC"
      },
      "source": [
        "temp1 = temp1.rename(columns = {'month':'count'})"
      ],
      "execution_count": null,
      "outputs": []
    },
    {
      "cell_type": "code",
      "metadata": {
        "id": "rEpiw1h_1WoC"
      },
      "source": [
        "for i in range(1,13,1):\n",
        "    if i < 10:\n",
        "        a = pd.merge(temp1, df1[df1.iloc[:,0]==int('20190%d' %i)],how='left',on=['lon','lat'])   #위도와 경도를 기준으로 해당 월의 평균 데이터와 원본 데이터 병합\n",
        "    else:\n",
        "        a = pd.merge(temp1, df1[df1.iloc[:,0]==int('2019%d' %i)],how='left',on=['lon','lat'])\n",
        "    for j in range(0,len(a),1):   #결측치 대체#\n",
        "        if a.iloc[:,5].isnull()[j]==True:   #값이 존재하지 않는 포인트의 유동인구를 평균값으로 대체\n",
        "            a.iloc[j,5] = a.iloc[j,3]\n",
        "        else:\n",
        "            a.iloc[j,5] = a.iloc[j,5]\n",
        "        if a.iloc[:,4].isnull()[j]==True:   #값이 존재하지 않는 포인트의 월을 해당 월로 대체\n",
        "            a.iloc[j,4] = a.iloc[j-1,4]\n",
        "        else:\n",
        "            a.iloc[j,4] = a.iloc[j,4]\n",
        "            \n",
        "    if i==1:\n",
        "        b=a\n",
        "    else:\n",
        "        b = pd.concat([b,a],axis = 0)   #1월부터 12월 병합#"
      ],
      "execution_count": null,
      "outputs": []
    },
    {
      "cell_type": "code",
      "metadata": {
        "id": "RDysbVjp1WoC"
      },
      "source": [
        "float_pop = b"
      ],
      "execution_count": null,
      "outputs": []
    },
    {
      "cell_type": "code",
      "metadata": {
        "id": "xHjuxwAM1WoC"
      },
      "source": [
        "float_pop = float_pop.reset_index()"
      ],
      "execution_count": null,
      "outputs": []
    },
    {
      "cell_type": "code",
      "metadata": {
        "id": "Wp5amJhx1WoD",
        "outputId": "387d35e6-a8cf-47f2-dbed-b3f60aff863b"
      },
      "source": [
        "#결측값 개수 확인\n",
        "\n",
        "float_pop.isnull().apply(sum)"
      ],
      "execution_count": null,
      "outputs": [
        {
          "output_type": "execute_result",
          "data": {
            "text/plain": [
              "index     0\n",
              "lon       0\n",
              "lat       0\n",
              "count     0\n",
              "mean      0\n",
              "STD_YM    0\n",
              "month     0\n",
              "dtype: int64"
            ]
          },
          "metadata": {
            "tags": []
          },
          "execution_count": 68
        }
      ]
    },
    {
      "cell_type": "code",
      "metadata": {
        "scrolled": true,
        "id": "nHhbaCUW1WoD",
        "outputId": "3da94841-448f-492c-fa3a-08128e8e1423"
      },
      "source": [
        "#csv를 geodataframe으로 변환\n",
        "\n",
        "from shapely.geometry import Point   \n",
        "geo_float_pop = gpd.GeoDataFrame(float_pop.drop(['lon','lat'], axis=1),\n",
        "                           crs={'init':'epsg:4326'},\n",
        "                           geometry=[Point(xy) for xy in zip(float_pop.lon, float_pop.lat)])"
      ],
      "execution_count": null,
      "outputs": [
        {
          "output_type": "stream",
          "text": [
            "/opt/app-root/lib/python3.6/site-packages/pyproj/crs/crs.py:53: FutureWarning: '+init=<authority>:<code>' syntax is deprecated. '<authority>:<code>' is the preferred initialization method. When making the change, be mindful of axis order changes: https://pyproj4.github.io/pyproj/stable/gotchas.html#axis-order-changes-in-proj-6\n",
            "  return _prepare_from_string(\" \".join(pjargs))\n"
          ],
          "name": "stderr"
        }
      ]
    },
    {
      "cell_type": "code",
      "metadata": {
        "scrolled": true,
        "id": "dxR9XRGl1WoD",
        "outputId": "69f3c993-5f16-4e77-b039-4c2da2811b52"
      },
      "source": [
        "geo_float_pop"
      ],
      "execution_count": null,
      "outputs": [
        {
          "output_type": "execute_result",
          "data": {
            "text/html": [
              "<div>\n",
              "<style scoped>\n",
              "    .dataframe tbody tr th:only-of-type {\n",
              "        vertical-align: middle;\n",
              "    }\n",
              "\n",
              "    .dataframe tbody tr th {\n",
              "        vertical-align: top;\n",
              "    }\n",
              "\n",
              "    .dataframe thead th {\n",
              "        text-align: right;\n",
              "    }\n",
              "</style>\n",
              "<table border=\"1\" class=\"dataframe\">\n",
              "  <thead>\n",
              "    <tr style=\"text-align: right;\">\n",
              "      <th></th>\n",
              "      <th>index</th>\n",
              "      <th>count</th>\n",
              "      <th>mean</th>\n",
              "      <th>STD_YM</th>\n",
              "      <th>month</th>\n",
              "      <th>geometry</th>\n",
              "    </tr>\n",
              "  </thead>\n",
              "  <tbody>\n",
              "    <tr>\n",
              "      <th>0</th>\n",
              "      <td>0</td>\n",
              "      <td>8</td>\n",
              "      <td>8.436250</td>\n",
              "      <td>201901.0</td>\n",
              "      <td>8.880000</td>\n",
              "      <td>POINT (126.99514 37.17715)</td>\n",
              "    </tr>\n",
              "    <tr>\n",
              "      <th>1</th>\n",
              "      <td>1</td>\n",
              "      <td>12</td>\n",
              "      <td>13.730833</td>\n",
              "      <td>201901.0</td>\n",
              "      <td>11.700000</td>\n",
              "      <td>POINT (126.99515 37.17670)</td>\n",
              "    </tr>\n",
              "    <tr>\n",
              "      <th>2</th>\n",
              "      <td>2</td>\n",
              "      <td>7</td>\n",
              "      <td>3.397143</td>\n",
              "      <td>201901.0</td>\n",
              "      <td>3.397143</td>\n",
              "      <td>POINT (126.99515 37.17625)</td>\n",
              "    </tr>\n",
              "    <tr>\n",
              "      <th>3</th>\n",
              "      <td>3</td>\n",
              "      <td>4</td>\n",
              "      <td>2.250000</td>\n",
              "      <td>201901.0</td>\n",
              "      <td>2.250000</td>\n",
              "      <td>POINT (126.99515 37.17580)</td>\n",
              "    </tr>\n",
              "    <tr>\n",
              "      <th>4</th>\n",
              "      <td>4</td>\n",
              "      <td>5</td>\n",
              "      <td>2.104000</td>\n",
              "      <td>201901.0</td>\n",
              "      <td>2.104000</td>\n",
              "      <td>POINT (126.99515 37.17535)</td>\n",
              "    </tr>\n",
              "    <tr>\n",
              "      <th>...</th>\n",
              "      <td>...</td>\n",
              "      <td>...</td>\n",
              "      <td>...</td>\n",
              "      <td>...</td>\n",
              "      <td>...</td>\n",
              "      <td>...</td>\n",
              "    </tr>\n",
              "    <tr>\n",
              "      <th>148819</th>\n",
              "      <td>12397</td>\n",
              "      <td>3</td>\n",
              "      <td>0.816667</td>\n",
              "      <td>201912.0</td>\n",
              "      <td>0.780000</td>\n",
              "      <td>POINT (127.09779 37.15095)</td>\n",
              "    </tr>\n",
              "    <tr>\n",
              "      <th>148820</th>\n",
              "      <td>12398</td>\n",
              "      <td>3</td>\n",
              "      <td>6.486667</td>\n",
              "      <td>201912.0</td>\n",
              "      <td>5.860000</td>\n",
              "      <td>POINT (127.09782 37.14600)</td>\n",
              "    </tr>\n",
              "    <tr>\n",
              "      <th>148821</th>\n",
              "      <td>12399</td>\n",
              "      <td>6</td>\n",
              "      <td>5.735000</td>\n",
              "      <td>201912.0</td>\n",
              "      <td>0.500000</td>\n",
              "      <td>POINT (127.09835 37.15141)</td>\n",
              "    </tr>\n",
              "    <tr>\n",
              "      <th>148822</th>\n",
              "      <td>12400</td>\n",
              "      <td>1</td>\n",
              "      <td>51.170000</td>\n",
              "      <td>201912.0</td>\n",
              "      <td>51.170000</td>\n",
              "      <td>POINT (127.09836 37.15096)</td>\n",
              "    </tr>\n",
              "    <tr>\n",
              "      <th>148823</th>\n",
              "      <td>12401</td>\n",
              "      <td>8</td>\n",
              "      <td>0.603750</td>\n",
              "      <td>201912.0</td>\n",
              "      <td>0.560000</td>\n",
              "      <td>POINT (127.10063 37.14601)</td>\n",
              "    </tr>\n",
              "  </tbody>\n",
              "</table>\n",
              "<p>148824 rows × 6 columns</p>\n",
              "</div>"
            ],
            "text/plain": [
              "        index  count       mean    STD_YM      month  \\\n",
              "0           0      8   8.436250  201901.0   8.880000   \n",
              "1           1     12  13.730833  201901.0  11.700000   \n",
              "2           2      7   3.397143  201901.0   3.397143   \n",
              "3           3      4   2.250000  201901.0   2.250000   \n",
              "4           4      5   2.104000  201901.0   2.104000   \n",
              "...       ...    ...        ...       ...        ...   \n",
              "148819  12397      3   0.816667  201912.0   0.780000   \n",
              "148820  12398      3   6.486667  201912.0   5.860000   \n",
              "148821  12399      6   5.735000  201912.0   0.500000   \n",
              "148822  12400      1  51.170000  201912.0  51.170000   \n",
              "148823  12401      8   0.603750  201912.0   0.560000   \n",
              "\n",
              "                          geometry  \n",
              "0       POINT (126.99514 37.17715)  \n",
              "1       POINT (126.99515 37.17670)  \n",
              "2       POINT (126.99515 37.17625)  \n",
              "3       POINT (126.99515 37.17580)  \n",
              "4       POINT (126.99515 37.17535)  \n",
              "...                            ...  \n",
              "148819  POINT (127.09779 37.15095)  \n",
              "148820  POINT (127.09782 37.14600)  \n",
              "148821  POINT (127.09835 37.15141)  \n",
              "148822  POINT (127.09836 37.15096)  \n",
              "148823  POINT (127.10063 37.14601)  \n",
              "\n",
              "[148824 rows x 6 columns]"
            ]
          },
          "metadata": {
            "tags": []
          },
          "execution_count": 70
        }
      ]
    },
    {
      "cell_type": "code",
      "metadata": {
        "scrolled": false,
        "id": "ULZ653vz1WoD",
        "outputId": "6bd33326-d657-4aaa-db28-001f0b2ba17a"
      },
      "source": [
        "#coordinates를 multipolygon으로 할당\n",
        "\n",
        "point = geo_float_pop.copy()\n",
        "poly = data2.copy()\n",
        "from geopandas.tools import sjoin\n",
        "grid_float_pop = sjoin(point, poly, how='left')"
      ],
      "execution_count": null,
      "outputs": [
        {
          "output_type": "stream",
          "text": [
            "/opt/app-root/lib/python3.6/site-packages/ipykernel_launcher.py:6: UserWarning: CRS mismatch between the CRS of left geometries and the CRS of right geometries.\n",
            "Use `to_crs()` to reproject one of the input geometries to match the CRS of the other.\n",
            "\n",
            "Left CRS: +init=epsg:4326 +type=crs\n",
            "Right CRS: EPSG:4326\n",
            "\n",
            "  \n"
          ],
          "name": "stderr"
        }
      ]
    },
    {
      "cell_type": "code",
      "metadata": {
        "id": "DWweb8VQ1WoD"
      },
      "source": [
        "# 각 그리드의 월 평균 계산\n",
        "\n",
        "temp2 = grid_float_pop.groupby('gid',as_index=False).mean()"
      ],
      "execution_count": null,
      "outputs": []
    },
    {
      "cell_type": "code",
      "metadata": {
        "id": "X3rJgwRn1WoE"
      },
      "source": [
        "temp2 = temp2.loc[:,['gid','month']]"
      ],
      "execution_count": null,
      "outputs": []
    },
    {
      "cell_type": "code",
      "metadata": {
        "id": "BqYDnn_G1WoE"
      },
      "source": [
        "float_population = pd.merge(data2, temp2, how='left', on='gid')"
      ],
      "execution_count": null,
      "outputs": []
    },
    {
      "cell_type": "code",
      "metadata": {
        "id": "pNGFPPsH1WoE"
      },
      "source": [
        "del float_population['accident_cnt']\n",
        "del float_population['geometry']"
      ],
      "execution_count": null,
      "outputs": []
    },
    {
      "cell_type": "code",
      "metadata": {
        "id": "Q5FKqKAW1WoE"
      },
      "source": [
        "float_population = float_population.fillna(0)"
      ],
      "execution_count": null,
      "outputs": []
    },
    {
      "cell_type": "code",
      "metadata": {
        "id": "aKa8SzOJ1WoE",
        "outputId": "8a3b6ce5-2bcf-496e-c87c-50a7a287e970"
      },
      "source": [
        "#결측값 개수 확인\n",
        "\n",
        "float_population.isnull().apply(sum)  "
      ],
      "execution_count": null,
      "outputs": [
        {
          "output_type": "execute_result",
          "data": {
            "text/plain": [
              "gid      0\n",
              "month    0\n",
              "dtype: int64"
            ]
          },
          "metadata": {
            "tags": []
          },
          "execution_count": 77
        }
      ]
    },
    {
      "cell_type": "code",
      "metadata": {
        "scrolled": true,
        "id": "KJgf7W3m1WoE"
      },
      "source": [
        "float_population = float_population.rename(columns={'month':'유동인구'})"
      ],
      "execution_count": null,
      "outputs": []
    },
    {
      "cell_type": "code",
      "metadata": {
        "id": "NMmvYClo1WoE",
        "outputId": "716d3b4f-d60e-4f8b-fe18-c23610bafd78"
      },
      "source": [
        "float_population"
      ],
      "execution_count": null,
      "outputs": [
        {
          "output_type": "execute_result",
          "data": {
            "text/html": [
              "<div>\n",
              "<style scoped>\n",
              "    .dataframe tbody tr th:only-of-type {\n",
              "        vertical-align: middle;\n",
              "    }\n",
              "\n",
              "    .dataframe tbody tr th {\n",
              "        vertical-align: top;\n",
              "    }\n",
              "\n",
              "    .dataframe thead th {\n",
              "        text-align: right;\n",
              "    }\n",
              "</style>\n",
              "<table border=\"1\" class=\"dataframe\">\n",
              "  <thead>\n",
              "    <tr style=\"text-align: right;\">\n",
              "      <th></th>\n",
              "      <th>gid</th>\n",
              "      <th>유동인구</th>\n",
              "    </tr>\n",
              "  </thead>\n",
              "  <tbody>\n",
              "    <tr>\n",
              "      <th>0</th>\n",
              "      <td>다사551085</td>\n",
              "      <td>0.000000</td>\n",
              "    </tr>\n",
              "    <tr>\n",
              "      <th>1</th>\n",
              "      <td>다사551086</td>\n",
              "      <td>2.177000</td>\n",
              "    </tr>\n",
              "    <tr>\n",
              "      <th>2</th>\n",
              "      <td>다사551087</td>\n",
              "      <td>8.563988</td>\n",
              "    </tr>\n",
              "    <tr>\n",
              "      <th>3</th>\n",
              "      <td>다사551088</td>\n",
              "      <td>8.436250</td>\n",
              "    </tr>\n",
              "    <tr>\n",
              "      <th>4</th>\n",
              "      <td>다사552085</td>\n",
              "      <td>0.363333</td>\n",
              "    </tr>\n",
              "    <tr>\n",
              "      <th>...</th>\n",
              "      <td>...</td>\n",
              "      <td>...</td>\n",
              "    </tr>\n",
              "    <tr>\n",
              "      <th>4505</th>\n",
              "      <td>다사646052</td>\n",
              "      <td>0.000000</td>\n",
              "    </tr>\n",
              "    <tr>\n",
              "      <th>4506</th>\n",
              "      <td>다사646053</td>\n",
              "      <td>0.000000</td>\n",
              "    </tr>\n",
              "    <tr>\n",
              "      <th>4507</th>\n",
              "      <td>다사647050</td>\n",
              "      <td>0.000000</td>\n",
              "    </tr>\n",
              "    <tr>\n",
              "      <th>4508</th>\n",
              "      <td>다사647051</td>\n",
              "      <td>0.000000</td>\n",
              "    </tr>\n",
              "    <tr>\n",
              "      <th>4509</th>\n",
              "      <td>다사647052</td>\n",
              "      <td>0.000000</td>\n",
              "    </tr>\n",
              "  </tbody>\n",
              "</table>\n",
              "<p>4510 rows × 2 columns</p>\n",
              "</div>"
            ],
            "text/plain": [
              "           gid      유동인구\n",
              "0     다사551085  0.000000\n",
              "1     다사551086  2.177000\n",
              "2     다사551087  8.563988\n",
              "3     다사551088  8.436250\n",
              "4     다사552085  0.363333\n",
              "...        ...       ...\n",
              "4505  다사646052  0.000000\n",
              "4506  다사646053  0.000000\n",
              "4507  다사647050  0.000000\n",
              "4508  다사647051  0.000000\n",
              "4509  다사647052  0.000000\n",
              "\n",
              "[4510 rows x 2 columns]"
            ]
          },
          "metadata": {
            "tags": []
          },
          "execution_count": 79
        }
      ]
    },
    {
      "cell_type": "markdown",
      "metadata": {
        "id": "EBVAxGec1WoF"
      },
      "source": [
        "### join 할 데이터: 1번 주정차단속"
      ]
    },
    {
      "cell_type": "code",
      "metadata": {
        "id": "Ce6BSsQJ1WoF"
      },
      "source": [
        "df1 = data1.copy()"
      ],
      "execution_count": null,
      "outputs": []
    },
    {
      "cell_type": "code",
      "metadata": {
        "scrolled": true,
        "id": "wWGTDPmN1WoF",
        "outputId": "391f116e-a0a3-46ff-8a88-109f4ed86262"
      },
      "source": [
        "df1.isnull().sum()"
      ],
      "execution_count": null,
      "outputs": [
        {
          "output_type": "execute_result",
          "data": {
            "text/plain": [
              "단속일자         0\n",
              "단속위치         0\n",
              "행정구역         0\n",
              "스쿨존여부        0\n",
              "단속위치_경도    188\n",
              "단속위치_위도    188\n",
              "단속종류         0\n",
              "dtype: int64"
            ]
          },
          "metadata": {
            "tags": []
          },
          "execution_count": 81
        }
      ]
    },
    {
      "cell_type": "code",
      "metadata": {
        "scrolled": true,
        "id": "fGfYYTXD1WoF"
      },
      "source": [
        "#결측값 제거\n",
        "\n",
        "df1 = df1.dropna()"
      ],
      "execution_count": null,
      "outputs": []
    },
    {
      "cell_type": "code",
      "metadata": {
        "scrolled": true,
        "id": "VuVk_Kly1WoF",
        "outputId": "51229a26-6ff0-4630-bd4f-3dd1ac8601f2"
      },
      "source": [
        "#csv를 geodataframe으로 변환\n",
        "\n",
        "from shapely.geometry import Point\n",
        "geo_parked_car = gpd.GeoDataFrame(df1.drop(['단속위치_경도','단속위치_위도'], axis=1),\n",
        "                           crs={'init':'epsg:4326'},\n",
        "                           geometry=[Point(xy) for xy in zip(df1.단속위치_경도, df1.단속위치_위도)])"
      ],
      "execution_count": null,
      "outputs": [
        {
          "output_type": "stream",
          "text": [
            "/opt/app-root/lib/python3.6/site-packages/pyproj/crs/crs.py:53: FutureWarning: '+init=<authority>:<code>' syntax is deprecated. '<authority>:<code>' is the preferred initialization method. When making the change, be mindful of axis order changes: https://pyproj4.github.io/pyproj/stable/gotchas.html#axis-order-changes-in-proj-6\n",
            "  return _prepare_from_string(\" \".join(pjargs))\n"
          ],
          "name": "stderr"
        }
      ]
    },
    {
      "cell_type": "code",
      "metadata": {
        "scrolled": true,
        "id": "5maHCLCW1WoF",
        "outputId": "59e37516-6c23-43c1-e890-0fc9ce5a91f8"
      },
      "source": [
        "#coordinates를 multipolygon으로 할당\n",
        "\n",
        "point = geo_parked_car.copy()\n",
        "poly = data2.copy()\n",
        "from geopandas.tools import sjoin\n",
        "grid_parked_car = sjoin(point, poly, how='left')"
      ],
      "execution_count": null,
      "outputs": [
        {
          "output_type": "stream",
          "text": [
            "/opt/app-root/lib/python3.6/site-packages/ipykernel_launcher.py:6: UserWarning: CRS mismatch between the CRS of left geometries and the CRS of right geometries.\n",
            "Use `to_crs()` to reproject one of the input geometries to match the CRS of the other.\n",
            "\n",
            "Left CRS: +init=epsg:4326 +type=crs\n",
            "Right CRS: EPSG:4326\n",
            "\n",
            "  \n"
          ],
          "name": "stderr"
        }
      ]
    },
    {
      "cell_type": "code",
      "metadata": {
        "scrolled": true,
        "id": "a98FzTUX1WoG"
      },
      "source": [
        "#grid별로 그룹화\n",
        "\n",
        "temp1 = grid_parked_car.groupby('gid',as_index=False).count()"
      ],
      "execution_count": null,
      "outputs": []
    },
    {
      "cell_type": "code",
      "metadata": {
        "scrolled": true,
        "id": "34qNYBfn1WoG"
      },
      "source": [
        "temp1 = temp1.iloc[:,[0,1]]"
      ],
      "execution_count": null,
      "outputs": []
    },
    {
      "cell_type": "code",
      "metadata": {
        "id": "N9e8-COX1WoG"
      },
      "source": [
        "temp1 = temp1.rename(columns={'단속일자':'단속횟수'})"
      ],
      "execution_count": null,
      "outputs": []
    },
    {
      "cell_type": "code",
      "metadata": {
        "id": "1oVdXZ2j1WoG"
      },
      "source": [
        "parked_car = pd.merge(data2, temp1, how='left', on='gid')"
      ],
      "execution_count": null,
      "outputs": []
    },
    {
      "cell_type": "code",
      "metadata": {
        "id": "3Di-2nZA1WoH"
      },
      "source": [
        "del parked_car['accident_cnt']\n",
        "del parked_car['geometry']"
      ],
      "execution_count": null,
      "outputs": []
    },
    {
      "cell_type": "code",
      "metadata": {
        "id": "OSH9Tab71WoH"
      },
      "source": [
        "parked_car = parked_car.fillna(0)"
      ],
      "execution_count": null,
      "outputs": []
    },
    {
      "cell_type": "code",
      "metadata": {
        "scrolled": true,
        "id": "1Qrpy9ou1WoH",
        "outputId": "a7fd4a53-4552-4615-feaf-e71f8c159332"
      },
      "source": [
        "parked_car"
      ],
      "execution_count": null,
      "outputs": [
        {
          "output_type": "execute_result",
          "data": {
            "text/html": [
              "<div>\n",
              "<style scoped>\n",
              "    .dataframe tbody tr th:only-of-type {\n",
              "        vertical-align: middle;\n",
              "    }\n",
              "\n",
              "    .dataframe tbody tr th {\n",
              "        vertical-align: top;\n",
              "    }\n",
              "\n",
              "    .dataframe thead th {\n",
              "        text-align: right;\n",
              "    }\n",
              "</style>\n",
              "<table border=\"1\" class=\"dataframe\">\n",
              "  <thead>\n",
              "    <tr style=\"text-align: right;\">\n",
              "      <th></th>\n",
              "      <th>gid</th>\n",
              "      <th>단속횟수</th>\n",
              "    </tr>\n",
              "  </thead>\n",
              "  <tbody>\n",
              "    <tr>\n",
              "      <th>0</th>\n",
              "      <td>다사551085</td>\n",
              "      <td>0.0</td>\n",
              "    </tr>\n",
              "    <tr>\n",
              "      <th>1</th>\n",
              "      <td>다사551086</td>\n",
              "      <td>0.0</td>\n",
              "    </tr>\n",
              "    <tr>\n",
              "      <th>2</th>\n",
              "      <td>다사551087</td>\n",
              "      <td>0.0</td>\n",
              "    </tr>\n",
              "    <tr>\n",
              "      <th>3</th>\n",
              "      <td>다사551088</td>\n",
              "      <td>0.0</td>\n",
              "    </tr>\n",
              "    <tr>\n",
              "      <th>4</th>\n",
              "      <td>다사552085</td>\n",
              "      <td>0.0</td>\n",
              "    </tr>\n",
              "    <tr>\n",
              "      <th>...</th>\n",
              "      <td>...</td>\n",
              "      <td>...</td>\n",
              "    </tr>\n",
              "    <tr>\n",
              "      <th>4505</th>\n",
              "      <td>다사646052</td>\n",
              "      <td>0.0</td>\n",
              "    </tr>\n",
              "    <tr>\n",
              "      <th>4506</th>\n",
              "      <td>다사646053</td>\n",
              "      <td>0.0</td>\n",
              "    </tr>\n",
              "    <tr>\n",
              "      <th>4507</th>\n",
              "      <td>다사647050</td>\n",
              "      <td>0.0</td>\n",
              "    </tr>\n",
              "    <tr>\n",
              "      <th>4508</th>\n",
              "      <td>다사647051</td>\n",
              "      <td>0.0</td>\n",
              "    </tr>\n",
              "    <tr>\n",
              "      <th>4509</th>\n",
              "      <td>다사647052</td>\n",
              "      <td>0.0</td>\n",
              "    </tr>\n",
              "  </tbody>\n",
              "</table>\n",
              "<p>4510 rows × 2 columns</p>\n",
              "</div>"
            ],
            "text/plain": [
              "           gid  단속횟수\n",
              "0     다사551085   0.0\n",
              "1     다사551086   0.0\n",
              "2     다사551087   0.0\n",
              "3     다사551088   0.0\n",
              "4     다사552085   0.0\n",
              "...        ...   ...\n",
              "4505  다사646052   0.0\n",
              "4506  다사646053   0.0\n",
              "4507  다사647050   0.0\n",
              "4508  다사647051   0.0\n",
              "4509  다사647052   0.0\n",
              "\n",
              "[4510 rows x 2 columns]"
            ]
          },
          "metadata": {
            "tags": []
          },
          "execution_count": 91
        }
      ]
    },
    {
      "cell_type": "markdown",
      "metadata": {
        "id": "JVILofr-1WoI"
      },
      "source": [
        "### join 할 데이터: 24번 교통량"
      ]
    },
    {
      "cell_type": "code",
      "metadata": {
        "id": "PcY_zTCU1WoI"
      },
      "source": [
        "df1 = data24.copy()"
      ],
      "execution_count": null,
      "outputs": []
    },
    {
      "cell_type": "code",
      "metadata": {
        "id": "R6ZUsuSa1WoI"
      },
      "source": [
        "#하루의 교통량만 사용\n",
        "\n",
        "df1 = df1[df1['시간적범위']=='전일']"
      ],
      "execution_count": null,
      "outputs": []
    },
    {
      "cell_type": "code",
      "metadata": {
        "id": "HCr1Q4s81WoI"
      },
      "source": [
        "df1['상세도로망_LinkID'] = df1['상세도로망_LinkID'].astype(str)"
      ],
      "execution_count": null,
      "outputs": []
    },
    {
      "cell_type": "code",
      "metadata": {
        "id": "au_82Zr-1WoJ"
      },
      "source": [
        "#상행선과 하행선 구분 X\n",
        "\n",
        "df1['link_id'] = df1['상세도로망_LinkID'].str[0:9]"
      ],
      "execution_count": null,
      "outputs": []
    },
    {
      "cell_type": "code",
      "metadata": {
        "id": "bLIFeg0S1WoJ"
      },
      "source": [
        "df1 = df1.groupby('link_id', as_index=False).sum()"
      ],
      "execution_count": null,
      "outputs": []
    },
    {
      "cell_type": "code",
      "metadata": {
        "id": "V1yvurmb1WoJ"
      },
      "source": [
        "df2 = data23.copy()"
      ],
      "execution_count": null,
      "outputs": []
    },
    {
      "cell_type": "code",
      "metadata": {
        "id": "4Ibwyj4O1WoJ"
      },
      "source": [
        "traffic = pd.merge(df1, df2, how='left', on='link_id')"
      ],
      "execution_count": null,
      "outputs": []
    },
    {
      "cell_type": "code",
      "metadata": {
        "id": "IuHTANxk1WoJ"
      },
      "source": [
        "#고속도로, 도시고속국도, 고속도로 연결램프 제거\n",
        "\n",
        "for i in range(3, 8, 1):\n",
        "    traffic_a = traffic[traffic['road_rank'] == '10%d' %i]\n",
        "    if i == 3:\n",
        "        traffic_b = traffic_a\n",
        "    else:\n",
        "        traffic_b = pd.concat([traffic_b,traffic_a],axis = 0)"
      ],
      "execution_count": null,
      "outputs": []
    },
    {
      "cell_type": "code",
      "metadata": {
        "id": "kpWFKbeG1WoJ"
      },
      "source": [
        "traffic = traffic_b.copy()"
      ],
      "execution_count": null,
      "outputs": []
    },
    {
      "cell_type": "code",
      "metadata": {
        "id": "TosLmwlo1WoK"
      },
      "source": [
        "traffic = traffic[['link_id', '전체 추정교통량', 'geometry']]"
      ],
      "execution_count": null,
      "outputs": []
    },
    {
      "cell_type": "code",
      "metadata": {
        "id": "V1qXe2HX1WoK"
      },
      "source": [
        "traffic_buff = traffic.copy()"
      ],
      "execution_count": null,
      "outputs": []
    },
    {
      "cell_type": "code",
      "metadata": {
        "id": "HjGxK9GN1WoK"
      },
      "source": [
        "traffic_buff = gpd.GeoDataFrame(traffic_buff)"
      ],
      "execution_count": null,
      "outputs": []
    },
    {
      "cell_type": "code",
      "metadata": {
        "id": "u2qZaQme1WoK",
        "outputId": "13f64779-9955-4751-eabd-67d28947c44e"
      },
      "source": [
        "#도로의 데이터를 격자로 포함시키기 위해 버퍼 적용\n",
        "\n",
        "traffic_buff['geometry'] = traffic_buff['geometry'].buffer(0.0005)"
      ],
      "execution_count": null,
      "outputs": [
        {
          "output_type": "stream",
          "text": [
            "/opt/app-root/lib/python3.6/site-packages/ipykernel_launcher.py:3: UserWarning: Geometry is in a geographic CRS. Results from 'buffer' are likely incorrect. Use 'GeoSeries.to_crs()' to re-project geometries to a projected CRS before this operation.\n",
            "\n",
            "  This is separate from the ipykernel package so we can avoid doing imports until\n"
          ],
          "name": "stderr"
        }
      ]
    },
    {
      "cell_type": "code",
      "metadata": {
        "id": "MZYpUYfn1WoL"
      },
      "source": [
        "grid_point = data2.copy()"
      ],
      "execution_count": null,
      "outputs": []
    },
    {
      "cell_type": "code",
      "metadata": {
        "scrolled": true,
        "id": "YXb2yL6z1WoL",
        "outputId": "e29c390a-858a-4583-ad67-1985d3cd3683"
      },
      "source": [
        "grid_point['geometry'] = grid_point['geometry'].centroid"
      ],
      "execution_count": null,
      "outputs": [
        {
          "output_type": "stream",
          "text": [
            "/opt/app-root/lib/python3.6/site-packages/ipykernel_launcher.py:1: UserWarning: Geometry is in a geographic CRS. Results from 'centroid' are likely incorrect. Use 'GeoSeries.to_crs()' to re-project geometries to a projected CRS before this operation.\n",
            "\n",
            "  \"\"\"Entry point for launching an IPython kernel.\n"
          ],
          "name": "stderr"
        }
      ]
    },
    {
      "cell_type": "code",
      "metadata": {
        "id": "JoAYaeLX1WoL"
      },
      "source": [
        "#coordinates를 multipolygon으로 할당\n",
        "\n",
        "point = grid_point.copy()\n",
        "poly = traffic_buff.copy()\n",
        "from geopandas.tools import sjoin\n",
        "grid_traffic = sjoin(poly, point, how='left')"
      ],
      "execution_count": null,
      "outputs": []
    },
    {
      "cell_type": "code",
      "metadata": {
        "id": "jQO5TB-U1WoL"
      },
      "source": [
        "grid_traffic = grid_traffic.reset_index()"
      ],
      "execution_count": null,
      "outputs": []
    },
    {
      "cell_type": "code",
      "metadata": {
        "scrolled": true,
        "id": "YgpinNNH1WoM",
        "outputId": "8c5cbbe2-6434-4716-c53b-1b73eef8c2be"
      },
      "source": [
        "grid_traffic.isnull().sum()"
      ],
      "execution_count": null,
      "outputs": [
        {
          "output_type": "execute_result",
          "data": {
            "text/plain": [
              "index            0\n",
              "link_id          0\n",
              "전체 추정교통량         0\n",
              "geometry         0\n",
              "index_right     81\n",
              "gid             81\n",
              "accident_cnt    81\n",
              "dtype: int64"
            ]
          },
          "metadata": {
            "tags": []
          },
          "execution_count": 109
        }
      ]
    },
    {
      "cell_type": "code",
      "metadata": {
        "id": "QU7P5Wge1WoM"
      },
      "source": [
        "grid_traffic = grid_traffic.dropna()"
      ],
      "execution_count": null,
      "outputs": []
    },
    {
      "cell_type": "code",
      "metadata": {
        "scrolled": true,
        "id": "rhOtuesr1WoM"
      },
      "source": [
        "#그리드별 교통량 합\n",
        "\n",
        "grid_traffic_sum = grid_traffic.groupby('gid', as_index=False).sum()"
      ],
      "execution_count": null,
      "outputs": []
    },
    {
      "cell_type": "code",
      "metadata": {
        "id": "EWt_nqhi1WoM"
      },
      "source": [
        "#그리드별 교통량 평균\n",
        "\n",
        "grid_traffic_mean = grid_traffic.groupby('gid', as_index=False).mean()"
      ],
      "execution_count": null,
      "outputs": []
    },
    {
      "cell_type": "code",
      "metadata": {
        "id": "C1MZO8UL1WoM"
      },
      "source": [
        "grid_traffic = pd.merge(grid_traffic_sum, grid_traffic_mean, how='left', on='gid')"
      ],
      "execution_count": null,
      "outputs": []
    },
    {
      "cell_type": "code",
      "metadata": {
        "scrolled": true,
        "id": "D2nQrbBv1WoM"
      },
      "source": [
        "grid_traffic = grid_traffic.iloc[:,[0, 2, 6]]"
      ],
      "execution_count": null,
      "outputs": []
    },
    {
      "cell_type": "code",
      "metadata": {
        "id": "2kyIvJdE1WoN"
      },
      "source": [
        "grid_traffic = grid_traffic.rename(columns={'전체 추정교통량_x':'traffic_sum', '전체 추정교통량_y':'traffic_mean'})"
      ],
      "execution_count": null,
      "outputs": []
    },
    {
      "cell_type": "code",
      "metadata": {
        "scrolled": true,
        "id": "PhY3Xioe1WoN"
      },
      "source": [
        "traffic = pd.merge(data2, grid_traffic, how='left', on='gid')"
      ],
      "execution_count": null,
      "outputs": []
    },
    {
      "cell_type": "code",
      "metadata": {
        "scrolled": true,
        "id": "g0MfrDAn1WoN"
      },
      "source": [
        "traffic = traffic[['gid', 'traffic_sum', 'traffic_mean']]"
      ],
      "execution_count": null,
      "outputs": []
    },
    {
      "cell_type": "code",
      "metadata": {
        "id": "1qO4qIje1WoN"
      },
      "source": [
        "traffic = traffic.fillna(0)"
      ],
      "execution_count": null,
      "outputs": []
    },
    {
      "cell_type": "code",
      "metadata": {
        "scrolled": true,
        "id": "WXMtQIGD1WoN",
        "outputId": "c4ceb0f7-fe21-4b78-f8f4-3918852cd8c5"
      },
      "source": [
        "traffic"
      ],
      "execution_count": null,
      "outputs": [
        {
          "output_type": "execute_result",
          "data": {
            "text/html": [
              "<div>\n",
              "<style scoped>\n",
              "    .dataframe tbody tr th:only-of-type {\n",
              "        vertical-align: middle;\n",
              "    }\n",
              "\n",
              "    .dataframe tbody tr th {\n",
              "        vertical-align: top;\n",
              "    }\n",
              "\n",
              "    .dataframe thead th {\n",
              "        text-align: right;\n",
              "    }\n",
              "</style>\n",
              "<table border=\"1\" class=\"dataframe\">\n",
              "  <thead>\n",
              "    <tr style=\"text-align: right;\">\n",
              "      <th></th>\n",
              "      <th>gid</th>\n",
              "      <th>traffic_sum</th>\n",
              "      <th>traffic_mean</th>\n",
              "    </tr>\n",
              "  </thead>\n",
              "  <tbody>\n",
              "    <tr>\n",
              "      <th>0</th>\n",
              "      <td>다사551085</td>\n",
              "      <td>0.0</td>\n",
              "      <td>0.0</td>\n",
              "    </tr>\n",
              "    <tr>\n",
              "      <th>1</th>\n",
              "      <td>다사551086</td>\n",
              "      <td>0.0</td>\n",
              "      <td>0.0</td>\n",
              "    </tr>\n",
              "    <tr>\n",
              "      <th>2</th>\n",
              "      <td>다사551087</td>\n",
              "      <td>0.0</td>\n",
              "      <td>0.0</td>\n",
              "    </tr>\n",
              "    <tr>\n",
              "      <th>3</th>\n",
              "      <td>다사551088</td>\n",
              "      <td>0.0</td>\n",
              "      <td>0.0</td>\n",
              "    </tr>\n",
              "    <tr>\n",
              "      <th>4</th>\n",
              "      <td>다사552085</td>\n",
              "      <td>0.0</td>\n",
              "      <td>0.0</td>\n",
              "    </tr>\n",
              "    <tr>\n",
              "      <th>...</th>\n",
              "      <td>...</td>\n",
              "      <td>...</td>\n",
              "      <td>...</td>\n",
              "    </tr>\n",
              "    <tr>\n",
              "      <th>4505</th>\n",
              "      <td>다사646052</td>\n",
              "      <td>0.0</td>\n",
              "      <td>0.0</td>\n",
              "    </tr>\n",
              "    <tr>\n",
              "      <th>4506</th>\n",
              "      <td>다사646053</td>\n",
              "      <td>0.0</td>\n",
              "      <td>0.0</td>\n",
              "    </tr>\n",
              "    <tr>\n",
              "      <th>4507</th>\n",
              "      <td>다사647050</td>\n",
              "      <td>0.0</td>\n",
              "      <td>0.0</td>\n",
              "    </tr>\n",
              "    <tr>\n",
              "      <th>4508</th>\n",
              "      <td>다사647051</td>\n",
              "      <td>0.0</td>\n",
              "      <td>0.0</td>\n",
              "    </tr>\n",
              "    <tr>\n",
              "      <th>4509</th>\n",
              "      <td>다사647052</td>\n",
              "      <td>0.0</td>\n",
              "      <td>0.0</td>\n",
              "    </tr>\n",
              "  </tbody>\n",
              "</table>\n",
              "<p>4510 rows × 3 columns</p>\n",
              "</div>"
            ],
            "text/plain": [
              "           gid  traffic_sum  traffic_mean\n",
              "0     다사551085          0.0           0.0\n",
              "1     다사551086          0.0           0.0\n",
              "2     다사551087          0.0           0.0\n",
              "3     다사551088          0.0           0.0\n",
              "4     다사552085          0.0           0.0\n",
              "...        ...          ...           ...\n",
              "4505  다사646052          0.0           0.0\n",
              "4506  다사646053          0.0           0.0\n",
              "4507  다사647050          0.0           0.0\n",
              "4508  다사647051          0.0           0.0\n",
              "4509  다사647052          0.0           0.0\n",
              "\n",
              "[4510 rows x 3 columns]"
            ]
          },
          "metadata": {
            "tags": []
          },
          "execution_count": 119
        }
      ]
    },
    {
      "cell_type": "markdown",
      "metadata": {
        "id": "1tBWghf21WoN"
      },
      "source": [
        "### join 할 데이터: 25번 혼잡빈도강도"
      ]
    },
    {
      "cell_type": "code",
      "metadata": {
        "scrolled": true,
        "id": "0C_A4SI21WoN"
      },
      "source": [
        "df1 = data25.copy()"
      ],
      "execution_count": null,
      "outputs": []
    },
    {
      "cell_type": "code",
      "metadata": {
        "scrolled": true,
        "id": "4M6cJTpQ1WoO"
      },
      "source": [
        "df1['상세도로망_LinkID'] = df1['상세도로망_LinkID'].astype(str)"
      ],
      "execution_count": null,
      "outputs": []
    },
    {
      "cell_type": "code",
      "metadata": {
        "scrolled": true,
        "id": "tSq-2EuY1WoO"
      },
      "source": [
        "df1['link_id'] = df1['상세도로망_LinkID'].str[0:9]"
      ],
      "execution_count": null,
      "outputs": []
    },
    {
      "cell_type": "code",
      "metadata": {
        "id": "L_aeYhSc1WoO"
      },
      "source": [
        "df2 = data23.copy()"
      ],
      "execution_count": null,
      "outputs": []
    },
    {
      "cell_type": "code",
      "metadata": {
        "scrolled": true,
        "id": "wvPa-ia11WoO"
      },
      "source": [
        "freq = pd.merge(df1, df2, how='left', on='link_id')"
      ],
      "execution_count": null,
      "outputs": []
    },
    {
      "cell_type": "code",
      "metadata": {
        "id": "55bFvR0l1WoO"
      },
      "source": [
        "for i in range(3, 8, 1):\n",
        "    freq_a = freq[freq['road_rank'] == '10%d' %i]\n",
        "    if i == 3:\n",
        "        freq_b = freq_a\n",
        "    else:\n",
        "        freq_b = pd.concat([freq_b,freq_a],axis = 0)"
      ],
      "execution_count": null,
      "outputs": []
    },
    {
      "cell_type": "code",
      "metadata": {
        "id": "5_d54K841WoO"
      },
      "source": [
        "freq = freq_b.copy()"
      ],
      "execution_count": null,
      "outputs": []
    },
    {
      "cell_type": "code",
      "metadata": {
        "id": "ikoIGtEl1WoO"
      },
      "source": [
        "freq = freq[['link_id', '혼잡빈도강도', 'geometry']]"
      ],
      "execution_count": null,
      "outputs": []
    },
    {
      "cell_type": "code",
      "metadata": {
        "id": "MZdeZS1j1WoP"
      },
      "source": [
        "freq_buff = freq.copy()"
      ],
      "execution_count": null,
      "outputs": []
    },
    {
      "cell_type": "code",
      "metadata": {
        "scrolled": true,
        "id": "Dm1ZzIzK1WoP"
      },
      "source": [
        "freq_buff = gpd.GeoDataFrame(freq_buff)"
      ],
      "execution_count": null,
      "outputs": []
    },
    {
      "cell_type": "code",
      "metadata": {
        "scrolled": true,
        "id": "r5b93Exn1WoP",
        "outputId": "20af222e-9ffa-4064-fe01-9d7f87bf4213"
      },
      "source": [
        "freq_buff['geometry'] = freq_buff['geometry'].buffer(0.0005)"
      ],
      "execution_count": null,
      "outputs": [
        {
          "output_type": "stream",
          "text": [
            "/opt/app-root/lib/python3.6/site-packages/ipykernel_launcher.py:1: UserWarning: Geometry is in a geographic CRS. Results from 'buffer' are likely incorrect. Use 'GeoSeries.to_crs()' to re-project geometries to a projected CRS before this operation.\n",
            "\n",
            "  \"\"\"Entry point for launching an IPython kernel.\n"
          ],
          "name": "stderr"
        }
      ]
    },
    {
      "cell_type": "code",
      "metadata": {
        "scrolled": true,
        "id": "_Y9EKp571WoP"
      },
      "source": [
        "poly = freq_buff.copy()\n",
        "point = grid_point.copy()\n",
        "from geopandas.tools import sjoin\n",
        "grid_freq_temp = sjoin(poly, point, how='left')"
      ],
      "execution_count": null,
      "outputs": []
    },
    {
      "cell_type": "code",
      "metadata": {
        "id": "3DvFYVI31WoP",
        "outputId": "dad4f801-5922-46c3-b3bc-7de414f54086"
      },
      "source": [
        "grid_freq_temp.isnull().sum()"
      ],
      "execution_count": null,
      "outputs": [
        {
          "output_type": "execute_result",
          "data": {
            "text/plain": [
              "link_id           0\n",
              "혼잡빈도강도            0\n",
              "geometry          0\n",
              "index_right     127\n",
              "gid             127\n",
              "accident_cnt    127\n",
              "dtype: int64"
            ]
          },
          "metadata": {
            "tags": []
          },
          "execution_count": 132
        }
      ]
    },
    {
      "cell_type": "code",
      "metadata": {
        "id": "U57cWmox1WoP"
      },
      "source": [
        "grid_freq_temp = grid_freq_temp.dropna()"
      ],
      "execution_count": null,
      "outputs": []
    },
    {
      "cell_type": "code",
      "metadata": {
        "id": "e6Cg0WiK1WoQ"
      },
      "source": [
        "grid_freq_temp_sum = grid_freq_temp.groupby('gid', as_index=False).sum()"
      ],
      "execution_count": null,
      "outputs": []
    },
    {
      "cell_type": "code",
      "metadata": {
        "id": "uPa_w_A71WoQ"
      },
      "source": [
        "grid_freq_temp_mean = grid_freq_temp.groupby('gid', as_index=False).mean()"
      ],
      "execution_count": null,
      "outputs": []
    },
    {
      "cell_type": "code",
      "metadata": {
        "scrolled": true,
        "id": "crACuA-i1WoQ"
      },
      "source": [
        "grid_freq = pd.merge(grid_freq_temp_sum, grid_freq_temp_mean, how='left', on='gid')"
      ],
      "execution_count": null,
      "outputs": []
    },
    {
      "cell_type": "code",
      "metadata": {
        "scrolled": true,
        "id": "2xHemw0q1WoQ"
      },
      "source": [
        "grid_freq = grid_freq[['gid', '혼잡빈도강도_x', '혼잡빈도강도_y']]"
      ],
      "execution_count": null,
      "outputs": []
    },
    {
      "cell_type": "code",
      "metadata": {
        "id": "BjTk1aeM1WoQ"
      },
      "source": [
        "grid_freq = grid_freq.rename(columns={'혼잡빈도강도_x':'freq_sum', '혼잡빈도강도_y':'freq_mean'})"
      ],
      "execution_count": null,
      "outputs": []
    },
    {
      "cell_type": "code",
      "metadata": {
        "scrolled": true,
        "id": "xKIanqt51WoR"
      },
      "source": [
        "freq = pd.merge(data2, grid_freq, how='left', on='gid')"
      ],
      "execution_count": null,
      "outputs": []
    },
    {
      "cell_type": "code",
      "metadata": {
        "id": "w1wmgE9o1WoR"
      },
      "source": [
        "freq = freq[['gid', 'freq_sum', 'freq_mean']]"
      ],
      "execution_count": null,
      "outputs": []
    },
    {
      "cell_type": "code",
      "metadata": {
        "id": "N2ps2U_o1WoR"
      },
      "source": [
        "freq = freq.fillna(0)"
      ],
      "execution_count": null,
      "outputs": []
    },
    {
      "cell_type": "code",
      "metadata": {
        "scrolled": true,
        "id": "W7SbxPy41WoR",
        "outputId": "4405b29b-63ca-4622-9ebf-96483d4fe45f"
      },
      "source": [
        "freq"
      ],
      "execution_count": null,
      "outputs": [
        {
          "output_type": "execute_result",
          "data": {
            "text/html": [
              "<div>\n",
              "<style scoped>\n",
              "    .dataframe tbody tr th:only-of-type {\n",
              "        vertical-align: middle;\n",
              "    }\n",
              "\n",
              "    .dataframe tbody tr th {\n",
              "        vertical-align: top;\n",
              "    }\n",
              "\n",
              "    .dataframe thead th {\n",
              "        text-align: right;\n",
              "    }\n",
              "</style>\n",
              "<table border=\"1\" class=\"dataframe\">\n",
              "  <thead>\n",
              "    <tr style=\"text-align: right;\">\n",
              "      <th></th>\n",
              "      <th>gid</th>\n",
              "      <th>freq_sum</th>\n",
              "      <th>freq_mean</th>\n",
              "    </tr>\n",
              "  </thead>\n",
              "  <tbody>\n",
              "    <tr>\n",
              "      <th>0</th>\n",
              "      <td>다사551085</td>\n",
              "      <td>0.0</td>\n",
              "      <td>0.0</td>\n",
              "    </tr>\n",
              "    <tr>\n",
              "      <th>1</th>\n",
              "      <td>다사551086</td>\n",
              "      <td>0.0</td>\n",
              "      <td>0.0</td>\n",
              "    </tr>\n",
              "    <tr>\n",
              "      <th>2</th>\n",
              "      <td>다사551087</td>\n",
              "      <td>0.0</td>\n",
              "      <td>0.0</td>\n",
              "    </tr>\n",
              "    <tr>\n",
              "      <th>3</th>\n",
              "      <td>다사551088</td>\n",
              "      <td>0.0</td>\n",
              "      <td>0.0</td>\n",
              "    </tr>\n",
              "    <tr>\n",
              "      <th>4</th>\n",
              "      <td>다사552085</td>\n",
              "      <td>0.0</td>\n",
              "      <td>0.0</td>\n",
              "    </tr>\n",
              "    <tr>\n",
              "      <th>...</th>\n",
              "      <td>...</td>\n",
              "      <td>...</td>\n",
              "      <td>...</td>\n",
              "    </tr>\n",
              "    <tr>\n",
              "      <th>4505</th>\n",
              "      <td>다사646052</td>\n",
              "      <td>0.0</td>\n",
              "      <td>0.0</td>\n",
              "    </tr>\n",
              "    <tr>\n",
              "      <th>4506</th>\n",
              "      <td>다사646053</td>\n",
              "      <td>0.0</td>\n",
              "      <td>0.0</td>\n",
              "    </tr>\n",
              "    <tr>\n",
              "      <th>4507</th>\n",
              "      <td>다사647050</td>\n",
              "      <td>0.0</td>\n",
              "      <td>0.0</td>\n",
              "    </tr>\n",
              "    <tr>\n",
              "      <th>4508</th>\n",
              "      <td>다사647051</td>\n",
              "      <td>0.0</td>\n",
              "      <td>0.0</td>\n",
              "    </tr>\n",
              "    <tr>\n",
              "      <th>4509</th>\n",
              "      <td>다사647052</td>\n",
              "      <td>0.0</td>\n",
              "      <td>0.0</td>\n",
              "    </tr>\n",
              "  </tbody>\n",
              "</table>\n",
              "<p>4510 rows × 3 columns</p>\n",
              "</div>"
            ],
            "text/plain": [
              "           gid  freq_sum  freq_mean\n",
              "0     다사551085       0.0        0.0\n",
              "1     다사551086       0.0        0.0\n",
              "2     다사551087       0.0        0.0\n",
              "3     다사551088       0.0        0.0\n",
              "4     다사552085       0.0        0.0\n",
              "...        ...       ...        ...\n",
              "4505  다사646052       0.0        0.0\n",
              "4506  다사646053       0.0        0.0\n",
              "4507  다사647050       0.0        0.0\n",
              "4508  다사647051       0.0        0.0\n",
              "4509  다사647052       0.0        0.0\n",
              "\n",
              "[4510 rows x 3 columns]"
            ]
          },
          "metadata": {
            "tags": []
          },
          "execution_count": 142
        }
      ]
    },
    {
      "cell_type": "markdown",
      "metadata": {
        "id": "n7KCpLu61WoR"
      },
      "source": [
        "### join 할 데이터: 26번 혼잡시간강도"
      ]
    },
    {
      "cell_type": "code",
      "metadata": {
        "id": "_vQFqHPF1WoR"
      },
      "source": [
        "df1 = data26.copy()"
      ],
      "execution_count": null,
      "outputs": []
    },
    {
      "cell_type": "code",
      "metadata": {
        "id": "9hPuXud-1WoS"
      },
      "source": [
        "df1['상세도로망_LinkID'] = df1['상세도로망_LinkID'].astype(str)"
      ],
      "execution_count": null,
      "outputs": []
    },
    {
      "cell_type": "code",
      "metadata": {
        "scrolled": true,
        "id": "odZa96ZF1WoS"
      },
      "source": [
        "df1['link_id'] = df1['상세도로망_LinkID'].str[0:9]"
      ],
      "execution_count": null,
      "outputs": []
    },
    {
      "cell_type": "code",
      "metadata": {
        "id": "py_GVG9k1WoS"
      },
      "source": [
        "df2 = data23.copy()"
      ],
      "execution_count": null,
      "outputs": []
    },
    {
      "cell_type": "code",
      "metadata": {
        "scrolled": true,
        "id": "b7-Jhs9Q1WoS"
      },
      "source": [
        "time = pd.merge(df1, df2, how='left', on='link_id')"
      ],
      "execution_count": null,
      "outputs": []
    },
    {
      "cell_type": "code",
      "metadata": {
        "id": "DscJLXOd1WoS"
      },
      "source": [
        "for i in range(3, 8, 1):\n",
        "    time_a = time[time['road_rank'] == '10%d' %i]\n",
        "    if i == 3:\n",
        "        time_b = time_a\n",
        "    else:\n",
        "        time_b = pd.concat([time_b,time_a],axis = 0)"
      ],
      "execution_count": null,
      "outputs": []
    },
    {
      "cell_type": "code",
      "metadata": {
        "id": "ONzoeGMv1WoS"
      },
      "source": [
        "time = time_b.copy()"
      ],
      "execution_count": null,
      "outputs": []
    },
    {
      "cell_type": "code",
      "metadata": {
        "id": "cGrdNWFS1WoS"
      },
      "source": [
        "time = time[['link_id', '혼잡시간강도', 'geometry']]"
      ],
      "execution_count": null,
      "outputs": []
    },
    {
      "cell_type": "code",
      "metadata": {
        "id": "cUG6YtGe1WoT"
      },
      "source": [
        "time_buff = time.copy()"
      ],
      "execution_count": null,
      "outputs": []
    },
    {
      "cell_type": "code",
      "metadata": {
        "id": "JS5p52Pk1WoT"
      },
      "source": [
        "time_buff = gpd.GeoDataFrame(time_buff)"
      ],
      "execution_count": null,
      "outputs": []
    },
    {
      "cell_type": "code",
      "metadata": {
        "id": "ttp5IQTm1WoT",
        "outputId": "dd351969-491b-4599-e4d8-3ba5bfb4877e"
      },
      "source": [
        "time_buff['geometry'] = time_buff['geometry'].buffer(0.0005)"
      ],
      "execution_count": null,
      "outputs": [
        {
          "output_type": "stream",
          "text": [
            "/opt/app-root/lib/python3.6/site-packages/ipykernel_launcher.py:1: UserWarning: Geometry is in a geographic CRS. Results from 'buffer' are likely incorrect. Use 'GeoSeries.to_crs()' to re-project geometries to a projected CRS before this operation.\n",
            "\n",
            "  \"\"\"Entry point for launching an IPython kernel.\n"
          ],
          "name": "stderr"
        }
      ]
    },
    {
      "cell_type": "code",
      "metadata": {
        "id": "jVfNMbX_1WoT"
      },
      "source": [
        "poly = time_buff.copy()\n",
        "point = grid_point.copy()\n",
        "from geopandas.tools import sjoin\n",
        "grid_time_temp = sjoin(poly, point, how='left')"
      ],
      "execution_count": null,
      "outputs": []
    },
    {
      "cell_type": "code",
      "metadata": {
        "id": "Kb-cvfuM1WoT",
        "outputId": "f9752a3a-18f9-4b74-bbf7-1d410a6aee7d"
      },
      "source": [
        "grid_time_temp.isnull().sum()"
      ],
      "execution_count": null,
      "outputs": [
        {
          "output_type": "execute_result",
          "data": {
            "text/plain": [
              "link_id           0\n",
              "혼잡시간강도            0\n",
              "geometry          0\n",
              "index_right     127\n",
              "gid             127\n",
              "accident_cnt    127\n",
              "dtype: int64"
            ]
          },
          "metadata": {
            "tags": []
          },
          "execution_count": 155
        }
      ]
    },
    {
      "cell_type": "code",
      "metadata": {
        "scrolled": true,
        "id": "C8qogHlM1WoT"
      },
      "source": [
        "grid_time_temp = grid_time_temp.dropna()"
      ],
      "execution_count": null,
      "outputs": []
    },
    {
      "cell_type": "code",
      "metadata": {
        "id": "W7WF6PPl1WoU"
      },
      "source": [
        "grid_time_temp_sum = grid_time_temp.groupby('gid', as_index=False).sum()"
      ],
      "execution_count": null,
      "outputs": []
    },
    {
      "cell_type": "code",
      "metadata": {
        "id": "de-lB1RY1WoU"
      },
      "source": [
        "grid_time_temp_mean = grid_time_temp.groupby('gid', as_index=False).mean()"
      ],
      "execution_count": null,
      "outputs": []
    },
    {
      "cell_type": "code",
      "metadata": {
        "id": "5JDreHBz1WoU"
      },
      "source": [
        "grid_time = pd.merge(grid_time_temp_sum, grid_time_temp_mean, how='left', on='gid')"
      ],
      "execution_count": null,
      "outputs": []
    },
    {
      "cell_type": "code",
      "metadata": {
        "id": "ZHJs6L3L1WoU"
      },
      "source": [
        "grid_time = grid_time[['gid', '혼잡시간강도_x', '혼잡시간강도_y']]"
      ],
      "execution_count": null,
      "outputs": []
    },
    {
      "cell_type": "code",
      "metadata": {
        "id": "60J9Gm-a1WoU"
      },
      "source": [
        "grid_time = grid_time.rename(columns={'혼잡시간강도_x':'time_sum','혼잡시간강도_y':'time_mean'})"
      ],
      "execution_count": null,
      "outputs": []
    },
    {
      "cell_type": "code",
      "metadata": {
        "scrolled": true,
        "id": "rUyOEb9S1WoU"
      },
      "source": [
        "time = pd.merge(data2, grid_time, how='left', on='gid')"
      ],
      "execution_count": null,
      "outputs": []
    },
    {
      "cell_type": "code",
      "metadata": {
        "id": "pZZLKCcI1WoU"
      },
      "source": [
        "time = time[['gid', 'time_sum', 'time_mean']]"
      ],
      "execution_count": null,
      "outputs": []
    },
    {
      "cell_type": "code",
      "metadata": {
        "scrolled": true,
        "id": "0vuKmZU51WoV"
      },
      "source": [
        "time = time.fillna(0)"
      ],
      "execution_count": null,
      "outputs": []
    },
    {
      "cell_type": "code",
      "metadata": {
        "scrolled": true,
        "id": "7PMLIpkk1WoV",
        "outputId": "7be58cf3-b273-4b9d-9ffc-ac2acc7a1c18"
      },
      "source": [
        "time"
      ],
      "execution_count": null,
      "outputs": [
        {
          "output_type": "execute_result",
          "data": {
            "text/html": [
              "<div>\n",
              "<style scoped>\n",
              "    .dataframe tbody tr th:only-of-type {\n",
              "        vertical-align: middle;\n",
              "    }\n",
              "\n",
              "    .dataframe tbody tr th {\n",
              "        vertical-align: top;\n",
              "    }\n",
              "\n",
              "    .dataframe thead th {\n",
              "        text-align: right;\n",
              "    }\n",
              "</style>\n",
              "<table border=\"1\" class=\"dataframe\">\n",
              "  <thead>\n",
              "    <tr style=\"text-align: right;\">\n",
              "      <th></th>\n",
              "      <th>gid</th>\n",
              "      <th>time_sum</th>\n",
              "      <th>time_mean</th>\n",
              "    </tr>\n",
              "  </thead>\n",
              "  <tbody>\n",
              "    <tr>\n",
              "      <th>0</th>\n",
              "      <td>다사551085</td>\n",
              "      <td>0.0</td>\n",
              "      <td>0.0</td>\n",
              "    </tr>\n",
              "    <tr>\n",
              "      <th>1</th>\n",
              "      <td>다사551086</td>\n",
              "      <td>0.0</td>\n",
              "      <td>0.0</td>\n",
              "    </tr>\n",
              "    <tr>\n",
              "      <th>2</th>\n",
              "      <td>다사551087</td>\n",
              "      <td>0.0</td>\n",
              "      <td>0.0</td>\n",
              "    </tr>\n",
              "    <tr>\n",
              "      <th>3</th>\n",
              "      <td>다사551088</td>\n",
              "      <td>0.0</td>\n",
              "      <td>0.0</td>\n",
              "    </tr>\n",
              "    <tr>\n",
              "      <th>4</th>\n",
              "      <td>다사552085</td>\n",
              "      <td>0.0</td>\n",
              "      <td>0.0</td>\n",
              "    </tr>\n",
              "    <tr>\n",
              "      <th>...</th>\n",
              "      <td>...</td>\n",
              "      <td>...</td>\n",
              "      <td>...</td>\n",
              "    </tr>\n",
              "    <tr>\n",
              "      <th>4505</th>\n",
              "      <td>다사646052</td>\n",
              "      <td>0.0</td>\n",
              "      <td>0.0</td>\n",
              "    </tr>\n",
              "    <tr>\n",
              "      <th>4506</th>\n",
              "      <td>다사646053</td>\n",
              "      <td>0.0</td>\n",
              "      <td>0.0</td>\n",
              "    </tr>\n",
              "    <tr>\n",
              "      <th>4507</th>\n",
              "      <td>다사647050</td>\n",
              "      <td>0.0</td>\n",
              "      <td>0.0</td>\n",
              "    </tr>\n",
              "    <tr>\n",
              "      <th>4508</th>\n",
              "      <td>다사647051</td>\n",
              "      <td>0.0</td>\n",
              "      <td>0.0</td>\n",
              "    </tr>\n",
              "    <tr>\n",
              "      <th>4509</th>\n",
              "      <td>다사647052</td>\n",
              "      <td>0.0</td>\n",
              "      <td>0.0</td>\n",
              "    </tr>\n",
              "  </tbody>\n",
              "</table>\n",
              "<p>4510 rows × 3 columns</p>\n",
              "</div>"
            ],
            "text/plain": [
              "           gid  time_sum  time_mean\n",
              "0     다사551085       0.0        0.0\n",
              "1     다사551086       0.0        0.0\n",
              "2     다사551087       0.0        0.0\n",
              "3     다사551088       0.0        0.0\n",
              "4     다사552085       0.0        0.0\n",
              "...        ...       ...        ...\n",
              "4505  다사646052       0.0        0.0\n",
              "4506  다사646053       0.0        0.0\n",
              "4507  다사647050       0.0        0.0\n",
              "4508  다사647051       0.0        0.0\n",
              "4509  다사647052       0.0        0.0\n",
              "\n",
              "[4510 rows x 3 columns]"
            ]
          },
          "metadata": {
            "tags": []
          },
          "execution_count": 165
        }
      ]
    },
    {
      "cell_type": "markdown",
      "metadata": {
        "id": "ZJIy89xp1WoV"
      },
      "source": [
        "### join 할 데이터: 추가 주정차단속+횡단보도"
      ]
    },
    {
      "cell_type": "code",
      "metadata": {
        "id": "tFhwsPTL1WoV"
      },
      "source": [
        "df1 = data1.copy()"
      ],
      "execution_count": null,
      "outputs": []
    },
    {
      "cell_type": "code",
      "metadata": {
        "id": "8Xt_Ubnt1WoV"
      },
      "source": [
        "df1 = df1.dropna()"
      ],
      "execution_count": null,
      "outputs": []
    },
    {
      "cell_type": "code",
      "metadata": {
        "id": "t_4Qp62B1WoW",
        "outputId": "9aa45067-3a1e-430f-e05a-9ffc355af956"
      },
      "source": [
        "#csv를 geodataframe으로 변환\n",
        "\n",
        "from shapely.geometry import Point\n",
        "park_point = gpd.GeoDataFrame(df1.drop(['단속위치_경도','단속위치_위도'], axis=1),\n",
        "                           crs={'init':'epsg:4326'},\n",
        "                           geometry=[Point(xy) for xy in zip(df1.단속위치_경도, df1.단속위치_위도)])"
      ],
      "execution_count": null,
      "outputs": [
        {
          "output_type": "stream",
          "text": [
            "/opt/app-root/lib/python3.6/site-packages/pyproj/crs/crs.py:53: FutureWarning: '+init=<authority>:<code>' syntax is deprecated. '<authority>:<code>' is the preferred initialization method. When making the change, be mindful of axis order changes: https://pyproj4.github.io/pyproj/stable/gotchas.html#axis-order-changes-in-proj-6\n",
            "  return _prepare_from_string(\" \".join(pjargs))\n"
          ],
          "name": "stderr"
        }
      ]
    },
    {
      "cell_type": "code",
      "metadata": {
        "id": "rtmb3rfw1WoW"
      },
      "source": [
        "cross_buff = data17.copy()"
      ],
      "execution_count": null,
      "outputs": []
    },
    {
      "cell_type": "code",
      "metadata": {
        "id": "lSwY67OC1WoW",
        "outputId": "0d1ef46b-ed1a-458f-90ca-96ebb74921f5"
      },
      "source": [
        "cross_buff['geometry'] = cross_buff['geometry'].buffer(0.00005)   #5미터"
      ],
      "execution_count": null,
      "outputs": [
        {
          "output_type": "stream",
          "text": [
            "/opt/app-root/lib/python3.6/site-packages/ipykernel_launcher.py:1: UserWarning: Geometry is in a geographic CRS. Results from 'buffer' are likely incorrect. Use 'GeoSeries.to_crs()' to re-project geometries to a projected CRS before this operation.\n",
            "\n",
            "  \"\"\"Entry point for launching an IPython kernel.\n"
          ],
          "name": "stderr"
        }
      ]
    },
    {
      "cell_type": "code",
      "metadata": {
        "id": "gU6H15h81WoW",
        "outputId": "16c2d31e-eddf-4ffc-dc7b-263316828075"
      },
      "source": [
        "#주정차단속 좌표를 multipolygon으로 할당\n",
        "\n",
        "point = park_point.copy()\n",
        "poly = cross_buff.copy()\n",
        "from geopandas.tools import sjoin\n",
        "park_cross = sjoin(point, poly, how='left')"
      ],
      "execution_count": null,
      "outputs": [
        {
          "output_type": "stream",
          "text": [
            "/opt/app-root/lib/python3.6/site-packages/ipykernel_launcher.py:6: UserWarning: CRS mismatch between the CRS of left geometries and the CRS of right geometries.\n",
            "Use `to_crs()` to reproject one of the input geometries to match the CRS of the other.\n",
            "\n",
            "Left CRS: +init=epsg:4326 +type=crs\n",
            "Right CRS: EPSG:4326\n",
            "\n",
            "  \n"
          ],
          "name": "stderr"
        }
      ]
    },
    {
      "cell_type": "code",
      "metadata": {
        "id": "WA5DO6ad1WoW",
        "outputId": "6526ba9a-9d68-4d30-a487-b665907c0ce5"
      },
      "source": [
        "park_cross.isnull().sum()"
      ],
      "execution_count": null,
      "outputs": [
        {
          "output_type": "execute_result",
          "data": {
            "text/plain": [
              "단속일자               0\n",
              "단속위치               0\n",
              "행정구역               0\n",
              "스쿨존여부              0\n",
              "단속종류               0\n",
              "geometry           0\n",
              "index_right    44206\n",
              "OBJECTID       44206\n",
              "dtype: int64"
            ]
          },
          "metadata": {
            "tags": []
          },
          "execution_count": 172
        }
      ]
    },
    {
      "cell_type": "code",
      "metadata": {
        "id": "zzeN3n441WoX"
      },
      "source": [
        "park_cross = park_cross.dropna()"
      ],
      "execution_count": null,
      "outputs": []
    },
    {
      "cell_type": "code",
      "metadata": {
        "id": "NlneEvOa1WoX"
      },
      "source": [
        "del park_cross['index_right']"
      ],
      "execution_count": null,
      "outputs": []
    },
    {
      "cell_type": "code",
      "metadata": {
        "id": "ZJhtNoXi1WoX",
        "outputId": "26e34102-2aed-46d7-92e6-642fa75e8488"
      },
      "source": [
        "point = park_cross.copy()   #주정차단속 좌표를 multipolygon으로 할당#\n",
        "poly = data2.copy()\n",
        "from geopandas.tools import sjoin\n",
        "grid_park_cross = sjoin(point, poly, how='left')"
      ],
      "execution_count": null,
      "outputs": [
        {
          "output_type": "stream",
          "text": [
            "/opt/app-root/lib/python3.6/site-packages/ipykernel_launcher.py:4: UserWarning: CRS mismatch between the CRS of left geometries and the CRS of right geometries.\n",
            "Use `to_crs()` to reproject one of the input geometries to match the CRS of the other.\n",
            "\n",
            "Left CRS: +init=epsg:4326 +type=crs\n",
            "Right CRS: EPSG:4326\n",
            "\n",
            "  after removing the cwd from sys.path.\n"
          ],
          "name": "stderr"
        }
      ]
    },
    {
      "cell_type": "code",
      "metadata": {
        "id": "2kaDuNxG1WoX"
      },
      "source": [
        "grid_park_cross = grid_park_cross.groupby('gid', as_index=False).count()"
      ],
      "execution_count": null,
      "outputs": []
    },
    {
      "cell_type": "code",
      "metadata": {
        "id": "CgNmYQQx1WoX"
      },
      "source": [
        "grid_park_cross = grid_park_cross.iloc[:,[0,1]]"
      ],
      "execution_count": null,
      "outputs": []
    },
    {
      "cell_type": "code",
      "metadata": {
        "id": "6Li7tD171WoX"
      },
      "source": [
        "grid_park_cross = grid_park_cross.rename(columns={'단속일자':'단속횟수_횡단보도위'})"
      ],
      "execution_count": null,
      "outputs": []
    },
    {
      "cell_type": "code",
      "metadata": {
        "id": "8nyswc_J1WoY"
      },
      "source": [
        "grid_park_cross = pd.merge(data2, grid_park_cross, how='left', on='gid')"
      ],
      "execution_count": null,
      "outputs": []
    },
    {
      "cell_type": "code",
      "metadata": {
        "id": "hcMHIRs21WoY"
      },
      "source": [
        "grid_park_cross = grid_park_cross.fillna(0)"
      ],
      "execution_count": null,
      "outputs": []
    },
    {
      "cell_type": "code",
      "metadata": {
        "id": "fbTuFOp21WoY"
      },
      "source": [
        "grid_park_cross = grid_park_cross[['gid', '단속횟수_횡단보도위']]"
      ],
      "execution_count": null,
      "outputs": []
    },
    {
      "cell_type": "code",
      "metadata": {
        "id": "igMGHMtx1WoY"
      },
      "source": [
        "park_cross = grid_park_cross.copy()"
      ],
      "execution_count": null,
      "outputs": []
    },
    {
      "cell_type": "code",
      "metadata": {
        "id": "wbEeybXv1WoY",
        "outputId": "0aafc3dd-5913-4a66-914c-5897cfa7d0eb"
      },
      "source": [
        "park_cross"
      ],
      "execution_count": null,
      "outputs": [
        {
          "output_type": "execute_result",
          "data": {
            "text/html": [
              "<div>\n",
              "<style scoped>\n",
              "    .dataframe tbody tr th:only-of-type {\n",
              "        vertical-align: middle;\n",
              "    }\n",
              "\n",
              "    .dataframe tbody tr th {\n",
              "        vertical-align: top;\n",
              "    }\n",
              "\n",
              "    .dataframe thead th {\n",
              "        text-align: right;\n",
              "    }\n",
              "</style>\n",
              "<table border=\"1\" class=\"dataframe\">\n",
              "  <thead>\n",
              "    <tr style=\"text-align: right;\">\n",
              "      <th></th>\n",
              "      <th>gid</th>\n",
              "      <th>단속횟수_횡단보도위</th>\n",
              "    </tr>\n",
              "  </thead>\n",
              "  <tbody>\n",
              "    <tr>\n",
              "      <th>0</th>\n",
              "      <td>다사551085</td>\n",
              "      <td>0.0</td>\n",
              "    </tr>\n",
              "    <tr>\n",
              "      <th>1</th>\n",
              "      <td>다사551086</td>\n",
              "      <td>0.0</td>\n",
              "    </tr>\n",
              "    <tr>\n",
              "      <th>2</th>\n",
              "      <td>다사551087</td>\n",
              "      <td>0.0</td>\n",
              "    </tr>\n",
              "    <tr>\n",
              "      <th>3</th>\n",
              "      <td>다사551088</td>\n",
              "      <td>0.0</td>\n",
              "    </tr>\n",
              "    <tr>\n",
              "      <th>4</th>\n",
              "      <td>다사552085</td>\n",
              "      <td>0.0</td>\n",
              "    </tr>\n",
              "    <tr>\n",
              "      <th>...</th>\n",
              "      <td>...</td>\n",
              "      <td>...</td>\n",
              "    </tr>\n",
              "    <tr>\n",
              "      <th>4505</th>\n",
              "      <td>다사646052</td>\n",
              "      <td>0.0</td>\n",
              "    </tr>\n",
              "    <tr>\n",
              "      <th>4506</th>\n",
              "      <td>다사646053</td>\n",
              "      <td>0.0</td>\n",
              "    </tr>\n",
              "    <tr>\n",
              "      <th>4507</th>\n",
              "      <td>다사647050</td>\n",
              "      <td>0.0</td>\n",
              "    </tr>\n",
              "    <tr>\n",
              "      <th>4508</th>\n",
              "      <td>다사647051</td>\n",
              "      <td>0.0</td>\n",
              "    </tr>\n",
              "    <tr>\n",
              "      <th>4509</th>\n",
              "      <td>다사647052</td>\n",
              "      <td>0.0</td>\n",
              "    </tr>\n",
              "  </tbody>\n",
              "</table>\n",
              "<p>4510 rows × 2 columns</p>\n",
              "</div>"
            ],
            "text/plain": [
              "           gid  단속횟수_횡단보도위\n",
              "0     다사551085         0.0\n",
              "1     다사551086         0.0\n",
              "2     다사551087         0.0\n",
              "3     다사551088         0.0\n",
              "4     다사552085         0.0\n",
              "...        ...         ...\n",
              "4505  다사646052         0.0\n",
              "4506  다사646053         0.0\n",
              "4507  다사647050         0.0\n",
              "4508  다사647051         0.0\n",
              "4509  다사647052         0.0\n",
              "\n",
              "[4510 rows x 2 columns]"
            ]
          },
          "metadata": {
            "tags": []
          },
          "execution_count": 183
        }
      ]
    },
    {
      "cell_type": "markdown",
      "metadata": {
        "id": "iLyDlaYX1WoY"
      },
      "source": [
        "### join 할 데이터: 여러가지 데이터"
      ]
    },
    {
      "cell_type": "code",
      "metadata": {
        "id": "EnCi8ksg1WoZ"
      },
      "source": [
        "var_data = pd.merge(data2,data3,how = 'left', on='geometry')"
      ],
      "execution_count": null,
      "outputs": []
    },
    {
      "cell_type": "code",
      "metadata": {
        "id": "gK6eJGMK1WoZ"
      },
      "source": [
        "var_data = pd.merge(var_data,data4,on='geometry')\n",
        "var_data = var_data.rename(columns = {'val':'pop_all'})"
      ],
      "execution_count": null,
      "outputs": []
    },
    {
      "cell_type": "code",
      "metadata": {
        "id": "MV12OrHx1WoZ"
      },
      "source": [
        "del var_data['gid_y']\n",
        "del var_data['gid_x']"
      ],
      "execution_count": null,
      "outputs": []
    },
    {
      "cell_type": "code",
      "metadata": {
        "id": "d9m6JMSy1WoZ"
      },
      "source": [
        "var_data = pd.merge(var_data,data5,on='geometry')\n",
        "var_data = var_data.rename(columns = {'val':'pop_child'})"
      ],
      "execution_count": null,
      "outputs": []
    },
    {
      "cell_type": "code",
      "metadata": {
        "id": "YbXOX3NJ1WoZ"
      },
      "source": [
        "del var_data['gid_y']\n",
        "del var_data['accident_cnt']\n",
        "del var_data['geometry']"
      ],
      "execution_count": null,
      "outputs": []
    },
    {
      "cell_type": "code",
      "metadata": {
        "scrolled": true,
        "id": "cEBVtMzM1WoZ"
      },
      "source": [
        "var_data = var_data.rename(columns={'gid_x':'gid'})"
      ],
      "execution_count": null,
      "outputs": []
    },
    {
      "cell_type": "code",
      "metadata": {
        "scrolled": true,
        "id": "y_fmDAkZ1WoZ"
      },
      "source": [
        "var_data = var_data[['gid','car_cnt','pop_all','pop_child']]"
      ],
      "execution_count": null,
      "outputs": []
    },
    {
      "cell_type": "code",
      "metadata": {
        "id": "PtDFzz9e1Woa",
        "outputId": "0923b486-253a-45e8-8359-331e50bc2839"
      },
      "source": [
        "var_data.isnull().sum()"
      ],
      "execution_count": null,
      "outputs": [
        {
          "output_type": "execute_result",
          "data": {
            "text/plain": [
              "gid             0\n",
              "car_cnt         0\n",
              "pop_all      2921\n",
              "pop_child    3543\n",
              "dtype: int64"
            ]
          },
          "metadata": {
            "tags": []
          },
          "execution_count": 191
        }
      ]
    },
    {
      "cell_type": "code",
      "metadata": {
        "scrolled": true,
        "id": "8aPna2QS1Woa"
      },
      "source": [
        "var_data = var_data.fillna(0)"
      ],
      "execution_count": null,
      "outputs": []
    },
    {
      "cell_type": "code",
      "metadata": {
        "id": "fEkByuaW1Woa",
        "outputId": "b130ba16-aa10-4071-8062-4b5dc4601dd5"
      },
      "source": [
        "var_data"
      ],
      "execution_count": null,
      "outputs": [
        {
          "output_type": "execute_result",
          "data": {
            "text/html": [
              "<div>\n",
              "<style scoped>\n",
              "    .dataframe tbody tr th:only-of-type {\n",
              "        vertical-align: middle;\n",
              "    }\n",
              "\n",
              "    .dataframe tbody tr th {\n",
              "        vertical-align: top;\n",
              "    }\n",
              "\n",
              "    .dataframe thead th {\n",
              "        text-align: right;\n",
              "    }\n",
              "</style>\n",
              "<table border=\"1\" class=\"dataframe\">\n",
              "  <thead>\n",
              "    <tr style=\"text-align: right;\">\n",
              "      <th></th>\n",
              "      <th>gid</th>\n",
              "      <th>car_cnt</th>\n",
              "      <th>pop_all</th>\n",
              "      <th>pop_child</th>\n",
              "    </tr>\n",
              "  </thead>\n",
              "  <tbody>\n",
              "    <tr>\n",
              "      <th>0</th>\n",
              "      <td>다사551085</td>\n",
              "      <td>0</td>\n",
              "      <td>0.0</td>\n",
              "      <td>0.0</td>\n",
              "    </tr>\n",
              "    <tr>\n",
              "      <th>1</th>\n",
              "      <td>다사551086</td>\n",
              "      <td>0</td>\n",
              "      <td>0.0</td>\n",
              "      <td>0.0</td>\n",
              "    </tr>\n",
              "    <tr>\n",
              "      <th>2</th>\n",
              "      <td>다사551087</td>\n",
              "      <td>0</td>\n",
              "      <td>0.0</td>\n",
              "      <td>0.0</td>\n",
              "    </tr>\n",
              "    <tr>\n",
              "      <th>3</th>\n",
              "      <td>다사551088</td>\n",
              "      <td>0</td>\n",
              "      <td>0.0</td>\n",
              "      <td>0.0</td>\n",
              "    </tr>\n",
              "    <tr>\n",
              "      <th>4</th>\n",
              "      <td>다사552085</td>\n",
              "      <td>0</td>\n",
              "      <td>0.0</td>\n",
              "      <td>0.0</td>\n",
              "    </tr>\n",
              "    <tr>\n",
              "      <th>...</th>\n",
              "      <td>...</td>\n",
              "      <td>...</td>\n",
              "      <td>...</td>\n",
              "      <td>...</td>\n",
              "    </tr>\n",
              "    <tr>\n",
              "      <th>4505</th>\n",
              "      <td>다사646052</td>\n",
              "      <td>0</td>\n",
              "      <td>0.0</td>\n",
              "      <td>0.0</td>\n",
              "    </tr>\n",
              "    <tr>\n",
              "      <th>4506</th>\n",
              "      <td>다사646053</td>\n",
              "      <td>0</td>\n",
              "      <td>0.0</td>\n",
              "      <td>0.0</td>\n",
              "    </tr>\n",
              "    <tr>\n",
              "      <th>4507</th>\n",
              "      <td>다사647050</td>\n",
              "      <td>0</td>\n",
              "      <td>0.0</td>\n",
              "      <td>0.0</td>\n",
              "    </tr>\n",
              "    <tr>\n",
              "      <th>4508</th>\n",
              "      <td>다사647051</td>\n",
              "      <td>0</td>\n",
              "      <td>0.0</td>\n",
              "      <td>0.0</td>\n",
              "    </tr>\n",
              "    <tr>\n",
              "      <th>4509</th>\n",
              "      <td>다사647052</td>\n",
              "      <td>0</td>\n",
              "      <td>0.0</td>\n",
              "      <td>0.0</td>\n",
              "    </tr>\n",
              "  </tbody>\n",
              "</table>\n",
              "<p>4510 rows × 4 columns</p>\n",
              "</div>"
            ],
            "text/plain": [
              "           gid  car_cnt  pop_all  pop_child\n",
              "0     다사551085        0      0.0        0.0\n",
              "1     다사551086        0      0.0        0.0\n",
              "2     다사551087        0      0.0        0.0\n",
              "3     다사551088        0      0.0        0.0\n",
              "4     다사552085        0      0.0        0.0\n",
              "...        ...      ...      ...        ...\n",
              "4505  다사646052        0      0.0        0.0\n",
              "4506  다사646053        0      0.0        0.0\n",
              "4507  다사647050        0      0.0        0.0\n",
              "4508  다사647051        0      0.0        0.0\n",
              "4509  다사647052        0      0.0        0.0\n",
              "\n",
              "[4510 rows x 4 columns]"
            ]
          },
          "metadata": {
            "tags": []
          },
          "execution_count": 193
        }
      ]
    },
    {
      "cell_type": "markdown",
      "metadata": {
        "id": "tc0FHgUz1Wob"
      },
      "source": [
        "### join 할 데이터:  15번 단속카메라"
      ]
    },
    {
      "cell_type": "code",
      "metadata": {
        "id": "rq6dYg4h1Wob"
      },
      "source": [
        "df1 = data15.copy()"
      ],
      "execution_count": null,
      "outputs": []
    },
    {
      "cell_type": "code",
      "metadata": {
        "id": "g1Eoe5KF1Wob"
      },
      "source": [
        "df2 = data2.copy()"
      ],
      "execution_count": null,
      "outputs": []
    },
    {
      "cell_type": "code",
      "metadata": {
        "id": "OKTnZIF01Wob"
      },
      "source": [
        "# 각 좌표가 어떤 그리드에 포함되는지 저장\n",
        "camera_grid=[]\n",
        "\n",
        "for i in range(112):\n",
        "    temp = Point(df1['설치위치_경도'][i], df1['설치위치_위도'][i])\n",
        "    for j in range(4510):\n",
        "        if temp.within(df2['geometry'][j]) == True:\n",
        "            camera_grid.append(df2['gid'][j])"
      ],
      "execution_count": null,
      "outputs": []
    },
    {
      "cell_type": "code",
      "metadata": {
        "id": "n3hTBQv91Wob"
      },
      "source": [
        "# 각 그리드별 개수를 변수로 저장\n",
        "camera_cnt = []\n",
        "\n",
        "for i in range(4510):\n",
        "    camera_cnt.append(camera_grid.count(df2['gid'][i]))\n",
        "    \n",
        "df2['camera_cnt'] = camera_cnt"
      ],
      "execution_count": null,
      "outputs": []
    },
    {
      "cell_type": "code",
      "metadata": {
        "id": "PM44WEie1Wob"
      },
      "source": [
        "camera = df2.copy()"
      ],
      "execution_count": null,
      "outputs": []
    },
    {
      "cell_type": "code",
      "metadata": {
        "id": "JNtNpIEG1Wob"
      },
      "source": [
        "camera = camera.rename(columns={'camera_cnt':'단속카메라'})"
      ],
      "execution_count": null,
      "outputs": []
    },
    {
      "cell_type": "code",
      "metadata": {
        "id": "DpXfydZf1Woc"
      },
      "source": [
        "del camera['accident_cnt']\n",
        "del camera['geometry']"
      ],
      "execution_count": null,
      "outputs": []
    },
    {
      "cell_type": "code",
      "metadata": {
        "id": "wrfQpd7V1Woc",
        "outputId": "b4cb2705-9c26-49c5-b5a0-5ed0ef7c42f2"
      },
      "source": [
        "camera"
      ],
      "execution_count": null,
      "outputs": [
        {
          "output_type": "execute_result",
          "data": {
            "text/html": [
              "<div>\n",
              "<style scoped>\n",
              "    .dataframe tbody tr th:only-of-type {\n",
              "        vertical-align: middle;\n",
              "    }\n",
              "\n",
              "    .dataframe tbody tr th {\n",
              "        vertical-align: top;\n",
              "    }\n",
              "\n",
              "    .dataframe thead th {\n",
              "        text-align: right;\n",
              "    }\n",
              "</style>\n",
              "<table border=\"1\" class=\"dataframe\">\n",
              "  <thead>\n",
              "    <tr style=\"text-align: right;\">\n",
              "      <th></th>\n",
              "      <th>gid</th>\n",
              "      <th>단속카메라</th>\n",
              "    </tr>\n",
              "  </thead>\n",
              "  <tbody>\n",
              "    <tr>\n",
              "      <th>0</th>\n",
              "      <td>다사551085</td>\n",
              "      <td>0</td>\n",
              "    </tr>\n",
              "    <tr>\n",
              "      <th>1</th>\n",
              "      <td>다사551086</td>\n",
              "      <td>0</td>\n",
              "    </tr>\n",
              "    <tr>\n",
              "      <th>2</th>\n",
              "      <td>다사551087</td>\n",
              "      <td>0</td>\n",
              "    </tr>\n",
              "    <tr>\n",
              "      <th>3</th>\n",
              "      <td>다사551088</td>\n",
              "      <td>0</td>\n",
              "    </tr>\n",
              "    <tr>\n",
              "      <th>4</th>\n",
              "      <td>다사552085</td>\n",
              "      <td>0</td>\n",
              "    </tr>\n",
              "    <tr>\n",
              "      <th>...</th>\n",
              "      <td>...</td>\n",
              "      <td>...</td>\n",
              "    </tr>\n",
              "    <tr>\n",
              "      <th>4505</th>\n",
              "      <td>다사646052</td>\n",
              "      <td>0</td>\n",
              "    </tr>\n",
              "    <tr>\n",
              "      <th>4506</th>\n",
              "      <td>다사646053</td>\n",
              "      <td>0</td>\n",
              "    </tr>\n",
              "    <tr>\n",
              "      <th>4507</th>\n",
              "      <td>다사647050</td>\n",
              "      <td>0</td>\n",
              "    </tr>\n",
              "    <tr>\n",
              "      <th>4508</th>\n",
              "      <td>다사647051</td>\n",
              "      <td>0</td>\n",
              "    </tr>\n",
              "    <tr>\n",
              "      <th>4509</th>\n",
              "      <td>다사647052</td>\n",
              "      <td>0</td>\n",
              "    </tr>\n",
              "  </tbody>\n",
              "</table>\n",
              "<p>4510 rows × 2 columns</p>\n",
              "</div>"
            ],
            "text/plain": [
              "           gid  단속카메라\n",
              "0     다사551085      0\n",
              "1     다사551086      0\n",
              "2     다사551087      0\n",
              "3     다사551088      0\n",
              "4     다사552085      0\n",
              "...        ...    ...\n",
              "4505  다사646052      0\n",
              "4506  다사646053      0\n",
              "4507  다사647050      0\n",
              "4508  다사647051      0\n",
              "4509  다사647052      0\n",
              "\n",
              "[4510 rows x 2 columns]"
            ]
          },
          "metadata": {
            "tags": []
          },
          "execution_count": 201
        }
      ]
    },
    {
      "cell_type": "markdown",
      "metadata": {
        "id": "RHB7xANF1Woc"
      },
      "source": [
        "### join 할 데이터:  16번 도로안내표지"
      ]
    },
    {
      "cell_type": "code",
      "metadata": {
        "id": "Nc-OJ-7Q1Woc"
      },
      "source": [
        "df1 = data16.copy()"
      ],
      "execution_count": null,
      "outputs": []
    },
    {
      "cell_type": "code",
      "metadata": {
        "id": "Tm8xTi2L1Woc"
      },
      "source": [
        "df2 = data2.copy()"
      ],
      "execution_count": null,
      "outputs": []
    },
    {
      "cell_type": "code",
      "metadata": {
        "id": "Exop9HSv1Woc"
      },
      "source": [
        "# 각 좌표가 어떤 그리드에 포함되는지 저장\n",
        "sign_grid=[]\n",
        "\n",
        "for i in range(831):\n",
        "    temp = Point(df1['lon'][i], df1['lat'][i])\n",
        "    for j in range(4510):\n",
        "        if temp.within(df2['geometry'][j]) == True:\n",
        "            sign_grid.append(df2['gid'][j])"
      ],
      "execution_count": null,
      "outputs": []
    },
    {
      "cell_type": "code",
      "metadata": {
        "id": "MSqYWwBA1Woc"
      },
      "source": [
        "# 각 그리드별 개수를 변수로 저장\n",
        "sign_cnt = []\n",
        "\n",
        "for i in range(4510):\n",
        "    sign_cnt.append(sign_grid.count(df2['gid'][i]))\n",
        "    \n",
        "df2['sign_cnt'] = sign_cnt"
      ],
      "execution_count": null,
      "outputs": []
    },
    {
      "cell_type": "code",
      "metadata": {
        "id": "ggAw0kZO1Wod"
      },
      "source": [
        "sign = df2.copy()"
      ],
      "execution_count": null,
      "outputs": []
    },
    {
      "cell_type": "code",
      "metadata": {
        "id": "dD26tzWl1Wod"
      },
      "source": [
        "del sign['accident_cnt']\n",
        "del sign['geometry']"
      ],
      "execution_count": null,
      "outputs": []
    },
    {
      "cell_type": "code",
      "metadata": {
        "id": "HO8Qbgz21Wod"
      },
      "source": [
        "sign = sign.rename(columns={'sign_cnt':'도로안내표지'})"
      ],
      "execution_count": null,
      "outputs": []
    },
    {
      "cell_type": "code",
      "metadata": {
        "id": "h93H5_FU1Wod",
        "outputId": "a7530108-7876-4357-bb8f-d3b3948a6263"
      },
      "source": [
        "sign"
      ],
      "execution_count": null,
      "outputs": [
        {
          "output_type": "execute_result",
          "data": {
            "text/html": [
              "<div>\n",
              "<style scoped>\n",
              "    .dataframe tbody tr th:only-of-type {\n",
              "        vertical-align: middle;\n",
              "    }\n",
              "\n",
              "    .dataframe tbody tr th {\n",
              "        vertical-align: top;\n",
              "    }\n",
              "\n",
              "    .dataframe thead th {\n",
              "        text-align: right;\n",
              "    }\n",
              "</style>\n",
              "<table border=\"1\" class=\"dataframe\">\n",
              "  <thead>\n",
              "    <tr style=\"text-align: right;\">\n",
              "      <th></th>\n",
              "      <th>gid</th>\n",
              "      <th>도로안내표지</th>\n",
              "    </tr>\n",
              "  </thead>\n",
              "  <tbody>\n",
              "    <tr>\n",
              "      <th>0</th>\n",
              "      <td>다사551085</td>\n",
              "      <td>0</td>\n",
              "    </tr>\n",
              "    <tr>\n",
              "      <th>1</th>\n",
              "      <td>다사551086</td>\n",
              "      <td>0</td>\n",
              "    </tr>\n",
              "    <tr>\n",
              "      <th>2</th>\n",
              "      <td>다사551087</td>\n",
              "      <td>0</td>\n",
              "    </tr>\n",
              "    <tr>\n",
              "      <th>3</th>\n",
              "      <td>다사551088</td>\n",
              "      <td>0</td>\n",
              "    </tr>\n",
              "    <tr>\n",
              "      <th>4</th>\n",
              "      <td>다사552085</td>\n",
              "      <td>0</td>\n",
              "    </tr>\n",
              "    <tr>\n",
              "      <th>...</th>\n",
              "      <td>...</td>\n",
              "      <td>...</td>\n",
              "    </tr>\n",
              "    <tr>\n",
              "      <th>4505</th>\n",
              "      <td>다사646052</td>\n",
              "      <td>0</td>\n",
              "    </tr>\n",
              "    <tr>\n",
              "      <th>4506</th>\n",
              "      <td>다사646053</td>\n",
              "      <td>0</td>\n",
              "    </tr>\n",
              "    <tr>\n",
              "      <th>4507</th>\n",
              "      <td>다사647050</td>\n",
              "      <td>0</td>\n",
              "    </tr>\n",
              "    <tr>\n",
              "      <th>4508</th>\n",
              "      <td>다사647051</td>\n",
              "      <td>0</td>\n",
              "    </tr>\n",
              "    <tr>\n",
              "      <th>4509</th>\n",
              "      <td>다사647052</td>\n",
              "      <td>0</td>\n",
              "    </tr>\n",
              "  </tbody>\n",
              "</table>\n",
              "<p>4510 rows × 2 columns</p>\n",
              "</div>"
            ],
            "text/plain": [
              "           gid  도로안내표지\n",
              "0     다사551085       0\n",
              "1     다사551086       0\n",
              "2     다사551087       0\n",
              "3     다사551088       0\n",
              "4     다사552085       0\n",
              "...        ...     ...\n",
              "4505  다사646052       0\n",
              "4506  다사646053       0\n",
              "4507  다사647050       0\n",
              "4508  다사647051       0\n",
              "4509  다사647052       0\n",
              "\n",
              "[4510 rows x 2 columns]"
            ]
          },
          "metadata": {
            "tags": []
          },
          "execution_count": 209
        }
      ]
    },
    {
      "cell_type": "markdown",
      "metadata": {
        "id": "8vChuBSs1Wod"
      },
      "source": [
        "### join 할 데이터:  20번 CCTV"
      ]
    },
    {
      "cell_type": "code",
      "metadata": {
        "id": "R6z77gnq1Wod"
      },
      "source": [
        "df1 = data20.copy()"
      ],
      "execution_count": null,
      "outputs": []
    },
    {
      "cell_type": "code",
      "metadata": {
        "id": "yWX5cDaL1Wod"
      },
      "source": [
        "df2 = data2.copy()"
      ],
      "execution_count": null,
      "outputs": []
    },
    {
      "cell_type": "code",
      "metadata": {
        "id": "YvZA5AqU1Woe"
      },
      "source": [
        "# 과속단속카메라(E)만\n",
        "cctv_E = df1[ df1['CCTV 유형코드'] == 'E' ].reset_index()"
      ],
      "execution_count": null,
      "outputs": []
    },
    {
      "cell_type": "code",
      "metadata": {
        "id": "gHGvvM_J1Woe"
      },
      "source": [
        "# 각 좌표가 어떤 그리드에 포함되는지 저장\n",
        "cctv_grid=[]\n",
        "\n",
        "for i in range(10):\n",
        "    temp = Point(cctv_E['설치위치_위도'].iloc[i], cctv_E['설치위치_경도'][i])\n",
        "    for j in range(4510):\n",
        "        if temp.within(df2['geometry'][j]) == True:\n",
        "            cctv_grid.append(df2['gid'][j])"
      ],
      "execution_count": null,
      "outputs": []
    },
    {
      "cell_type": "code",
      "metadata": {
        "id": "AzDV2jSS1Woe"
      },
      "source": [
        "# 각 그리드별 개수를 변수로 저장\n",
        "cctv_cnt = []\n",
        "\n",
        "for i in range(4510):\n",
        "    cctv_cnt.append(cctv_grid.count(df2['gid'][i]))\n",
        "    \n",
        "df2['cctv_cnt'] = cctv_cnt"
      ],
      "execution_count": null,
      "outputs": []
    },
    {
      "cell_type": "code",
      "metadata": {
        "id": "7yycg8wT1Woe"
      },
      "source": [
        "cctv = df2.copy()"
      ],
      "execution_count": null,
      "outputs": []
    },
    {
      "cell_type": "code",
      "metadata": {
        "id": "2rtcUR4O1Woe"
      },
      "source": [
        "del cctv['accident_cnt']\n",
        "del cctv['geometry']"
      ],
      "execution_count": null,
      "outputs": []
    },
    {
      "cell_type": "code",
      "metadata": {
        "id": "bLbKeeR_1Woe"
      },
      "source": [
        "cctv = cctv.rename(columns={'cctv_cnt':'cctv'})"
      ],
      "execution_count": null,
      "outputs": []
    },
    {
      "cell_type": "code",
      "metadata": {
        "scrolled": true,
        "id": "o6NsydQB1Woe",
        "outputId": "a2288fbb-57e9-45d1-b5c2-ca21218b3ff6"
      },
      "source": [
        "cctv"
      ],
      "execution_count": null,
      "outputs": [
        {
          "output_type": "execute_result",
          "data": {
            "text/html": [
              "<div>\n",
              "<style scoped>\n",
              "    .dataframe tbody tr th:only-of-type {\n",
              "        vertical-align: middle;\n",
              "    }\n",
              "\n",
              "    .dataframe tbody tr th {\n",
              "        vertical-align: top;\n",
              "    }\n",
              "\n",
              "    .dataframe thead th {\n",
              "        text-align: right;\n",
              "    }\n",
              "</style>\n",
              "<table border=\"1\" class=\"dataframe\">\n",
              "  <thead>\n",
              "    <tr style=\"text-align: right;\">\n",
              "      <th></th>\n",
              "      <th>gid</th>\n",
              "      <th>cctv</th>\n",
              "    </tr>\n",
              "  </thead>\n",
              "  <tbody>\n",
              "    <tr>\n",
              "      <th>0</th>\n",
              "      <td>다사551085</td>\n",
              "      <td>0</td>\n",
              "    </tr>\n",
              "    <tr>\n",
              "      <th>1</th>\n",
              "      <td>다사551086</td>\n",
              "      <td>0</td>\n",
              "    </tr>\n",
              "    <tr>\n",
              "      <th>2</th>\n",
              "      <td>다사551087</td>\n",
              "      <td>0</td>\n",
              "    </tr>\n",
              "    <tr>\n",
              "      <th>3</th>\n",
              "      <td>다사551088</td>\n",
              "      <td>0</td>\n",
              "    </tr>\n",
              "    <tr>\n",
              "      <th>4</th>\n",
              "      <td>다사552085</td>\n",
              "      <td>0</td>\n",
              "    </tr>\n",
              "    <tr>\n",
              "      <th>...</th>\n",
              "      <td>...</td>\n",
              "      <td>...</td>\n",
              "    </tr>\n",
              "    <tr>\n",
              "      <th>4505</th>\n",
              "      <td>다사646052</td>\n",
              "      <td>0</td>\n",
              "    </tr>\n",
              "    <tr>\n",
              "      <th>4506</th>\n",
              "      <td>다사646053</td>\n",
              "      <td>0</td>\n",
              "    </tr>\n",
              "    <tr>\n",
              "      <th>4507</th>\n",
              "      <td>다사647050</td>\n",
              "      <td>0</td>\n",
              "    </tr>\n",
              "    <tr>\n",
              "      <th>4508</th>\n",
              "      <td>다사647051</td>\n",
              "      <td>0</td>\n",
              "    </tr>\n",
              "    <tr>\n",
              "      <th>4509</th>\n",
              "      <td>다사647052</td>\n",
              "      <td>0</td>\n",
              "    </tr>\n",
              "  </tbody>\n",
              "</table>\n",
              "<p>4510 rows × 2 columns</p>\n",
              "</div>"
            ],
            "text/plain": [
              "           gid  cctv\n",
              "0     다사551085     0\n",
              "1     다사551086     0\n",
              "2     다사551087     0\n",
              "3     다사551088     0\n",
              "4     다사552085     0\n",
              "...        ...   ...\n",
              "4505  다사646052     0\n",
              "4506  다사646053     0\n",
              "4507  다사647050     0\n",
              "4508  다사647051     0\n",
              "4509  다사647052     0\n",
              "\n",
              "[4510 rows x 2 columns]"
            ]
          },
          "metadata": {
            "tags": []
          },
          "execution_count": 218
        }
      ]
    },
    {
      "cell_type": "markdown",
      "metadata": {
        "id": "pum1ESxl1Woe"
      },
      "source": [
        "## 모든 변수 병합"
      ]
    },
    {
      "cell_type": "code",
      "metadata": {
        "id": "oVfb7Vjh1Wof"
      },
      "source": [
        "# 격자별로 모든 변수를 합치기 위한 기준 데이터: data2(어린이교통사고)\n",
        "\n",
        "osan = data2.copy()\n",
        "osan = osan.rename(columns={'accident_cnt':'사고횟수'})"
      ],
      "execution_count": null,
      "outputs": []
    },
    {
      "cell_type": "code",
      "metadata": {
        "id": "8_powC-H1Wof"
      },
      "source": [
        "osan = pd.merge(osan, acc_buf, on='gid', how='left')\n",
        "osan = pd.merge(osan, schzone, on='gid', how='left')\n",
        "osan = pd.merge(osan, elementary, on='gid', how='left')\n",
        "osan = pd.merge(osan, kindergarden, on='gid', how='left')\n",
        "osan = pd.merge(osan, crosswalk, on='gid', how='left')\n",
        "osan = pd.merge(osan, buildings, on='gid', how='left')\n",
        "osan = pd.merge(osan, bus_stop, on='gid', how='left')\n",
        "osan = pd.merge(osan, physical_fac, on='gid', how='left')\n",
        "osan = pd.merge(osan, academy, on='gid', how='left')\n",
        "osan = pd.merge(osan, traffic_light, on='gid', how='left')\n",
        "osan = pd.merge(osan, bump, on='gid', how='left')\n",
        "osan = pd.merge(osan, cctv, on='gid', how='left')\n",
        "osan = pd.merge(osan, sign, on='gid', how='left')\n",
        "osan = pd.merge(osan, camera, on='gid', how='left')\n",
        "osan = pd.merge(osan, var_data, on='gid', how='left')\n",
        "osan = pd.merge(osan, park_cross, on='gid', how='left')\n",
        "osan = pd.merge(osan, time, on='gid', how='left')\n",
        "osan = pd.merge(osan, freq, on='gid', how='left')\n",
        "osan = pd.merge(osan, traffic, on='gid', how='left')\n",
        "osan = pd.merge(osan, parked_car, on='gid', how='left')\n",
        "osan = pd.merge(osan, float_population, on='gid', how='left')"
      ],
      "execution_count": null,
      "outputs": []
    },
    {
      "cell_type": "code",
      "metadata": {
        "id": "thb1nSD61Wof"
      },
      "source": [
        "#osan.to_file('osan_data', driver='GeoJSON')"
      ],
      "execution_count": null,
      "outputs": []
    },
    {
      "cell_type": "markdown",
      "metadata": {
        "id": "YfYE4wJ01Wof"
      },
      "source": [
        "## 합성 데이터 생성"
      ]
    },
    {
      "cell_type": "code",
      "metadata": {
        "id": "ZQmq3kJu1Wof"
      },
      "source": [
        "# osan_data는 불러온 원본 데이터\n",
        "\n",
        "osan_data = gpd.read_file('osan_data')"
      ],
      "execution_count": null,
      "outputs": []
    },
    {
      "cell_type": "markdown",
      "metadata": {
        "id": "hQPVo0A11Wof"
      },
      "source": [
        "### 합성데이터 생성 함수: SMOTE()"
      ]
    },
    {
      "cell_type": "code",
      "metadata": {
        "id": "VPfj1vxC1Wof"
      },
      "source": [
        "from random import randrange, choice\n",
        "from sklearn.neighbors import NearestNeighbors\n",
        "\n",
        "def SMOTE(T, N, k):\n",
        "    n_minority_samples, n_features = T.shape\n",
        "    if N < 100:\n",
        "    #create synthetic samples only for a subset of T.\n",
        "    #TODO: select random minortiy samples\n",
        "        N = 100\n",
        "        pass\n",
        "    if (N % 100) != 0:\n",
        "        raise ValueError(\"N must be < 100 or multiple of 100\")\n",
        "    N = int(N/100)\n",
        "    n_synthetic_samples = N * n_minority_samples\n",
        "    S = np.zeros(shape=(n_synthetic_samples, n_features),dtype=float)\n",
        "    \n",
        "    #Learn nearest neighbours\n",
        "    neigh = NearestNeighbors(n_neighbors = k)\n",
        "    neigh.fit(T)\n",
        "    \n",
        "    #Calculate synthetic samples\n",
        "    for i in range(n_minority_samples):\n",
        "        nn = neigh.kneighbors([T[i]], return_distance=False)\n",
        "        for n in range(N):\n",
        "            nn_index = choice(nn[0])\n",
        "            #NOTE: nn includes T[i], we don't want to select it \n",
        "            while nn_index == i:\n",
        "                nn_index = choice(nn[0])\n",
        "\n",
        "            dif = T[nn_index] - T[i]\n",
        "            gap = np.random.random()\n",
        "            S[n + i * N, :] = T[i,:] + gap * dif[:]\n",
        "        \n",
        "    return S"
      ],
      "execution_count": null,
      "outputs": []
    },
    {
      "cell_type": "markdown",
      "metadata": {
        "id": "jzmloV4n1Wog"
      },
      "source": [
        "### 합성 데이터 생성 과정"
      ]
    },
    {
      "cell_type": "code",
      "metadata": {
        "id": "aqblYhi71Wog"
      },
      "source": [
        "# 원본 데이터 정렬\n",
        "\n",
        "clist   =   ['gid','geometry','사고횟수','사고횟수_가중치',\n",
        "           \n",
        "            '단속카메라','도로안내표지','과속방지턱','스쿨존',\n",
        "            '횡단보도_전체면적','횡단보도_포함면적','신호등','단속횟수','단속횟수_횡단보도위',\n",
        "            'traffic_sum','traffic_mean','freq_sum','freq_mean','time_sum','time_mean',\n",
        "            \n",
        "            '초등학교_100m', '초등학교_300m', '초등학교_500m', '초등학교_가중치',\n",
        "            '유치원_100m', '유치원_300m', '유치원_500m', '유치원_가중치',\n",
        "            '유동인구','cctv','버스정류장','체육시설','학원','car_cnt','pop_all','pop_child',\n",
        "            'building','house','office']\n",
        "\n",
        "osan_data = osan_data.loc[:, clist]"
      ],
      "execution_count": null,
      "outputs": []
    },
    {
      "cell_type": "code",
      "metadata": {
        "id": "7uEqPlXr1Wog"
      },
      "source": [
        "# clist 중 'gid', 'geometry' 를 제외한 나머지 변수로 합성 데이터 생성\n",
        "\n",
        "raw_data = osan_data.copy()\n",
        "raw_data = raw_data.iloc[:, range(2, len(osan_data.columns))]\n",
        "raw_data_arr = np.array(raw_data)\n",
        "\n",
        "\n",
        "# SMOTE() 함수 적용\n",
        "\n",
        "syn = SMOTE(raw_data_arr,100,10)\n",
        "\n",
        "\n",
        "# 원본데이터로 새롭게 만든 합성데이터 저장\n",
        "\n",
        "syn_data = osan_data.copy()\n",
        "syn_data.iloc[:, range(2, len(syn_data.columns))] = syn"
      ],
      "execution_count": null,
      "outputs": []
    },
    {
      "cell_type": "markdown",
      "metadata": {
        "id": "_si-ymZO1Wog"
      },
      "source": [
        "## 최종 데이터 : osan_dataset(원본) / syn_dataset(합성)"
      ]
    },
    {
      "cell_type": "code",
      "metadata": {
        "id": "tgcqfonl1Wog"
      },
      "source": [
        "osan_dataset = osan_data.copy()\n",
        "syn_dataset = syn_data.copy()"
      ],
      "execution_count": null,
      "outputs": []
    },
    {
      "cell_type": "markdown",
      "metadata": {
        "id": "HWZ3OfAg1Wog"
      },
      "source": [
        "### 원본 및 합성 데이터에 region_type 변수 생성"
      ]
    },
    {
      "cell_type": "code",
      "metadata": {
        "id": "KDMrR8IR1Wog"
      },
      "source": [
        "house_p = osan_data.house / (osan_data.building + 0.001)\n",
        "office_p = osan_data.office / (osan_data.building + 0.001)\n",
        "other_p = 1- house_p - office_p\n",
        "\n",
        "region_type = []\n",
        "\n",
        "for i in range(len(house_p)):\n",
        "    if max(house_p[i], office_p[i], other_p[i])==house_p[i]:\n",
        "        region_type.append('HS')\n",
        "    elif max(house_p[i], office_p[i], other_p[i])==office_p[i]:\n",
        "        region_type.append('OF') \n",
        "    else:\n",
        "        region_type.append('OTH')\n",
        "        \n",
        "osan_dataset['region_type'] = region_type\n",
        "#osan_dataset['region_type'] = osan_dataset.region_type.astype('category')"
      ],
      "execution_count": null,
      "outputs": []
    },
    {
      "cell_type": "code",
      "metadata": {
        "id": "Q71s207z1Wog"
      },
      "source": [
        "house_p = syn_data.house / (syn_data.building + 0.001)\n",
        "office_p = syn_data.office / (syn_data.building + 0.001)\n",
        "other_p = 1- house_p - office_p\n",
        "\n",
        "region_type = []\n",
        "\n",
        "for i in range(len(house_p)):\n",
        "    if max(house_p[i], office_p[i], other_p[i])==house_p[i]:\n",
        "        region_type.append('HS')\n",
        "    elif max(house_p[i], office_p[i], other_p[i])==office_p[i]:\n",
        "        region_type.append('OF') \n",
        "    else:\n",
        "        region_type.append('OTH')\n",
        "        \n",
        "syn_dataset['region_type'] = region_type\n",
        "#syn_dataset['region_type'] = syn_dataset.region_type.astype('category')"
      ],
      "execution_count": null,
      "outputs": []
    },
    {
      "cell_type": "markdown",
      "metadata": {
        "id": "8d__L6Oi1Woh"
      },
      "source": [
        "### 원본 및 합성 데이터에 float_type 변수 생성"
      ]
    },
    {
      "cell_type": "code",
      "metadata": {
        "id": "-QxW7PQ01Woh"
      },
      "source": [
        "float_type = []\n",
        "\n",
        "for i in range(len(osan_data.유동인구)):\n",
        "    if osan_data.유동인구[i] > 40:\n",
        "        float_type.append('H')\n",
        "    elif osan_data.유동인구[i] < 1:\n",
        "        float_type.append('L')\n",
        "    else:\n",
        "        float_type.append('M')\n",
        "        \n",
        "osan_dataset['float_type'] = float_type\n",
        "#osan_dataset['float_type'] = osan_dataset.float_type.astype('category')"
      ],
      "execution_count": null,
      "outputs": []
    },
    {
      "cell_type": "code",
      "metadata": {
        "id": "RcSl5H2Q1Woh"
      },
      "source": [
        "float_type = []\n",
        "\n",
        "for i in range(len(syn_data.유동인구)):\n",
        "    if syn_data.유동인구[i] > 40:\n",
        "        float_type.append('H')\n",
        "    elif syn_data.유동인구[i] < 1:\n",
        "        float_type.append('L')\n",
        "    else:\n",
        "        float_type.append('M')\n",
        "        \n",
        "syn_dataset['float_type'] = float_type\n",
        "#syn_dataset['float_type'] = syn_dataset.float_type.astype('category')"
      ],
      "execution_count": null,
      "outputs": []
    },
    {
      "cell_type": "markdown",
      "metadata": {
        "id": "0azOMCcn1Woh"
      },
      "source": [
        "### region_type / float_type 원-핫 인코딩"
      ]
    },
    {
      "cell_type": "code",
      "metadata": {
        "id": "O9qHuSNk1Woh"
      },
      "source": [
        "osan_dataset = pd.concat([osan_dataset, pd.get_dummies(osan_dataset.loc[:,['region_type','float_type']])], axis=1)\n",
        "syn_dataset = pd.concat([syn_dataset, pd.get_dummies(syn_dataset.loc[:,['region_type','float_type']])], axis=1)"
      ],
      "execution_count": null,
      "outputs": []
    },
    {
      "cell_type": "markdown",
      "metadata": {
        "id": "t8x8Jt6z1Woh"
      },
      "source": [
        "## 최종 데이터 저장"
      ]
    },
    {
      "cell_type": "code",
      "metadata": {
        "id": "Tq_bPByd1Woh"
      },
      "source": [
        "#osan_dataset.to_file('osan_dataset.geojson', driver='GeoJSON')\n",
        "#syn_dataset.to_file('syn_dataset.geojson', driver='GeoJSON')"
      ],
      "execution_count": null,
      "outputs": []
    }
  ]
}