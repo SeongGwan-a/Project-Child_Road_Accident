{
  "nbformat": 4,
  "nbformat_minor": 0,
  "metadata": {
    "kernelspec": {
      "display_name": "Python 3",
      "language": "python",
      "name": "python3"
    },
    "language_info": {
      "codemirror_mode": {
        "name": "ipython",
        "version": 3
      },
      "file_extension": ".py",
      "mimetype": "text/x-python",
      "name": "python",
      "nbconvert_exporter": "python",
      "pygments_lexer": "ipython3",
      "version": "3.6.9"
    },
    "colab": {
      "name": "분석-머신러닝(3).ipynb",
      "provenance": [],
      "include_colab_link": true
    }
  },
  "cells": [
    {
      "cell_type": "markdown",
      "metadata": {
        "id": "view-in-github",
        "colab_type": "text"
      },
      "source": [
        "<a href=\"https://colab.research.google.com/github/tjdrhks0808/Project-Child_Road_Accident/blob/main/Osan_ML_and_Conclusion.ipynb\" target=\"_parent\"><img src=\"https://colab.research.google.com/assets/colab-badge.svg\" alt=\"Open In Colab\"/></a>"
      ]
    },
    {
      "cell_type": "code",
      "metadata": {
        "id": "yRGykQxtSpnc"
      },
      "source": [
        "# -*- coding: <encoding-name> -*-"
      ],
      "execution_count": null,
      "outputs": []
    },
    {
      "cell_type": "markdown",
      "metadata": {
        "id": "XmAJw9ctSpnf"
      },
      "source": [
        "### 데이터를 생성할 때 근소한 차이가 있을 수 있으니, 보고서와 같은 결과를 얻기 위해서는 별도로 첨부한\n",
        "###  osan_dataset.geojson / syn_dataset.geojson을 사용하셔야 합니다.\n",
        "#### 'osan.geojson' 대신 'osan_dataset.geojson'(별도 첨부)\n",
        "#### 'syn.geojson' 대신 'syn_dataset.geojson'(별도 첨부)"
      ]
    },
    {
      "cell_type": "markdown",
      "metadata": {
        "id": "MIS9urCRSpnf"
      },
      "source": [
        "# 최종 모델링"
      ]
    },
    {
      "cell_type": "code",
      "metadata": {
        "id": "gpZk203TSpng"
      },
      "source": [
        "import pandas as pd\n",
        "import numpy as np\n",
        "import matplotlib.pyplot as plt\n",
        "import folium\n",
        "import json\n",
        "import geopandas as gpd\n",
        "from shapely.geometry import Point, Polygon, LineString\n",
        "import seaborn as sns\n",
        "from collections import Counter"
      ],
      "execution_count": null,
      "outputs": []
    },
    {
      "cell_type": "code",
      "metadata": {
        "id": "RZZN68FnSpng"
      },
      "source": [
        "from sklearn.model_selection import train_test_split, cross_validate, RandomizedSearchCV\n",
        "from sklearn.metrics import accuracy_score, precision_score, recall_score, confusion_matrix, mean_squared_error, r2_score\n",
        "from sklearn.ensemble import RandomForestClassifier, GradientBoostingClassifier, RandomForestRegressor, VotingRegressor\n",
        "\n",
        "from lightgbm import LGBMRegressor\n",
        "\n",
        "import xgboost as xgb\n",
        "from xgboost import XGBClassifier, XGBRegressor\n",
        "\n",
        "import graphviz\n",
        "import warnings"
      ],
      "execution_count": null,
      "outputs": []
    },
    {
      "cell_type": "code",
      "metadata": {
        "id": "ht_IBjunSpng"
      },
      "source": [
        "# 최종 머신러닝 분석을 위한 데이터 로드\n",
        "\n",
        "osan = gpd.read_file('osan_dataset.geojson')\n",
        "syn = gpd.read_file('syn_dataset.geojson')"
      ],
      "execution_count": null,
      "outputs": []
    },
    {
      "cell_type": "markdown",
      "metadata": {
        "id": "BD8H1ULFSpng"
      },
      "source": [
        "### 필요 함수 정의"
      ]
    },
    {
      "cell_type": "code",
      "metadata": {
        "id": "rxNSVx--Spnh"
      },
      "source": [
        "# 각각 root-mean-squared-error / mean abosolute error 구해주는 함수\n",
        "\n",
        "def RMSE(y, pred):\n",
        "    rmse = ( np.sum([x**2 for x in (np.array(y)-np.array(pred))]) / len(y) )**(1/2)\n",
        "    return round(rmse, 4)\n",
        "    \n",
        "def MAE(y, pred):\n",
        "    mae = np.sum([np.abs(x) for x in (np.array(y)-np.array(pred))]) / len(y)\n",
        "    return round(mae, 4)"
      ],
      "execution_count": null,
      "outputs": []
    },
    {
      "cell_type": "code",
      "metadata": {
        "id": "_uK0l0pRSpnh"
      },
      "source": [
        "# data를 train / test로 split 해주는 함수\n",
        "\n",
        "def data_split(dataframe, col_list, row_idx, train_size, seed):\n",
        "        \n",
        "    data = dataframe.loc[row_idx, col_list]\n",
        "    train, test = train_test_split(data, test_size=train_size, random_state=seed)\n",
        "\n",
        "    x_train = train.iloc[:, list(range(2, len(train.columns)))]\n",
        "    y_train = train.iloc[:, 1]\n",
        "    x_test = test.iloc[:, list(range(2, len(test.columns)))]\n",
        "    y_test = test.iloc[:, 1]\n",
        "    \n",
        "    return [x_train, y_train, x_test, y_test]"
      ],
      "execution_count": null,
      "outputs": []
    },
    {
      "cell_type": "markdown",
      "metadata": {
        "id": "Ih_iUfTPSpnh"
      },
      "source": [
        "## 다양한 모델 비교"
      ]
    },
    {
      "cell_type": "code",
      "metadata": {
        "id": "H7rebqN6Spni"
      },
      "source": [
        "# 다양한 머신러닝 기법 중 합성데이터를 가장 잘 학습하는 모형 탐색\n",
        "# train / test 데이터로 합성데이터를 분할\n",
        "# 각 모형의 test R2 score, Rmse를 통해 추후 분석에 활용할 기법 선택"
      ],
      "execution_count": null,
      "outputs": []
    },
    {
      "cell_type": "code",
      "metadata": {
        "id": "sGnsUJnZSpni"
      },
      "source": [
        "import mglearn\n",
        "from sklearn.linear_model import LinearRegression\n",
        "from sklearn.linear_model import Lasso\n",
        "from sklearn.linear_model import Ridge\n",
        "from sklearn.linear_model import ElasticNet\n",
        "from sklearn.neighbors import KNeighborsRegressor\n",
        "from sklearn.tree import DecisionTreeRegressor\n",
        "from sklearn.ensemble import GradientBoostingRegressor\n",
        "from sklearn.ensemble import AdaBoostRegressor\n",
        "from sklearn.ensemble import BaggingRegressor"
      ],
      "execution_count": null,
      "outputs": []
    },
    {
      "cell_type": "code",
      "metadata": {
        "id": "z2d6uVR7Spni"
      },
      "source": [
        "# 합성데이터를 모형 학습에 적용할 수 있도록 train / test 데이터로 나눔\n",
        "\n",
        "row_idx = list(range(len(osan)))\n",
        "clist = ['gid','사고횟수_가중치','단속카메라','도로안내표지','횡단보도_전체면적','신호등','단속횟수','단속횟수_횡단보도위','traffic_sum',\n",
        "         'freq_sum','초등학교_300m','유치원_500m','cctv','버스정류장','체육시설','학원','car_cnt','float_type_H','float_type_M']\n",
        "\n",
        "x_train, y_train, x_test, y_test = data_split(dataframe=syn, col_list=clist, row_idx=row_idx, train_size=0.3, seed=123)"
      ],
      "execution_count": null,
      "outputs": []
    },
    {
      "cell_type": "code",
      "metadata": {
        "id": "482_eJpKSpni",
        "outputId": "56ece491-fac3-4219-e37d-9d43a1b01ae2"
      },
      "source": [
        "# 라쏘 회귀\n",
        "\n",
        "lasso = Lasso()\n",
        "lasso.fit(x_train, y_train)\n",
        "\n",
        "print(\"train set R^2 : {:.3f}\".format(lasso.score(x_train, y_train)))\n",
        "print(\"valid set R^2 : {:.3f}\".format(lasso.score(x_test, y_test)))\n",
        "print(\"valid set Rms : {:.3f}\".format(RMSE(y=y_test, pred=lasso.predict(x_test))))"
      ],
      "execution_count": null,
      "outputs": [
        {
          "output_type": "stream",
          "text": [
            "train set R^2 : 0.544\n",
            "valid set R^2 : 0.573\n",
            "valid set Rms : 0.928\n"
          ],
          "name": "stdout"
        }
      ]
    },
    {
      "cell_type": "code",
      "metadata": {
        "id": "DP6IkH39Spnj",
        "outputId": "b2f679aa-7740-45c6-d6e0-3b364fffc1b3"
      },
      "source": [
        "# GradientBoosting 회귀\n",
        "\n",
        "gbrt = GradientBoostingRegressor(random_state=123)\n",
        "gbrt.fit(x_train, y_train)\n",
        "\n",
        "print(\"train set R^2 : {:.3f}\".format(gbrt.score(x_train, y_train)))\n",
        "print(\"test set R^2 : {:.3f}\".format(gbrt.score(x_test, y_test)))\n",
        "print(\"valid set Rms : {:.3f}\".format(RMSE(y=y_test, pred=gbrt.predict(x_test))))"
      ],
      "execution_count": null,
      "outputs": [
        {
          "output_type": "stream",
          "text": [
            "train set R^2 : 0.804\n",
            "test set R^2 : 0.718\n",
            "valid set Rms : 0.754\n"
          ],
          "name": "stdout"
        }
      ]
    },
    {
      "cell_type": "code",
      "metadata": {
        "id": "0YIWUMktSpnj",
        "outputId": "464f1221-0e7b-4146-89b8-65350a3eaa9f"
      },
      "source": [
        "# 릿지 회귀\n",
        "\n",
        "rid = Ridge()\n",
        "rid.fit(x_train, y_train)\n",
        "\n",
        "print(\"train set R^2 : {:.3f}\".format(rid.score(x_train, y_train)))\n",
        "print(\"valid set R^2 : {:.3f}\".format(rid.score(x_test, y_test)))\n",
        "print(\"valid set Rms : {:.3f}\".format(RMSE(y=y_test, pred=rid.predict(x_test))))"
      ],
      "execution_count": null,
      "outputs": [
        {
          "output_type": "stream",
          "text": [
            "train set R^2 : 0.613\n",
            "valid set R^2 : 0.638\n",
            "valid set Rms : 0.855\n"
          ],
          "name": "stdout"
        }
      ]
    },
    {
      "cell_type": "code",
      "metadata": {
        "id": "JtvaklmkSpnj",
        "outputId": "e4c73a16-6051-4ad9-fe71-305ae3d10f90"
      },
      "source": [
        "# KNN 회귀\n",
        "\n",
        "kn = KNeighborsRegressor()\n",
        "kn.fit(x_train, y_train)\n",
        "\n",
        "print(\"train set R^2 : {:.3f}\".format(kn.score(x_train, y_train)))\n",
        "print(\"test set R^2 : {:.3f}\".format(kn.score(x_test, y_test)))\n",
        "print(\"valid set Rms : {:.3f}\".format(RMSE(y=y_test, pred=kn.predict(x_test))))"
      ],
      "execution_count": null,
      "outputs": [
        {
          "output_type": "stream",
          "text": [
            "train set R^2 : 0.646\n",
            "test set R^2 : 0.410\n",
            "valid set Rms : 1.092\n"
          ],
          "name": "stdout"
        }
      ]
    },
    {
      "cell_type": "code",
      "metadata": {
        "id": "BdK5QdGDSpnk",
        "outputId": "7dac0863-d738-47bc-fd2e-d2133ee13570"
      },
      "source": [
        "# RandomForest 회귀\n",
        "\n",
        "rf = RandomForestRegressor(random_state=123)\n",
        "rf.fit(x_train, y_train)\n",
        "\n",
        "print(\"train set R^2 : {:.3f}\".format(rf.score(x_train, y_train)))\n",
        "print(\"test set R^2 : {:.3f}\".format(rf.score(x_test, y_test)))\n",
        "print(\"valid set Rms : {:.3f}\".format(RMSE(y=y_test, pred=rf.predict(x_test))))"
      ],
      "execution_count": null,
      "outputs": [
        {
          "output_type": "stream",
          "text": [
            "train set R^2 : 0.952\n",
            "test set R^2 : 0.740\n",
            "valid set Rms : 0.725\n"
          ],
          "name": "stdout"
        }
      ]
    },
    {
      "cell_type": "code",
      "metadata": {
        "id": "QuGgBy-DSpnk",
        "outputId": "80f62200-7f16-4edc-d1d3-c7ca621848f8"
      },
      "source": [
        "# 의사결정나무 기반 Adaboost 회귀\n",
        "\n",
        "adatree = AdaBoostRegressor(DecisionTreeRegressor(),random_state=123)\n",
        "adatree.fit(x_train, y_train)\n",
        "\n",
        "print(\"train set R^2 : {:.3f}\".format(adatree.score(x_train, y_train)))\n",
        "print(\"valid set R^2 : {:.3f}\".format(adatree.score(x_test, y_test)))\n",
        "print(\"valid set Rms : {:.3f}\".format(RMSE(y=y_test, pred=adatree.predict(x_test))))"
      ],
      "execution_count": null,
      "outputs": [
        {
          "output_type": "stream",
          "text": [
            "train set R^2 : 0.984\n",
            "valid set R^2 : 0.722\n",
            "valid set Rms : 0.749\n"
          ],
          "name": "stdout"
        }
      ]
    },
    {
      "cell_type": "code",
      "metadata": {
        "id": "c_Jq7WgeSpnk",
        "outputId": "5e0374f5-e760-42e1-c2ba-0fe062803c6d"
      },
      "source": [
        "# 의사결정나무 기반 Bagging 회귀\n",
        "\n",
        "bag = BaggingRegressor(random_state=123)\n",
        "bag.fit(x_train, y_train)\n",
        "\n",
        "print(\"train set R^2 : {:.3f}\".format(bag.score(x_train, y_train)))\n",
        "print(\"valid set R^2 : {:.3f}\".format(bag.score(x_test, y_test)))\n",
        "print(\"valid set Rms : {:.3f}\".format(RMSE(y=y_test, pred=bag.predict(x_test))))"
      ],
      "execution_count": null,
      "outputs": [
        {
          "output_type": "stream",
          "text": [
            "train set R^2 : 0.938\n",
            "valid set R^2 : 0.724\n",
            "valid set Rms : 0.747\n"
          ],
          "name": "stdout"
        }
      ]
    },
    {
      "cell_type": "code",
      "metadata": {
        "id": "VlG6gafsSpnk",
        "outputId": "a468e5e5-cb2a-4e53-db1f-7331d91138e1"
      },
      "source": [
        "# ElasticNet 회귀\n",
        "\n",
        "ela = ElasticNet()\n",
        "ela.fit(x_train, y_train)\n",
        "\n",
        "print(\"train set R^2 : {:.3f}\".format(ela.score(x_train, y_train)))\n",
        "print(\"valid set R^2 : {:.3f}\".format(ela.score(x_test, y_test)))\n",
        "print(\"valid set Rms : {:.3f}\".format(RMSE(y=y_test, pred=ela.predict(x_test))))"
      ],
      "execution_count": null,
      "outputs": [
        {
          "output_type": "stream",
          "text": [
            "train set R^2 : 0.553\n",
            "valid set R^2 : 0.588\n",
            "valid set Rms : 0.912\n"
          ],
          "name": "stdout"
        }
      ]
    },
    {
      "cell_type": "code",
      "metadata": {
        "id": "3y7_GKlmSpnl",
        "outputId": "af7588f1-bdaa-48e7-c0b4-26b5710021ab"
      },
      "source": [
        "# LightGradientBoosting 회귀\n",
        "\n",
        "lgbm = LGBMRegressor(random_state=123)\n",
        "lgbm.fit(x_train, y_train)\n",
        "\n",
        "print(\"train set R^2 : {:.3f}\".format(lgbm.score(x_train, y_train)))\n",
        "print(\"test set R^2 : {:.3f}\".format(lgbm.score(x_test, y_test)))\n",
        "print(\"valid set Rms : {:.3f}\".format(RMSE(y=y_test, pred=lgbm.predict(x_test))))"
      ],
      "execution_count": null,
      "outputs": [
        {
          "output_type": "stream",
          "text": [
            "train set R^2 : 0.915\n",
            "test set R^2 : 0.740\n",
            "valid set Rms : 0.725\n"
          ],
          "name": "stdout"
        }
      ]
    },
    {
      "cell_type": "code",
      "metadata": {
        "id": "Nm-795zVSpnl",
        "outputId": "6db4a1a9-4788-4877-aa09-527aa6f6a9f1"
      },
      "source": [
        "# eXtremeGradientBoosting 회귀\n",
        "\n",
        "xgb = XGBRegressor()\n",
        "xgb.fit(x_train, y_train)\n",
        "\n",
        "print(\"train set R^2 : {:.3f}\".format(xgb.score(x_train, y_train)))\n",
        "print(\"test set R^2 : {:.3f}\".format(xgb.score(x_test, y_test)))\n",
        "print(\"valid set Rms : {:.3f}\".format(RMSE(y=y_test, pred=xgb.predict(x_test))))"
      ],
      "execution_count": null,
      "outputs": [
        {
          "output_type": "stream",
          "text": [
            "train set R^2 : 0.973\n",
            "test set R^2 : 0.741\n",
            "valid set Rms : 0.723\n"
          ],
          "name": "stdout"
        }
      ]
    },
    {
      "cell_type": "markdown",
      "metadata": {
        "id": "_Ryv-Go2Spnl"
      },
      "source": [
        "## 선택된 모델 성능 비교 : RandomForest, LightGBM, XGB"
      ]
    },
    {
      "cell_type": "code",
      "metadata": {
        "id": "kZlcHDCLSpnl"
      },
      "source": [
        "# 모델 학습 및 성능 비교 개요\n",
        "# 1. 합성데이터의 train set으로 모형 학습\n",
        "# 2. 합성데이터의 test set으로 모형의 성능 1차 평가\n",
        "# 3. 합성데이터로 학습시킨 모형으로 원본데이터 예측 후 모형의 성능 2차 평가"
      ],
      "execution_count": null,
      "outputs": []
    },
    {
      "cell_type": "markdown",
      "metadata": {
        "id": "66I-glwdSpnl"
      },
      "source": [
        "## 개별 모델 함수 정의"
      ]
    },
    {
      "cell_type": "code",
      "metadata": {
        "id": "kVbcdhuFSpnm"
      },
      "source": [
        "#     RF_reg(dataframe, col_list, row_idx, train_size, seed)\n",
        "#   LGBM_reg(dataframe, col_list, row_idx, train_size, seed)\n",
        "#    XGB_reg(dataframe, col_list, row_idx, train_size, seed)\n",
        "# Voting_reg(model_list, dataframe, col_list, row_idx, train_size, seed)\n",
        "\n",
        "# 정의되는 함수에서 dataframe은 {INDEX + Y + X Variables}의 형태로 \n",
        "#                   col_list는 dataframe의 X Variables 중에서 분석에 사용할 feature만 모은 리스트\n",
        "#                   row_idx는  dataframe의 모든 행 중에서 분석에 사용할 행만 모은 리스트\n",
        "#                   train_size는 dataframe을 train / test set으로 나눌 때 test set의 크기(0~1)\n",
        "#                   seed는 랜덤 시드 명시"
      ],
      "execution_count": null,
      "outputs": []
    },
    {
      "cell_type": "code",
      "metadata": {
        "id": "26ngAWCjSpnm"
      },
      "source": [
        "def RF_reg(dataframe, col_list, row_idx, train_size, seed):\n",
        "    \n",
        "    warnings.filterwarnings(action='ignore')\n",
        "    \n",
        "# data를 train / test로 split\n",
        "    data = dataframe.loc[row_idx, col_list]\n",
        "    train, test = train_test_split(data, test_size=train_size, random_state=seed)\n",
        "    \n",
        "# train / test를 x(feature 모음) / y 로 변환\n",
        "    x_train = train.iloc[:, list(range(2, len(train.columns)))]\n",
        "    y_train = train.iloc[:, 1]\n",
        "    x_test = test.iloc[:, list(range(2, len(test.columns)))]\n",
        "    y_test = test.iloc[:, 1]\n",
        "\n",
        "# 하이퍼파라미터 튜닝\n",
        "    params = {'n_estimators': [100, 200, 300, 400, 500],\n",
        "              'max_depth': [2,4,6,8,10],\n",
        "              'min_samples_split': [1,3,5,7,9],\n",
        "              'min_samples_leaf': [1,3,5,7,9]}\n",
        "\n",
        "    model = RandomForestRegressor(random_state=seed)\n",
        "    \n",
        "    search = RandomizedSearchCV(estimator=model, param_distributions=params, scoring='neg_root_mean_squared_error',\n",
        "                                n_iter=30, cv = 5, n_jobs = -1, random_state=seed)\n",
        "    search.fit(x_train, y_train)\n",
        "    \n",
        "# 최적의 하이퍼파라미터로 모델 적합\n",
        "    model = RandomForestRegressor(n_estimators=search.best_params_['n_estimators'],\n",
        "                                  max_depth=search.best_params_['max_depth'],\n",
        "                                  min_samples_split=search.best_params_['min_samples_split'],\n",
        "                                  min_samples_leaf=search.best_params_['min_samples_leaf'],\n",
        "                                  random_state=seed)\n",
        "    model.fit(x_train ,y_train)\n",
        "\n",
        "# 학습한 모델과 사용된 데이터셋 반환\n",
        "    return [model, x_train, y_train, x_test, y_test]\n",
        "\n",
        "    warnings.filterwarnings(action='default')"
      ],
      "execution_count": null,
      "outputs": []
    },
    {
      "cell_type": "code",
      "metadata": {
        "id": "_bsHs2OkSpnm"
      },
      "source": [
        "def LGBM_reg(dataframe, col_list, row_idx, train_size, seed):\n",
        "    \n",
        "    warnings.filterwarnings(action='ignore')\n",
        "    \n",
        "# data를 train / test로 split\n",
        "    data = dataframe.loc[row_idx, col_list]\n",
        "    train, test = train_test_split(data, test_size=train_size, random_state=seed)\n",
        "\n",
        "# train / test를 x(feature 모음) / y 로 변환\n",
        "    x_train = train.iloc[:, list(range(2, len(train.columns)))]\n",
        "    y_train = train.iloc[:, 1]\n",
        "    x_test = test.iloc[:, list(range(2, len(test.columns)))]\n",
        "    y_test = test.iloc[:, 1]\n",
        "    \n",
        "# 하이퍼파라미터 튜닝\n",
        "    params = {'n_estimators': [100, 300, 500],\n",
        "              'learning_rate': [0.01,0.05,0.1],\n",
        "              'max_depth': [2,6,10],\n",
        "              'num_leaves': [8,24,40],\n",
        "              'num_iterations':[500]}\n",
        "\n",
        "    model = LGBMRegressor(random_state=seed)\n",
        "    \n",
        "    search = RandomizedSearchCV(estimator=model, param_distributions=params, scoring='neg_root_mean_squared_error',\n",
        "                                   n_iter=30, cv = 5, n_jobs = -1, random_state=seed)\n",
        "    search.fit(x_train, y_train)\n",
        "    \n",
        "# 최적의 하이퍼파라미터로 모델 적합\n",
        "    model = LGBMRegressor(n_estimators=search.best_params_['n_estimators'],\n",
        "                          learning_rate=search.best_params_['learning_rate'],\n",
        "                          max_depth=search.best_params_['max_depth'],\n",
        "                          num_leaves=search.best_params_['num_leaves'],\n",
        "                          num_iterations=search.best_params_['num_iterations'],\n",
        "                          random_state=seed)\n",
        "    model.fit(x_train ,y_train)\n",
        "    \n",
        "# 학습한 모델과 사용된 데이터셋 반환\n",
        "    return [model, x_train, y_train, x_test, y_test]\n",
        "\n",
        "    warnings.filterwarnings(action='default')"
      ],
      "execution_count": null,
      "outputs": []
    },
    {
      "cell_type": "code",
      "metadata": {
        "id": "9_F6anFQSpnm"
      },
      "source": [
        "from xgboost import XGBRegressor\n",
        "\n",
        "def XGB_reg(dataframe, col_list, row_idx, train_size, seed):\n",
        "    \n",
        "    warnings.filterwarnings(action='ignore')\n",
        "    \n",
        "# data를 train / test로 split\n",
        "    data = dataframe.loc[row_idx, col_list]\n",
        "    train, test = train_test_split(data, test_size=train_size, random_state=seed)\n",
        "\n",
        "# train / test를 x(feature 모음) / y 로 변환\n",
        "    x_train = train.iloc[:, list(range(2, len(train.columns)))]\n",
        "    y_train = train.iloc[:, 1]\n",
        "    x_test = test.iloc[:, list(range(2, len(test.columns)))]\n",
        "    y_test = test.iloc[:, 1]\n",
        "    \n",
        "# 하이퍼파라미터 튜닝\n",
        "    params = {'n_estimators': [100, 300, 500],\n",
        "              'learning_rate': [0.01,0.05,0.1],\n",
        "              'max_depth': [2,6,10],\n",
        "             }\n",
        "\n",
        "    model = XGBRegressor()\n",
        "    \n",
        "    search = RandomizedSearchCV(estimator=model, param_distributions=params, scoring='neg_root_mean_squared_error',\n",
        "                                n_iter=30, cv = 5, n_jobs = -1, random_state=seed)\n",
        "    search.fit(x_train, y_train)\n",
        "    \n",
        "# 최적의 하이퍼파라미터로 모델 적합\n",
        "    model = XGBRegressor(n_estimators=search.best_params_['n_estimators'],\n",
        "                         learning_rate=search.best_params_['learning_rate'],\n",
        "                         max_depth=search.best_params_['max_depth'],\n",
        "                         #nrounds=search.best_params_['nrounds'],\n",
        "                         random_state=seed)\n",
        "    model.fit(x_train, y_train)\n",
        "\n",
        "# 학습한 모델과 사용된 데이터셋 반환\n",
        "    return [model, x_train, y_train, x_test, y_test]\n",
        "\n",
        "    warnings.filterwarnings(action='default')"
      ],
      "execution_count": null,
      "outputs": []
    },
    {
      "cell_type": "code",
      "metadata": {
        "id": "CWWrIalcSpnm"
      },
      "source": [
        "from sklearn.ensemble import VotingRegressor\n",
        "\n",
        "def Voting_reg(model_list, dataframe, col_list, row_idx, train_size, seed):\n",
        "    \n",
        "    warnings.filterwarnings(action='ignore')\n",
        "\n",
        "# 보팅 모델에 사용할 모델 3개 저장\n",
        "    model1 = model_list[0]\n",
        "    model2 = model_list[1]\n",
        "    model3 = model_list[2]\n",
        "    models = [('m1', model1), ('m2', model2), ('m3', model3)]\n",
        "\n",
        "    \n",
        "# data를 train / test로 split\n",
        "    data = dataframe.loc[row_idx, col_list]\n",
        "    train, test = train_test_split(data, test_size=train_size, random_state=seed)\n",
        "\n",
        "# train / test를 x(feature 모음) / y 로 변환\n",
        "    x_train = train.iloc[:, list(range(2, len(train.columns)))]\n",
        "    y_train = train.iloc[:, 1]\n",
        "    x_test = test.iloc[:, list(range(2, len(test.columns)))]\n",
        "    y_test = test.iloc[:, 1]\n",
        "\n",
        "# 보팅 모델 적합(각각의 개별 모델은 하이퍼파라미터 튜닝 완료)\n",
        "    model = VotingRegressor(estimators=models)\n",
        "    model.fit(x_train, y_train)\n",
        "    \n",
        "    return [model, x_train, y_train, x_test, y_test]\n",
        "\n",
        "    warnings.filterwarnings(action='default')"
      ],
      "execution_count": null,
      "outputs": []
    },
    {
      "cell_type": "code",
      "metadata": {
        "id": "XTDINvIXSpnn"
      },
      "source": [
        "from sklearn.model_selection import KFold\n",
        "\n",
        "def get_stacking_data(dataframe, col_list, row_idx, train_size, seed, model, nfold):\n",
        "    \n",
        "    warnings.filterwarnings(action='ignore')\n",
        "        \n",
        "# data를 train / test로 split\n",
        "    data = dataframe.loc[row_idx, col_list]\n",
        "    train, test = train_test_split(data, test_size=train_size, random_state=seed)\n",
        "    \n",
        "    train = train.reset_index(drop=True, inplace=False)\n",
        "    test = test.reset_index(drop=True, inplace=False)\n",
        "\n",
        "    x_train = train.iloc[:, list(range(2, len(train.columns)))]\n",
        "    y_train = train.iloc[:, 1]\n",
        "    x_test = test.iloc[:, list(range(2, len(test.columns)))]\n",
        "    y_test = test.iloc[:, 1]\n",
        "    \n",
        "# 스태킹 모형의 x_matrix / y 분할을 위해 k-fold 시행 \n",
        "    kfold = KFold(n_splits=nfold, random_state=seed)\n",
        "\n",
        "# cross-validation을 활용해 스태킹 모형에서 학습과 성능 비교할 데이터프레임 생성\n",
        "    train_fold_predict = np.zeros((x_train.shape[0], 1))\n",
        "    test_predict = np.zeros((x_test.shape[0], nfold))\n",
        "\n",
        "# k-fold의 k번 반복\n",
        "# k-fold의 train_으로 학습한 모델로 validation을 예측한 값을 train_fold_predict에 쌓음\n",
        "    for cnt, (train_index, valid_index) in enumerate(kfold.split(x_train)):\n",
        "        x_train_ = x_train.iloc[train_index]\n",
        "        y_train_ = y_train.iloc[train_index]\n",
        "        x_validation = x_train.iloc[valid_index]\n",
        "        \n",
        "        model.fit(x_train_, y_train_)\n",
        "        \n",
        "        train_fold_predict[valid_index, :] = model.predict(x_validation).reshape(-1, 1)\n",
        "        test_predict[:, cnt] = model.predict(x_test)\n",
        "\n",
        "# test_predict_mean은 모형의 성능 비교할 때 사용\n",
        "    test_predict_mean = np.mean(test_predict, axis=1).reshape(-1, 1)\n",
        "    \n",
        "    return [train_fold_predict, test_predict_mean, x_train, y_train, x_test, y_test]\n",
        "    \n",
        "    warnings.filterwarnings(action='default')"
      ],
      "execution_count": null,
      "outputs": []
    },
    {
      "cell_type": "markdown",
      "metadata": {
        "id": "stajSUzrSpnn"
      },
      "source": [
        "### RandomForest"
      ]
    },
    {
      "cell_type": "code",
      "metadata": {
        "id": "GLJq78zASpnn"
      },
      "source": [
        "# 합성데이터로 RF reg fitting\n",
        "\n",
        "row_idx = list(range(len(osan)))\n",
        "clist = ['gid','사고횟수_가중치','단속카메라','도로안내표지','횡단보도_전체면적','신호등','단속횟수','단속횟수_횡단보도위','traffic_sum',\n",
        "         'freq_sum','초등학교_300m','유치원_500m','cctv','버스정류장','체육시설','학원','car_cnt','float_type_H','float_type_M']\n",
        "\n",
        "result_RF = RF_reg(dataframe=syn, col_list=clist, row_idx=row_idx, train_size=0.3, seed=123)\n",
        "\n",
        "model_RF = result_RF[0]\n",
        "x_test_RF = result_RF[3]\n",
        "y_test_RF = result_RF[4]"
      ],
      "execution_count": null,
      "outputs": []
    },
    {
      "cell_type": "code",
      "metadata": {
        "id": "lveR18CHSpnn",
        "outputId": "6ad8389a-3615-4f1f-e0c8-83c8c7d08da9"
      },
      "source": [
        "# 합성데이터 test set rmse / mae\n",
        "\n",
        "test_rmse_RF = RMSE(y = y_test_RF, pred = model_RF.predict(x_test_RF))\n",
        "test_mae_RF = MAE(y = y_test_RF, pred = model_RF.predict(x_test_RF))\n",
        "\n",
        "test_rmse_RF, test_mae_RF"
      ],
      "execution_count": null,
      "outputs": [
        {
          "output_type": "execute_result",
          "data": {
            "text/plain": [
              "(0.7187, 0.4338)"
            ]
          },
          "metadata": {
            "tags": []
          },
          "execution_count": 30
        }
      ]
    },
    {
      "cell_type": "code",
      "metadata": {
        "id": "dcrzEzzSSpnn",
        "outputId": "9f94efcd-1a70-4c64-8322-c6a0d16f0037"
      },
      "source": [
        "# 원본데이터 예측 rmse / mae\n",
        "\n",
        "row_idx = list(range(len(osan)))\n",
        "clist = ['gid','사고횟수_가중치','단속카메라','도로안내표지','횡단보도_전체면적','신호등','단속횟수','단속횟수_횡단보도위','traffic_sum',\n",
        "         'freq_sum','초등학교_300m','유치원_500m','cctv','버스정류장','체육시설','학원','car_cnt','float_type_H','float_type_M']\n",
        "clist = clist[2:len(clist)]\n",
        "design = osan.loc[:, clist]\n",
        "\n",
        "y = osan.사고횟수_가중치\n",
        "pred = model_RF.predict(design)\n",
        "\n",
        "valid_rmse_RF = RMSE(y = y, pred = pred)\n",
        "valid_mae_RF = MAE (y = y, pred = pred)\n",
        "\n",
        "valid_rmse_RF, valid_mae_RF"
      ],
      "execution_count": null,
      "outputs": [
        {
          "output_type": "execute_result",
          "data": {
            "text/plain": [
              "(0.9178, 0.5095)"
            ]
          },
          "metadata": {
            "tags": []
          },
          "execution_count": 31
        }
      ]
    },
    {
      "cell_type": "code",
      "metadata": {
        "id": "qh0nnEUzSpno",
        "outputId": "3ea802a3-e5c2-402c-f0dd-9ead83bfc955"
      },
      "source": [
        "# 랜덤포레스트 변수중요도 플랏\n",
        "\n",
        "clist = ['gid','사고횟수_가중치','camera','traffic_sign','crosswalk','traffic_light','crackdown','crackdown_cross','traffic_sum',\n",
        "         'freq_sum','ele_300m','kgd_500m','cctv','bus_stop','physic_fac','academy','car_cnt','float_type_H','float_type_M']\n",
        "clist = clist[2:len(clist)]\n",
        "\n",
        "importances = model_RF.feature_importances_\n",
        "indices = np.argsort(importances)\n",
        "\n",
        "feature_name = []\n",
        "for i in indices:\n",
        "    feature_name.append(clist[i])\n",
        "\n",
        "plt.title('Feature Importances')\n",
        "plt.barh(feature_name, importances[indices], color='#8f63f4', align='center')\n",
        "plt.xlabel('Relative Importance')\n",
        "plt.show()"
      ],
      "execution_count": null,
      "outputs": [
        {
          "output_type": "display_data",
          "data": {
            "image/png": "[encoded data removed]",
            "text/plain": [
              "<Figure size 432x288 with 1 Axes>"
            ]
          },
          "metadata": {
            "tags": [],
            "needs_background": "light"
          }
        }
      ]
    },
    {
      "cell_type": "markdown",
      "metadata": {
        "id": "MJHibHe9Spno"
      },
      "source": [
        "### Light Gradient Boosting"
      ]
    },
    {
      "cell_type": "code",
      "metadata": {
        "id": "xbbGpOAdSpno"
      },
      "source": [
        "# 합성데이터로 LGBM reg fitting\n",
        "\n",
        "row_idx = list(range(len(osan)))\n",
        "clist = ['gid','사고횟수_가중치','단속카메라','도로안내표지','횡단보도_전체면적','신호등','단속횟수','단속횟수_횡단보도위','traffic_sum',\n",
        "         'freq_sum','초등학교_300m','유치원_500m','cctv','버스정류장','체육시설','학원','car_cnt','float_type_H','float_type_M']\n",
        "\n",
        "result_LGBM = LGBM_reg(dataframe=syn, col_list=clist, row_idx=row_idx, train_size=0.3, seed=123)\n",
        "\n",
        "model_LGBM = result_LGBM[0]\n",
        "x_test_LGBM = result_LGBM[3]\n",
        "y_test_LGBM = result_LGBM[4]"
      ],
      "execution_count": null,
      "outputs": []
    },
    {
      "cell_type": "code",
      "metadata": {
        "id": "gqkgLAYhSpno",
        "outputId": "71da3296-a884-493f-8dcc-bc86d8f38a04"
      },
      "source": [
        "# 합성데이터 test set rmse / mae\n",
        "\n",
        "test_rmse_LGBM = RMSE(y = y_test_LGBM, pred = model_LGBM.predict(x_test_LGBM))\n",
        "test_mae_LGBM = MAE(y = y_test_LGBM, pred = model_LGBM.predict(x_test_LGBM))\n",
        "\n",
        "test_rmse_LGBM, test_mae_LGBM"
      ],
      "execution_count": null,
      "outputs": [
        {
          "output_type": "execute_result",
          "data": {
            "text/plain": [
              "(0.7357, 0.4433)"
            ]
          },
          "metadata": {
            "tags": []
          },
          "execution_count": 34
        }
      ]
    },
    {
      "cell_type": "code",
      "metadata": {
        "id": "bfKAfzGlSpno",
        "outputId": "9b5d0be5-561f-43e7-eb0e-7026886094dc"
      },
      "source": [
        "# 원본데이터 예측 rmse / mae\n",
        "\n",
        "row_idx = list(range(len(osan)))\n",
        "clist = ['gid','사고횟수_가중치','단속카메라','도로안내표지','횡단보도_전체면적','신호등','단속횟수','단속횟수_횡단보도위','traffic_sum',\n",
        "         'freq_sum','초등학교_300m','유치원_500m','cctv','버스정류장','체육시설','학원','car_cnt','float_type_H','float_type_M']\n",
        "clist = clist[2:len(clist)]\n",
        "design = osan.loc[:, clist]\n",
        "\n",
        "y = osan.사고횟수_가중치\n",
        "pred = model_LGBM.predict(design)\n",
        "\n",
        "valid_rmse_LGBM = RMSE(y = y, pred = pred)\n",
        "valid_mae_LGBM = MAE (y = y, pred = pred)\n",
        "\n",
        "valid_rmse_LGBM, valid_mae_LGBM"
      ],
      "execution_count": null,
      "outputs": [
        {
          "output_type": "execute_result",
          "data": {
            "text/plain": [
              "(0.9116, 0.5118)"
            ]
          },
          "metadata": {
            "tags": []
          },
          "execution_count": 35
        }
      ]
    },
    {
      "cell_type": "markdown",
      "metadata": {
        "id": "GvxZYDnwSpno"
      },
      "source": [
        "### XGB"
      ]
    },
    {
      "cell_type": "code",
      "metadata": {
        "id": "gdpNndASSpno"
      },
      "source": [
        "# 합성데이터로 XGB reg fitting\n",
        "\n",
        "row_idx = list(range(len(osan)))\n",
        "clist = ['gid','사고횟수_가중치','단속카메라','도로안내표지','횡단보도_전체면적','신호등','단속횟수','단속횟수_횡단보도위','traffic_sum',\n",
        "         'freq_sum','초등학교_300m','유치원_500m','cctv','버스정류장','체육시설','학원','car_cnt','float_type_H','float_type_M']\n",
        "\n",
        "result_XGB = XGB_reg(dataframe=syn, col_list=clist, row_idx=row_idx, train_size=0.3, seed=123)\n",
        "\n",
        "model_XGB = result_XGB[0]\n",
        "x_test_XGB = result_XGB[3]\n",
        "y_test_XGB = result_XGB[4]"
      ],
      "execution_count": null,
      "outputs": []
    },
    {
      "cell_type": "code",
      "metadata": {
        "id": "ZuqNZyLASpnp",
        "outputId": "0e6cdfa1-c3ca-406f-8da0-aff020ad4e26"
      },
      "source": [
        "# 합성데이터 test set rmse / mae\n",
        "\n",
        "test_rmse_XGB = RMSE(y = y_test_XGB, pred = model_XGB.predict(x_test_XGB))\n",
        "test_mae_XGB = MAE(y = y_test_XGB, pred = model_XGB.predict(x_test_XGB))\n",
        "\n",
        "test_rmse_XGB, test_mae_XGB"
      ],
      "execution_count": null,
      "outputs": [
        {
          "output_type": "execute_result",
          "data": {
            "text/plain": [
              "(0.7145, 0.4326)"
            ]
          },
          "metadata": {
            "tags": []
          },
          "execution_count": 37
        }
      ]
    },
    {
      "cell_type": "code",
      "metadata": {
        "id": "JzlvP4sxSpnp",
        "outputId": "5c90b7c0-a68c-4b4d-806e-4b4bcc745976"
      },
      "source": [
        "# 원본데이터 예측 rmse / mae\n",
        "\n",
        "row_idx = list(range(len(osan)))\n",
        "clist = ['gid','사고횟수_가중치','단속카메라','도로안내표지','횡단보도_전체면적','신호등','단속횟수','단속횟수_횡단보도위','traffic_sum',\n",
        "         'freq_sum','초등학교_300m','유치원_500m','cctv','버스정류장','체육시설','학원','car_cnt','float_type_H','float_type_M']\n",
        "clist = clist[2:len(clist)]\n",
        "design = osan.loc[:, clist]\n",
        "\n",
        "y = osan.사고횟수_가중치\n",
        "pred = model_XGB.predict(design)\n",
        "\n",
        "valid_rmse_XGB = RMSE(y = y, pred = pred)\n",
        "valid_mae_XGB = MAE (y = y, pred = pred)\n",
        "\n",
        "valid_rmse_XGB, valid_mae_XGB"
      ],
      "execution_count": null,
      "outputs": [
        {
          "output_type": "execute_result",
          "data": {
            "text/plain": [
              "(0.9205, 0.5091)"
            ]
          },
          "metadata": {
            "tags": []
          },
          "execution_count": 38
        }
      ]
    },
    {
      "cell_type": "markdown",
      "metadata": {
        "id": "Dny-rShSSpnp"
      },
      "source": [
        "### Voting regressor"
      ]
    },
    {
      "cell_type": "code",
      "metadata": {
        "id": "b5qwi8zYSpnp"
      },
      "source": [
        "# 합성데이터로 Voting reg fitting\n",
        "# Voting regressor에 참여할 모형: RF, LGBM, XGB\n",
        "mlist = [model_RF, model_LGBM, model_XGB]\n",
        "\n",
        "row_idx = list(range(len(osan)))\n",
        "clist = ['gid','사고횟수_가중치','단속카메라','도로안내표지','횡단보도_전체면적','신호등','단속횟수','단속횟수_횡단보도위','traffic_sum',\n",
        "         'freq_sum','초등학교_300m','유치원_500m','cctv','버스정류장','체육시설','학원','car_cnt','float_type_H','float_type_M']\n",
        "\n",
        "result_ESB = Voting_reg(model_list=mlist, dataframe=syn, col_list=clist, row_idx=row_idx, train_size=0.3, seed=123)\n",
        "\n",
        "model_ESB = result_ESB[0]\n",
        "x_test_ESB = result_ESB[3]\n",
        "y_test_ESB = result_ESB[4]"
      ],
      "execution_count": null,
      "outputs": []
    },
    {
      "cell_type": "code",
      "metadata": {
        "id": "JiFZHazbSpnp",
        "outputId": "1b226c68-21a7-4cf5-dc64-88620f7080d3"
      },
      "source": [
        "# 합성데이터 test set rmse / mae\n",
        "\n",
        "test_rmse_ESB = RMSE(y = y_test_ESB, pred = model_ESB.predict(x_test_ESB))\n",
        "test_mae_ESB = MAE(y = y_test_ESB, pred = model_ESB.predict(x_test_ESB))\n",
        "\n",
        "test_rmse_ESB, test_mae_ESB"
      ],
      "execution_count": null,
      "outputs": [
        {
          "output_type": "execute_result",
          "data": {
            "text/plain": [
              "(0.7099, 0.4304)"
            ]
          },
          "metadata": {
            "tags": []
          },
          "execution_count": 40
        }
      ]
    },
    {
      "cell_type": "code",
      "metadata": {
        "id": "Ht5NiorNSpnp",
        "outputId": "776d0a23-d863-462b-87c1-e406ef531c13"
      },
      "source": [
        "# 원본데이터 예측 rmse / mae\n",
        "\n",
        "row_idx = list(range(len(osan)))\n",
        "clist = ['gid','사고횟수_가중치','단속카메라','도로안내표지','횡단보도_전체면적','신호등','단속횟수','단속횟수_횡단보도위','traffic_sum',\n",
        "         'freq_sum','초등학교_300m','유치원_500m','cctv','버스정류장','체육시설','학원','car_cnt','float_type_H','float_type_M']\n",
        "clist = clist[2:len(clist)]\n",
        "design = osan.loc[:, clist]\n",
        "\n",
        "y = osan.사고횟수_가중치\n",
        "pred = model_ESB.predict(design)\n",
        "\n",
        "valid_rmse_ESB = RMSE(y = y, pred = pred)\n",
        "valid_mae_ESB = MAE (y = y, pred = pred)\n",
        "\n",
        "valid_rmse_ESB, valid_mae_ESB"
      ],
      "execution_count": null,
      "outputs": [
        {
          "output_type": "execute_result",
          "data": {
            "text/plain": [
              "(0.9035, 0.5042)"
            ]
          },
          "metadata": {
            "tags": []
          },
          "execution_count": 41
        }
      ]
    },
    {
      "cell_type": "markdown",
      "metadata": {
        "id": "16odpuJ5Spnp"
      },
      "source": [
        "### Stacking"
      ]
    },
    {
      "cell_type": "code",
      "metadata": {
        "id": "C0rUNMBmSpnp",
        "outputId": "da38a23f-256e-42bf-ba38-77daf2310fac"
      },
      "source": [
        "# RF, LGBM, XGB 3가지로 스태킹 모델 fitting\n",
        "\n",
        "row_idx = list(range(len(osan)))\n",
        "clist = ['gid','사고횟수_가중치','단속카메라','도로안내표지','횡단보도_전체면적','신호등','단속횟수','단속횟수_횡단보도위','traffic_sum',\n",
        "         'freq_sum','초등학교_300m','유치원_500m','cctv','버스정류장','체육시설','학원','car_cnt','float_type_H','float_type_M']\n",
        "\n",
        "# RF, LGBM, XGB의 세 모형으로 스태킹 데이터 생성\n",
        "stack_RF = get_stacking_data(dataframe=syn, col_list=clist, row_idx=row_idx, train_size=0.3, seed=123, model=model_RF, nfold=5)\n",
        "stack_LGBM = get_stacking_data(dataframe=syn, col_list=clist, row_idx=row_idx, train_size=0.3, seed=123, model=model_LGBM, nfold=5)\n",
        "stack_XGB = get_stacking_data(dataframe=syn, col_list=clist, row_idx=row_idx, train_size=0.3, seed=123, model=model_XGB, nfold=5)\n",
        "\n",
        "# 모형_train은 cross-validation에서 train으로 학습된 모형에서 validation set의 예측값 모음\n",
        "# 모형_test는 cross_validation에서 모형 학습에 사용되지 않은 test 용 데이터의 예측값 모음\n",
        "RF_train, LGBM_train, XGB_train = stack_RF[0], stack_LGBM[0], stack_XGB[0]\n",
        "RF_test, LGBM_test, XGB_test = stack_RF[1], stack_LGBM[1], stack_XGB[1]\n",
        "\n",
        "# 최종 모형 학습을 위해 3가지 모형_train을 모아서 new_x_train으로 병합\n",
        "# 최종 모형 학습에 사용될 label은 y_train\n",
        "new_x_train = np.concatenate((RF_train, LGBM_train, XGB_train), axis=1)\n",
        "y_train = stack_RF[3]\n",
        "\n",
        "# 모형의 성능 평가를 위한 test용 데이터의 예측값 모음 또한 new_x_test로 병합\n",
        "new_x_test = np.concatenate((RF_test, LGBM_test, XGB_test), axis=1)\n",
        "\n",
        "# 스태킹을 통해 산출된 새로운 데이터로 최종 모형 학습\n",
        "model_STACK = LGBMRegressor(n_estimators=100, random_state=123)\n",
        "model_STACK.fit(new_x_train, y_train)"
      ],
      "execution_count": null,
      "outputs": [
        {
          "output_type": "execute_result",
          "data": {
            "text/plain": [
              "LGBMRegressor(random_state=123)"
            ]
          },
          "metadata": {
            "tags": []
          },
          "execution_count": 42
        }
      ]
    },
    {
      "cell_type": "code",
      "metadata": {
        "id": "K3aiM1FnSpnq",
        "outputId": "1cb77607-77d9-43e4-cbfa-df087f04e4d8"
      },
      "source": [
        "# 합성데이터 test set rmse / mae\n",
        "\n",
        "# y_test_STACK은 모형 평가를 위한 실제 test용 데이터의 label\n",
        "# pred_test_STACK은 test용 데이터의 예측값\n",
        "y_test_STACK = stack_RF[5]\n",
        "pred_test_STACK = model_STACK.predict(new_x_test)\n",
        "\n",
        "test_rmse_STACK = RMSE(y = y_test_STACK, pred = pred_test_STACK)\n",
        "test_mae_STACK = MAE(y = y_test_STACK, pred = pred_test_STACK)\n",
        "\n",
        "test_rmse_STACK, test_mae_STACK"
      ],
      "execution_count": null,
      "outputs": [
        {
          "output_type": "execute_result",
          "data": {
            "text/plain": [
              "(0.7681, 0.4571)"
            ]
          },
          "metadata": {
            "tags": []
          },
          "execution_count": 43
        }
      ]
    },
    {
      "cell_type": "code",
      "metadata": {
        "id": "GIus1SMqSpnq",
        "outputId": "ee6670bc-8b04-4a15-abbc-3f316e6007c0"
      },
      "source": [
        "# 원본데이터로 예측 rmse / mae\n",
        "\n",
        "clist = ['gid','사고횟수_가중치','단속카메라','도로안내표지','횡단보도_전체면적','신호등','단속횟수','단속횟수_횡단보도위','traffic_sum',\n",
        "         'freq_sum','초등학교_300m','유치원_500m','cctv','버스정류장','체육시설','학원','car_cnt','float_type_H','float_type_M']\n",
        "clist = clist[2:len(clist)]\n",
        "design = osan.loc[:, clist]\n",
        "\n",
        "# 원본데이터를 model_STACK로 예측하기 위해 3가지 모형(RF. LGBM, XGB)의 예측값 구함\n",
        "RF_valid = model_RF.predict(design)\n",
        "LGBM_valid = model_LGBM.predict(design)\n",
        "XGB_valid = model_XGB.predict(design)\n",
        "\n",
        "# new_x_valid는 model_STACK으로 원본데이터 예측을 위해 사용할 design matrix\n",
        "new_x_valid = np.array([RF_valid, LGBM_valid, XGB_valid])\n",
        "new_x_valid = np.transpose(new_x_valid)\n",
        "\n",
        "y = osan.사고횟수_가중치\n",
        "pred = model_STACK.predict(new_x_valid)\n",
        "\n",
        "valid_rmse_STACK = RMSE(y = y, pred = pred)\n",
        "valid_mae_STACK = MAE (y = y, pred = pred)\n",
        "\n",
        "valid_rmse_STACK, valid_mae_STACK"
      ],
      "execution_count": null,
      "outputs": [
        {
          "output_type": "execute_result",
          "data": {
            "text/plain": [
              "(0.9449, 0.5245)"
            ]
          },
          "metadata": {
            "tags": []
          },
          "execution_count": 44
        }
      ]
    },
    {
      "cell_type": "markdown",
      "metadata": {
        "id": "UlTo4Y05Spnq"
      },
      "source": [
        "## 최종 모델 : Voting_Reg(RF, LGBM, XGB)"
      ]
    },
    {
      "cell_type": "code",
      "metadata": {
        "id": "v5s9URSXSpnq"
      },
      "source": [
        "# 모형 비교에서 구한 최적의 하이퍼파라미터로 모형 학습\n",
        "\n",
        "model_RF = RandomForestRegressor(max_depth=10, min_samples_split=3, n_estimators=400,\n",
        "                                 random_state=123)\n",
        "\n",
        "model_LGBM = LGBMRegressor(learning_rate=0.05, max_depth=10, num_iterations=500,\n",
        "                        num_leaves=8, random_state=123)\n",
        "\n",
        "model_XGB = XGBRegressor(base_score=0.5, booster='gbtree', colsample_bylevel=1,\n",
        "                         colsample_bynode=1, colsample_bytree=1, gamma=0, gpu_id=-1,\n",
        "                         importance_type='gain',\n",
        "                         learning_rate=0.01, max_delta_step=0, max_depth=6,\n",
        "                         min_child_weight=1,\n",
        "                         n_estimators=500, n_jobs=0, num_parallel_tree=1,\n",
        "                         random_state=123, reg_alpha=0, reg_lambda=1, scale_pos_weight=1,\n",
        "                         subsample=1, tree_method='exact', validate_parameters=1,\n",
        "                         verbosity=None)"
      ],
      "execution_count": null,
      "outputs": []
    },
    {
      "cell_type": "code",
      "metadata": {
        "id": "I7QX1klUSpnq"
      },
      "source": [
        "row_idx = list(range(len(osan)))\n",
        "clist = ['gid','사고횟수_가중치','단속카메라','도로안내표지','횡단보도_전체면적','신호등','단속횟수','단속횟수_횡단보도위','traffic_sum',\n",
        "         'freq_sum','초등학교_300m','유치원_500m','cctv','버스정류장','체육시설','학원','car_cnt','float_type_H','float_type_M']\n",
        "\n",
        "# 개별 모형에서 사용한 train / test을 동일하게 나누기\n",
        "data_pair = data_split(dataframe=syn, col_list=clist, row_idx=row_idx, train_size=0.3, seed=123)\n",
        "\n",
        "x_train = data_pair[0]\n",
        "y_train = data_pair[1]"
      ],
      "execution_count": null,
      "outputs": []
    },
    {
      "cell_type": "code",
      "metadata": {
        "id": "oRVVJScTSpnq",
        "outputId": "43c10a78-e9e9-4d80-8b8d-c70febec3942"
      },
      "source": [
        "# 최적화된 RandomForest, LightGBM, XGB 모형으로 Voting regressor 학습\n",
        "\n",
        "models = [('RF', model_RF), ('LGBM', model_LGBM), ('XGB', model_XGB)]\n",
        "\n",
        "model_ESB = VotingRegressor(estimators=models)\n",
        "model_ESB.fit(x_train, y_train)"
      ],
      "execution_count": null,
      "outputs": [
        {
          "output_type": "execute_result",
          "data": {
            "text/plain": [
              "VotingRegressor(estimators=[('RF',\n",
              "                             RandomForestRegressor(max_depth=10,\n",
              "                                                   min_samples_split=3,\n",
              "                                                   n_estimators=400,\n",
              "                                                   random_state=123)),\n",
              "                            ('LGBM',\n",
              "                             LGBMRegressor(learning_rate=0.05, max_depth=10,\n",
              "                                           num_iterations=500, num_leaves=8,\n",
              "                                           random_state=123)),\n",
              "                            ('XGB',\n",
              "                             XGBRegressor(base_score=0.5, booster='gbtree',\n",
              "                                          colsample_bylevel=1,\n",
              "                                          colsample_bynode=1,\n",
              "                                          colsample_bytree=1, gamma=0,\n",
              "                                          gpu_id=-1, importance_type='gain',\n",
              "                                          interaction_constraints=None,\n",
              "                                          learning_rate=0.01, max_delta_step=0,\n",
              "                                          max_depth=6, min_child_weight=1,\n",
              "                                          missing=nan,\n",
              "                                          monotone_constraints=None,\n",
              "                                          n_estimators=500, n_jobs=0,\n",
              "                                          num_parallel_tree=1, random_state=123,\n",
              "                                          reg_alpha=0, reg_lambda=1,\n",
              "                                          scale_pos_weight=1, subsample=1,\n",
              "                                          tree_method='exact',\n",
              "                                          validate_parameters=1,\n",
              "                                          verbosity=None))])"
            ]
          },
          "metadata": {
            "tags": []
          },
          "execution_count": 47
        }
      ]
    },
    {
      "cell_type": "markdown",
      "metadata": {
        "id": "FDz_xhf-Spnq"
      },
      "source": [
        "## 최종 모형으로 사고 예측치 정렬"
      ]
    },
    {
      "cell_type": "code",
      "metadata": {
        "id": "MvozDGPESpnr"
      },
      "source": [
        "# 최종 모형으로 원본데이터 사고 예측\n",
        "\n",
        "row_idx = list(range(len(osan)))\n",
        "clist = ['gid','사고횟수_가중치','단속카메라','도로안내표지','횡단보도_전체면적','신호등','단속횟수','단속횟수_횡단보도위','traffic_sum',\n",
        "         'freq_sum','초등학교_300m','유치원_500m','cctv','버스정류장','체육시설','학원','car_cnt','float_type_H','float_type_M']\n",
        "clist = clist[2:len(clist)]\n",
        "design = osan.loc[:, clist]\n",
        "\n",
        "# 각 격자의 사고 예측값\n",
        "predicted = model_ESB.predict(design)"
      ],
      "execution_count": null,
      "outputs": []
    },
    {
      "cell_type": "code",
      "metadata": {
        "id": "VnWjpmSNSpnr"
      },
      "source": [
        "# danger_place는 4510개의 격자를 사고 예측값 기준으로 정렬한 데이터\n",
        "\n",
        "danger_place = osan.copy()\n",
        "\n",
        "danger_place['predicted'] = predicted\n",
        "danger_place = danger_place.sort_values(by=['predicted'], axis=0, ascending=False)\n",
        "danger_place = danger_place.reset_index(drop=True, inplace=False)\n",
        "\n",
        "danger_place.to_file('danger.geojson', driver='GeoJSON')"
      ],
      "execution_count": null,
      "outputs": []
    },
    {
      "cell_type": "code",
      "metadata": {
        "id": "yWvX5YqISpnr"
      },
      "source": [
        "# 예측값 기준 상위 60개 지역 추출\n",
        "# 보호구역여부는 해당 격자에 어린이 보호구역 도로가 지정되어 있는지 여부 -> 어린이 보호구역 지정 YES: 1\n",
        "#                                                                        -> 어린이 보호구역 지정  NO: 0\n",
        "\n",
        "danger = gpd.read_file('danger.geojson')\n",
        "\n",
        "danger_top60 = danger.loc[0:59, :]\n",
        "danger_top60['보호구역여부'] = [0, 0, 1, 0, 0, 0, 0, 1, 1, 0, \n",
        "                                0, 0, 0, 1, 1, 0, 0, 0, 0, 0, \n",
        "                                0, 1, 0, 0, 0, 1, 1, 1, 0, 0, \n",
        "                                1, 1, 1, 0, 0, 0, 0, 0, 0, 1, \n",
        "                                0, 0, 0, 0, 0, 0, 0, 0, 0, 1, \n",
        "                                0, 0, 0, 1, 0, 0, 0, 0, 0, 0]\n",
        "\n",
        "danger_top60.to_file('danger_top60.geojson', driver='GeoJSON')"
      ],
      "execution_count": null,
      "outputs": []
    },
    {
      "cell_type": "code",
      "metadata": {
        "id": "m7VJunNBSpnr"
      },
      "source": [
        "# 예측값 기준 상위 80개 지역 추출\n",
        "\n",
        "danger = gpd.read_file('danger.geojson')\n",
        "\n",
        "danger_top80 = danger.loc[0:79, :]\n",
        "danger_top80['보호구역여부'] = [0, 0, 1, 0, 0, 0, 0, 1, 1, 0, \n",
        "                                0, 0, 0, 1, 1, 0, 0, 0, 0, 0, \n",
        "                                0, 1, 0, 0, 0, 1, 1, 1, 0, 0, \n",
        "                                1, 1, 1, 0, 0, 0, 0, 0, 0, 1, \n",
        "                                0, 0, 0, 0, 0, 0, 0, 0, 0, 1, \n",
        "                                0, 0, 0, 1, 0, 0, 0, 0, 0, 0,\n",
        "                                0, 0, 0, 0, 0, 0, 1, 0, 0, 0,\n",
        "                                1, 0, 1, 0, 1, 0, 1, 1, 0, 0]\n",
        "\n",
        "danger_top80.to_file('danger_top80.geojson', driver='GeoJSON')"
      ],
      "execution_count": null,
      "outputs": []
    },
    {
      "cell_type": "code",
      "metadata": {
        "id": "9yz25MRjSpnr"
      },
      "source": [
        "# 예측값 기준 상위 120개 지역 추출\n",
        "\n",
        "danger = gpd.read_file('danger.geojson')\n",
        "\n",
        "danger_top120 = danger.loc[0:119, :]\n",
        "danger_top120['보호구역여부'] = [0, 0, 1, 0, 0, 0, 0, 1, 1, 0, \n",
        "                                 0, 0, 0, 1, 1, 0, 0, 0, 0, 0, \n",
        "                                 0, 1, 0, 0, 0, 1, 1, 1, 0, 0, \n",
        "                                 1, 1, 1, 0, 0, 0, 0, 0, 0, 1, \n",
        "                                 0, 0, 0, 0, 0, 0, 0, 0, 0, 1, \n",
        "                                 0, 0, 0, 1, 0, 0, 0, 0, 0, 0,\n",
        "                                 0, 0, 0, 0, 0, 0, 1, 0, 0, 0,\n",
        "                                 1, 0, 1, 0, 1, 0, 1, 1, 0, 0, \n",
        "                                 0, 0, 0, 0, 0, 1, 0, 0, 0, 0,\n",
        "                                 0, 0, 0, 1, 0, 0, 1, 0, 0, 1, \n",
        "                                 1, 1, 0, 0, 0, 1, 0, 0, 0, 1,\n",
        "                                 0, 0, 0, 0, 0, 0, 0, 1, 0, 0]\n",
        "\n",
        "danger_top120.to_file('danger_top120.geojson', driver='GeoJSON')"
      ],
      "execution_count": null,
      "outputs": []
    },
    {
      "cell_type": "code",
      "metadata": {
        "id": "W3JfJj3iSpnr"
      },
      "source": [
        "# 예측값 기준 상위 130개 지역 추출\n",
        "\n",
        "danger = gpd.read_file('danger.geojson')\n",
        "\n",
        "danger_top130 = danger.loc[0:129, :]\n",
        "danger_top130['보호구역여부'] = [0, 0, 1, 0, 0, 0, 0, 1, 1, 0, \n",
        "                                 0, 0, 0, 1, 1, 0, 0, 0, 0, 0, \n",
        "                                 0, 1, 0, 0, 0, 1, 1, 1, 0, 0, \n",
        "                                 1, 1, 1, 0, 0, 0, 0, 0, 0, 1, \n",
        "                                 0, 0, 0, 0, 0, 0, 0, 0, 0, 1, \n",
        "                                 0, 0, 0, 1, 0, 0, 0, 0, 0, 0,\n",
        "                                 0, 0, 0, 0, 0, 0, 1, 0, 0, 0,\n",
        "                                 1, 0, 1, 0, 1, 0, 1, 1, 0, 0, \n",
        "                                 0, 0, 0, 0, 0, 1, 0, 0, 0, 0,\n",
        "                                 0, 0, 0, 1, 0, 0, 1, 0, 0, 1, \n",
        "                                 1, 1, 0, 0, 0, 1, 0, 0, 0, 1,\n",
        "                                 0, 0, 0, 0, 0, 0, 0, 1, 0, 0,\n",
        "                                 0, 0, 1, 1, 0, 0, 0, 1, 1, 0]\n",
        "\n",
        "danger_top130.to_file('danger_top130.geojson', driver='GeoJSON')"
      ],
      "execution_count": null,
      "outputs": []
    },
    {
      "cell_type": "markdown",
      "metadata": {
        "id": "y_1p3S_XSpnr"
      },
      "source": [
        "## 보호구역 외 어린이 교통사고 위험 지역 top20"
      ]
    },
    {
      "cell_type": "code",
      "metadata": {
        "id": "knRu9eInSpnr"
      },
      "source": [
        "# 선정한 어린이 보호구역 외 교통사고 위험지역 20 곳\n",
        "# risky 리스트는 선정한 교통사고 위험지역 격자를 위험도 순위로 정렬하여 기입\n",
        "# 한 줄에 2개 이상의 격자가 있는 행은 선정한 위험지역이 연결되어 있는 격자\n",
        "\n",
        "risky = ['다사622056', '다사623056',\n",
        "         '다사622057', '다사623057',\n",
        "         '다사620049',\n",
        "         '다사622055',\n",
        "         '다사621044',\n",
        "         '다사617038',\n",
        "         '다사624056', '다사625056',\n",
        "         '다사621058', '다사621057',\n",
        "         '다사601086', '다사601085',\n",
        "         '다사621048',\n",
        "         '다사622058',\n",
        "         '다사623055', '다사623054',\n",
        "         '다사622044',\n",
        "         '다사616038',\n",
        "         '다사625063',\n",
        "         '다사620048', '다사619048',\n",
        "         '다사617037',\n",
        "         '다사616044',\n",
        "         '다사621053',\n",
        "         '다사621047', '다사622047', '다사622046']"
      ],
      "execution_count": null,
      "outputs": []
    },
    {
      "cell_type": "code",
      "metadata": {
        "id": "UF0q2fGXSpnr"
      },
      "source": [
        "# 선정한 어린이 보호구역 취약 지역 top20 데이터\n",
        "\n",
        "danger = gpd.read_file('danger.geojson')\n",
        "\n",
        "dangerous_place_top20 = danger.loc[np.where(danger.gid.isin(risky))[0], :]\n",
        "dangerous_place_top20 = dangerous_place_top20.reset_index(drop=True, inplace=False)"
      ],
      "execution_count": null,
      "outputs": []
    },
    {
      "cell_type": "code",
      "metadata": {
        "id": "4HKRimegSpns"
      },
      "source": [
        "# dangerous_place_top20는 과제1(어린이보호구역 외 교통사고 위험 지역 top 20 모음)\n",
        "\n",
        "dangerous_place_top20.to_file('dangerous_place_top20.geojson', driver='GeoJSON')"
      ],
      "execution_count": null,
      "outputs": []
    },
    {
      "cell_type": "markdown",
      "metadata": {
        "id": "oV9iqvwJSpns"
      },
      "source": [
        "## 어린이보호구역 중 취약 지역 top20"
      ]
    },
    {
      "cell_type": "code",
      "metadata": {
        "id": "SBbXuOCVSpns"
      },
      "source": [
        "# 선정한 어린이 보호구역 중 취약 지역 20 곳\n",
        "# weak_ptz 리스트는 선정한 취약 지역 격자를 취약 순위로 정렬하여 기입\n",
        "# 한 줄에 2개 이상의 격자가 있는 행은 하나의 어린이 보호구역이 이어져 있는 격자\n",
        "\n",
        "weak_ptz = ['다사625064',\n",
        "            '다사625064', '다사625065',\n",
        "            '다사617039',\n",
        "            '다사624062', '다사624061',\n",
        "            '다사595087', '다사595086',\n",
        "            '다사595087', '다사597088', '다사596087',\n",
        "            '다사624066',\n",
        "            '다사620045',\n",
        "            '다사619039', '다사618039',\n",
        "            '다사624061',\n",
        "            '다사619044',\n",
        "            '다사617043',\n",
        "            '다사625067',\n",
        "            '다사619045',\n",
        "            '다사620039',\n",
        "            '다사618037',\n",
        "            '다사631038',\n",
        "            '다사631038',\n",
        "            '다사625068',\n",
        "            '다사616035']"
      ],
      "execution_count": null,
      "outputs": []
    },
    {
      "cell_type": "code",
      "metadata": {
        "id": "5S7jB2NeSpns"
      },
      "source": [
        "# 선정한 어린이 보호구역 취약 지역 top20 데이터\n",
        "\n",
        "danger = gpd.read_file('danger.geojson')\n",
        "\n",
        "weak_ptz_top20 = danger.loc[np.where(danger.gid.isin(weak_ptz))[0], :]\n",
        "weak_ptz_top20 = weak_ptz_top20.reset_index(drop=True, inplace=False)"
      ],
      "execution_count": null,
      "outputs": []
    },
    {
      "cell_type": "code",
      "metadata": {
        "id": "oXKdY6wBSpns"
      },
      "source": [
        "# weak_ptz_top20는 과제2(어린이보호구역 중 취약 지역 top20 모음)\n",
        "\n",
        "weak_ptz_top20.to_file('weak_ptz_top20.geojson', driver='GeoJSON')"
      ],
      "execution_count": null,
      "outputs": []
    },
    {
      "cell_type": "markdown",
      "metadata": {
        "id": "vi0S8UW7Spns"
      },
      "source": [
        "## 시설물 설치 시 사고 위험도 변화량 시각화"
      ]
    },
    {
      "cell_type": "code",
      "metadata": {
        "id": "qN3fCeBKSpns"
      },
      "source": [
        "# 어린이보호구역 중 취약 상위 20 곳 중 교통시설물 설치 시 사고 위험도 예측치 변화 시각화\n",
        "\n",
        "weak_ptz_top20 = gpd.read_file('weak_ptz_top20.geojson')"
      ],
      "execution_count": null,
      "outputs": []
    },
    {
      "cell_type": "code",
      "metadata": {
        "id": "4LGwyjRlSpns",
        "outputId": "f4bf0018-99c5-4162-9e7a-16c1bc856f55"
      },
      "source": [
        "# 도로안내표지판 개수 변화에 따른 어린이보호구역 취약 상위 20 지역의 위험도 평균 변화\n",
        "\n",
        "clist = ['단속카메라','도로안내표지','횡단보도_전체면적','신호등','단속횟수','단속횟수_횡단보도위','traffic_sum',\n",
        "         'freq_sum','초등학교_300m','유치원_500m','cctv','버스정류장','체육시설','학원','car_cnt','float_type_H','float_type_M']\n",
        "\n",
        "\n",
        "# bef는 상위 20 곳의 원래 사고 예측값 평균 모음 리스트\n",
        "# aft는 상위 20 곳의 시설물 설치 시 예측값 평균 모음 리스트\n",
        "# count는 변화시킬 시설물의 개수\n",
        "\n",
        "bef = []\n",
        "aft = []\n",
        "count = [0, 1, 2, 3, 4, 5, 6, 7, 8, 9]\n",
        "\n",
        "for i in [0, 1, 2, 3, 4, 5, 6, 7, 8, 9]:\n",
        "    \n",
        "    # 시설물을 i만큼 늘릴 때 상위 20 곳 각각의 위험도 변화 저장\n",
        "    bef_i = []\n",
        "    aft_i = []\n",
        "    \n",
        "    # 20 곳 각각의 위험도 변화 산출\n",
        "    for j in [str(x) for x in weak_ptz_top20.gid]:\n",
        "        \n",
        "        # x_bef는 원래 변수값 / x_aft는 시설물 추가 설치 시 변수값\n",
        "        x_bef = weak_ptz_top20.loc[np.where(weak_ptz_top20.gid==j)[0], clist]\n",
        "        x_aft = x_bef.copy()\n",
        "\n",
        "        x_aft.도로안내표지 = x_bef.도로안내표지 + i\n",
        "        \n",
        "        bef_i.append(model_ESB.predict(x_bef)[0])\n",
        "        aft_i.append(model_ESB.predict(x_aft)[0])\n",
        "    \n",
        "    # 20 곳의 평균 위험도 저장\n",
        "    bef.append(np.mean(bef_i))\n",
        "    aft.append(np.mean(aft_i))    \n",
        "\n",
        "    \n",
        "    \n",
        "# 시설물 설치 개수에 따른 변화량 시각화\n",
        "series1 = pd.Series(bef, index=list(count))\n",
        "series2 = pd.Series(aft, index=list(count))\n",
        "series1.plot()\n",
        "series2.plot()    \n",
        "plt.xlabel('# of traffic signs')\n",
        "plt.ylabel('predicted accident risk')\n",
        "plt.title('change of average accident risk on top 20 place')\n",
        "plt.legend(['before', 'after'])"
      ],
      "execution_count": null,
      "outputs": [
        {
          "output_type": "execute_result",
          "data": {
            "text/plain": [
              "<matplotlib.legend.Legend at 0x7fee708a8518>"
            ]
          },
          "metadata": {
            "tags": []
          },
          "execution_count": 61
        },
        {
          "output_type": "display_data",
          "data": {
            "image/png": "[encoded data removed]",
            "text/plain": [
              "<Figure size 432x288 with 1 Axes>"
            ]
          },
          "metadata": {
            "tags": [],
            "needs_background": "light"
          }
        }
      ]
    },
    {
      "cell_type": "code",
      "metadata": {
        "id": "tBF1m_npSpnt",
        "outputId": "41c4e4c7-439a-4b19-b090-590bd63090cd"
      },
      "source": [
        "# 신호등 설치 개수 변화에 따른 어린이보호구역 취약 상위 20 지역의 위험도 평균 변화\n",
        "\n",
        "clist = ['단속카메라','도로안내표지','횡단보도_전체면적','신호등','단속횟수','단속횟수_횡단보도위','traffic_sum',\n",
        "         'freq_sum','초등학교_300m','유치원_500m','cctv','버스정류장','체육시설','학원','car_cnt','float_type_H','float_type_M']\n",
        "\n",
        "\n",
        "# bef는 상위 20 곳의 원래 사고 예측값 평균 모음 리스트\n",
        "# aft는 상위 20 곳의 시설물 설치 시 예측값 평균 모음 리스트\n",
        "# count는 변화시킬 시설물의 개수\n",
        "\n",
        "bef = []\n",
        "aft = []\n",
        "count = [0, 1, 2, 3, 4, 5, 6, 7, 8, 9]\n",
        "\n",
        "for i in [0, 1, 2, 3, 4, 5, 6, 7, 8, 9]:\n",
        "    \n",
        "    # 시설물을 i만큼 늘릴 때 상위 20 곳 각각의 위험도 변화 저장\n",
        "    bef_i = []\n",
        "    aft_i = []\n",
        "    \n",
        "    # 20 곳 각각의 위험도 변화 산출\n",
        "    for j in [str(x) for x in weak_ptz_top20.gid]:\n",
        "        \n",
        "        # x_bef는 원래 변수값 / x_aft는 시설물 추가 설치 시 변수값\n",
        "        x_bef = weak_ptz_top20.loc[np.where(weak_ptz_top20.gid==j)[0], clist]\n",
        "        x_aft = x_bef.copy()\n",
        "\n",
        "        x_aft.신호등 = x_bef.신호등 + i\n",
        "        \n",
        "        bef_i.append(model_ESB.predict(x_bef)[0])\n",
        "        aft_i.append(model_ESB.predict(x_aft)[0])\n",
        "    \n",
        "    # 20 곳의 평균 위험도 저장\n",
        "    bef.append(np.mean(bef_i))\n",
        "    aft.append(np.mean(aft_i))    \n",
        "\n",
        "    \n",
        "# 시설물 설치 개수에 따른 변화량 시각화\n",
        "series1 = pd.Series(bef, index=list(count))\n",
        "series2 = pd.Series(aft, index=list(count))\n",
        "series1.plot()\n",
        "series2.plot()    \n",
        "plt.xlabel('# of traffic lights')\n",
        "plt.ylabel('predicted accident risk')\n",
        "plt.title('change of average accident risk on top 20 place')\n",
        "plt.legend(['before', 'after'])"
      ],
      "execution_count": null,
      "outputs": [
        {
          "output_type": "execute_result",
          "data": {
            "text/plain": [
              "<matplotlib.legend.Legend at 0x7fee706fe1d0>"
            ]
          },
          "metadata": {
            "tags": []
          },
          "execution_count": 62
        },
        {
          "output_type": "display_data",
          "data": {
            "image/png": "[encoded data removed]",
            "text/plain": [
              "<Figure size 432x288 with 1 Axes>"
            ]
          },
          "metadata": {
            "tags": [],
            "needs_background": "light"
          }
        }
      ]
    },
    {
      "cell_type": "code",
      "metadata": {
        "id": "9N9YqFpSSpnt",
        "outputId": "785a9531-78a0-4eff-c3d6-228d80c48731"
      },
      "source": [
        "# 주정차 단속횟수 감소에 따른 어린이보호구역 취약 상위 20 지역의 위험도 평균 변화\n",
        "\n",
        "clist = ['단속카메라','도로안내표지','횡단보도_전체면적','신호등','단속횟수','단속횟수_횡단보도위','traffic_sum',\n",
        "         'freq_sum','초등학교_300m','유치원_500m','cctv','버스정류장','체육시설','학원','car_cnt','float_type_H','float_type_M']\n",
        "\n",
        "\n",
        "# bef는 상위 20 곳의 원래 사고 예측값 평균 모음 리스트\n",
        "# aft는 상위 20 곳의 시설물 설치 시 예측값 평균 모음 리스트\n",
        "# count는 원래 주정차 단속횟수에 곱해줄 값\n",
        "\n",
        "bef = []\n",
        "aft = []\n",
        "count = ['1/1', '1/2', '1/4', '1/10', '1/20', '1/100']\n",
        "\n",
        "for i in [1, 0.5, 0.25, 0.1, 0.05, 0.01]:\n",
        "    \n",
        "    # 주정차 단속을 i배만큼 감소시킬 때 상위 20 곳 각각의 위험도 변화 저장\n",
        "    bef_i = []\n",
        "    aft_i = []\n",
        "    \n",
        "    # 20 곳 각각의 위험도 변화 산출\n",
        "    for j in [str(x) for x in weak_ptz_top20.gid]:\n",
        "        \n",
        "        # x_bef는 원래 변수값 / x_aft는 주정차 단속횟수 감소 후 변수값\n",
        "        x_bef = weak_ptz_top20.loc[np.where(weak_ptz_top20.gid==j)[0], clist]\n",
        "        x_aft = x_bef.copy()\n",
        "\n",
        "        x_aft.단속횟수 = x_bef.단속횟수 * i\n",
        "        \n",
        "        bef_i.append(model_ESB.predict(x_bef)[0])\n",
        "        aft_i.append(model_ESB.predict(x_aft)[0])\n",
        "    \n",
        "    # 20 곳의 평균 위험도 저장\n",
        "    bef.append(np.mean(bef_i))\n",
        "    aft.append(np.mean(aft_i))    \n",
        "\n",
        "    \n",
        "# 주정차 단속 감소에 따른 변화량 시각화\n",
        "series1 = pd.Series(bef, index=list(count))\n",
        "series2 = pd.Series(aft, index=list(count))\n",
        "series1.plot()\n",
        "series2.plot()    \n",
        "plt.xlabel('decrease amount of drunk barrier')\n",
        "plt.ylabel('predicted accident risk')\n",
        "plt.title('change of average accident risk on top 20 place')\n",
        "plt.legend(['before', 'after'])"
      ],
      "execution_count": null,
      "outputs": [
        {
          "output_type": "execute_result",
          "data": {
            "text/plain": [
              "<matplotlib.legend.Legend at 0x7fee7061a7f0>"
            ]
          },
          "metadata": {
            "tags": []
          },
          "execution_count": 63
        },
        {
          "output_type": "display_data",
          "data": {
            "image/png": "[encoded data removed]",
            "text/plain": [
              "<Figure size 432x288 with 1 Axes>"
            ]
          },
          "metadata": {
            "tags": [],
            "needs_background": "light"
          }
        }
      ]
    }
  ]
}